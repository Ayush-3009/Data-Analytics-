{
 "cells": [
  {
   "cell_type": "markdown",
   "metadata": {
    "id": "j_HKz75wCFJU"
   },
   "source": [
    "# us-accidents-nalysis\n",
    "\n",
    "Use the \"Run\" button to execute the code."
   ]
  },
  {
   "cell_type": "code",
   "execution_count": null,
   "metadata": {
    "id": "qrpkOdp7CFJb"
   },
   "outputs": [],
   "source": [
    "!pip install jovian --upgrade --quiet"
   ]
  },
  {
   "cell_type": "code",
   "execution_count": null,
   "metadata": {
    "id": "5uXMESu0CFJd"
   },
   "outputs": [],
   "source": [
    "import jovian"
   ]
  },
  {
   "cell_type": "code",
   "execution_count": null,
   "metadata": {
    "colab": {
     "base_uri": "https://localhost:8080/",
     "height": 122
    },
    "executionInfo": {
     "elapsed": 130053,
     "status": "ok",
     "timestamp": 1658551083719,
     "user": {
      "displayName": "Ayush Yadav",
      "userId": "12800143263516178348"
     },
     "user_tz": -330
    },
    "id": "g8TVt6guCFJe",
    "outputId": "c4d7058a-b2f5-42a7-d795-000a07c9a308"
   },
   "outputs": [
    {
     "name": "stdout",
     "output_type": "stream",
     "text": [
      "[jovian] Detected Colab notebook...\u001b[0m\n",
      "[jovian] Please enter your API key ( from https://jovian.ai/ ):\u001b[0m\n",
      "API KEY: ··········\n",
      "[jovian] Uploading colab notebook to Jovian...\u001b[0m\n",
      "Committed successfully! https://jovian.ai/ayushay1010/us-accidents-nalysis\n"
     ]
    },
    {
     "data": {
      "application/vnd.google.colaboratory.intrinsic+json": {
       "type": "string"
      },
      "text/plain": [
       "'https://jovian.ai/ayushay1010/us-accidents-nalysis'"
      ]
     },
     "execution_count": 6,
     "metadata": {},
     "output_type": "execute_result"
    }
   ],
   "source": [
    "# Execute this to save new versions of the notebook\n",
    "jovian.commit(project=\"us-accidents-nalysis\")"
   ]
  },
  {
   "cell_type": "code",
   "execution_count": null,
   "metadata": {
    "colab": {
     "base_uri": "https://localhost:8080/"
    },
    "executionInfo": {
     "elapsed": 3559,
     "status": "ok",
     "timestamp": 1658551099318,
     "user": {
      "displayName": "Ayush Yadav",
      "userId": "12800143263516178348"
     },
     "user_tz": -330
    },
    "id": "3Yb8NYEUFPxQ",
    "outputId": "2046a7a2-5f50-4dd5-e92c-0017cb82561c"
   },
   "outputs": [
    {
     "name": "stdout",
     "output_type": "stream",
     "text": [
      "Looking in indexes: https://pypi.org/simple, https://us-python.pkg.dev/colab-wheels/public/simple/\n",
      "Collecting opendatasets\n",
      "  Downloading opendatasets-0.1.22-py3-none-any.whl (15 kB)\n",
      "Requirement already satisfied: tqdm in /usr/local/lib/python3.7/dist-packages (from opendatasets) (4.64.0)\n",
      "Requirement already satisfied: click in /usr/local/lib/python3.7/dist-packages (from opendatasets) (7.1.2)\n",
      "Requirement already satisfied: kaggle in /usr/local/lib/python3.7/dist-packages (from opendatasets) (1.5.12)\n",
      "Requirement already satisfied: certifi in /usr/local/lib/python3.7/dist-packages (from kaggle->opendatasets) (2022.6.15)\n",
      "Requirement already satisfied: python-slugify in /usr/local/lib/python3.7/dist-packages (from kaggle->opendatasets) (6.1.2)\n",
      "Requirement already satisfied: requests in /usr/local/lib/python3.7/dist-packages (from kaggle->opendatasets) (2.23.0)\n",
      "Requirement already satisfied: six>=1.10 in /usr/local/lib/python3.7/dist-packages (from kaggle->opendatasets) (1.15.0)\n",
      "Requirement already satisfied: python-dateutil in /usr/local/lib/python3.7/dist-packages (from kaggle->opendatasets) (2.8.2)\n",
      "Requirement already satisfied: urllib3 in /usr/local/lib/python3.7/dist-packages (from kaggle->opendatasets) (1.24.3)\n",
      "Requirement already satisfied: text-unidecode>=1.3 in /usr/local/lib/python3.7/dist-packages (from python-slugify->kaggle->opendatasets) (1.3)\n",
      "Requirement already satisfied: idna<3,>=2.5 in /usr/local/lib/python3.7/dist-packages (from requests->kaggle->opendatasets) (2.10)\n",
      "Requirement already satisfied: chardet<4,>=3.0.2 in /usr/local/lib/python3.7/dist-packages (from requests->kaggle->opendatasets) (3.0.4)\n",
      "Installing collected packages: opendatasets\n",
      "Successfully installed opendatasets-0.1.22\n"
     ]
    }
   ],
   "source": [
    "pip install opendatasets --upgrade"
   ]
  },
  {
   "cell_type": "code",
   "execution_count": null,
   "metadata": {
    "colab": {
     "base_uri": "https://localhost:8080/"
    },
    "executionInfo": {
     "elapsed": 239639,
     "status": "ok",
     "timestamp": 1658551344679,
     "user": {
      "displayName": "Ayush Yadav",
      "userId": "12800143263516178348"
     },
     "user_tz": -330
    },
    "id": "gGCuTz7hCFJf",
    "outputId": "7f9a9428-ad36-4113-b20c-70679ea083b6"
   },
   "outputs": [
    {
     "name": "stdout",
     "output_type": "stream",
     "text": [
      "Please provide your Kaggle credentials to download this dataset. Learn more: http://bit.ly/kaggle-creds\n",
      "Your Kaggle username: ayushyadav30\n",
      "Your Kaggle Key: ··········\n",
      "Downloading us-accidents.zip to ./us-accidents\n"
     ]
    },
    {
     "name": "stderr",
     "output_type": "stream",
     "text": [
      "100%|██████████| 269M/269M [00:05<00:00, 48.2MB/s]\n"
     ]
    },
    {
     "name": "stdout",
     "output_type": "stream",
     "text": [
      "\n"
     ]
    }
   ],
   "source": [
    "import opendatasets as od\n",
    "\n",
    "download_url = 'https://www.kaggle.com/datasets/sobhanmoosavi/us-accidents'\n",
    "\n",
    "od.download(download_url)"
   ]
  },
  {
   "cell_type": "code",
   "execution_count": null,
   "metadata": {
    "id": "nzvF8lX1Erc6"
   },
   "outputs": [],
   "source": [
    "data_filename = '/content/us-accidents/US_Accidents_Dec21_updated.csv'\n"
   ]
  },
  {
   "cell_type": "markdown",
   "metadata": {
    "id": "H28wZGqzPott"
   },
   "source": [
    "## Data Preparation and Cleaning\n",
    "\n",
    "Load the file using pandas\n",
    "\n",
    "Look at some info. about the data and columns\n",
    "\n",
    "Fix any missing or incorrect values"
   ]
  },
  {
   "cell_type": "code",
   "execution_count": null,
   "metadata": {
    "id": "OF8Lw0gxPu9n"
   },
   "outputs": [],
   "source": [
    "import pandas as pd"
   ]
  },
  {
   "cell_type": "code",
   "execution_count": null,
   "metadata": {
    "id": "22udI-44Q_0g"
   },
   "outputs": [],
   "source": [
    "df = pd.read_csv(data_filename)"
   ]
  },
  {
   "cell_type": "code",
   "execution_count": null,
   "metadata": {
    "colab": {
     "base_uri": "https://localhost:8080/",
     "height": 939
    },
    "executionInfo": {
     "elapsed": 2452,
     "status": "ok",
     "timestamp": 1658551405673,
     "user": {
      "displayName": "Ayush Yadav",
      "userId": "12800143263516178348"
     },
     "user_tz": -330
    },
    "id": "kXDrYYLrRHp4",
    "outputId": "cf0ac855-a01a-4fd9-cae1-e46c48014261"
   },
   "outputs": [
    {
     "data": {
      "text/html": [
       "\n",
       "  <div id=\"df-c17a09a4-2f3c-458d-92fd-ba1baeb3ad92\">\n",
       "    <div class=\"colab-df-container\">\n",
       "      <div>\n",
       "<style scoped>\n",
       "    .dataframe tbody tr th:only-of-type {\n",
       "        vertical-align: middle;\n",
       "    }\n",
       "\n",
       "    .dataframe tbody tr th {\n",
       "        vertical-align: top;\n",
       "    }\n",
       "\n",
       "    .dataframe thead th {\n",
       "        text-align: right;\n",
       "    }\n",
       "</style>\n",
       "<table border=\"1\" class=\"dataframe\">\n",
       "  <thead>\n",
       "    <tr style=\"text-align: right;\">\n",
       "      <th></th>\n",
       "      <th>ID</th>\n",
       "      <th>Severity</th>\n",
       "      <th>Start_Time</th>\n",
       "      <th>End_Time</th>\n",
       "      <th>Start_Lat</th>\n",
       "      <th>Start_Lng</th>\n",
       "      <th>End_Lat</th>\n",
       "      <th>End_Lng</th>\n",
       "      <th>Distance(mi)</th>\n",
       "      <th>Description</th>\n",
       "      <th>...</th>\n",
       "      <th>Roundabout</th>\n",
       "      <th>Station</th>\n",
       "      <th>Stop</th>\n",
       "      <th>Traffic_Calming</th>\n",
       "      <th>Traffic_Signal</th>\n",
       "      <th>Turning_Loop</th>\n",
       "      <th>Sunrise_Sunset</th>\n",
       "      <th>Civil_Twilight</th>\n",
       "      <th>Nautical_Twilight</th>\n",
       "      <th>Astronomical_Twilight</th>\n",
       "    </tr>\n",
       "  </thead>\n",
       "  <tbody>\n",
       "    <tr>\n",
       "      <th>0</th>\n",
       "      <td>A-1</td>\n",
       "      <td>3</td>\n",
       "      <td>2016-02-08 00:37:08</td>\n",
       "      <td>2016-02-08 06:37:08</td>\n",
       "      <td>40.108910</td>\n",
       "      <td>-83.092860</td>\n",
       "      <td>40.112060</td>\n",
       "      <td>-83.031870</td>\n",
       "      <td>3.230</td>\n",
       "      <td>Between Sawmill Rd/Exit 20 and OH-315/Olentang...</td>\n",
       "      <td>...</td>\n",
       "      <td>False</td>\n",
       "      <td>False</td>\n",
       "      <td>False</td>\n",
       "      <td>False</td>\n",
       "      <td>False</td>\n",
       "      <td>False</td>\n",
       "      <td>Night</td>\n",
       "      <td>Night</td>\n",
       "      <td>Night</td>\n",
       "      <td>Night</td>\n",
       "    </tr>\n",
       "    <tr>\n",
       "      <th>1</th>\n",
       "      <td>A-2</td>\n",
       "      <td>2</td>\n",
       "      <td>2016-02-08 05:56:20</td>\n",
       "      <td>2016-02-08 11:56:20</td>\n",
       "      <td>39.865420</td>\n",
       "      <td>-84.062800</td>\n",
       "      <td>39.865010</td>\n",
       "      <td>-84.048730</td>\n",
       "      <td>0.747</td>\n",
       "      <td>At OH-4/OH-235/Exit 41 - Accident.</td>\n",
       "      <td>...</td>\n",
       "      <td>False</td>\n",
       "      <td>False</td>\n",
       "      <td>False</td>\n",
       "      <td>False</td>\n",
       "      <td>False</td>\n",
       "      <td>False</td>\n",
       "      <td>Night</td>\n",
       "      <td>Night</td>\n",
       "      <td>Night</td>\n",
       "      <td>Night</td>\n",
       "    </tr>\n",
       "    <tr>\n",
       "      <th>2</th>\n",
       "      <td>A-3</td>\n",
       "      <td>2</td>\n",
       "      <td>2016-02-08 06:15:39</td>\n",
       "      <td>2016-02-08 12:15:39</td>\n",
       "      <td>39.102660</td>\n",
       "      <td>-84.524680</td>\n",
       "      <td>39.102090</td>\n",
       "      <td>-84.523960</td>\n",
       "      <td>0.055</td>\n",
       "      <td>At I-71/US-50/Exit 1 - Accident.</td>\n",
       "      <td>...</td>\n",
       "      <td>False</td>\n",
       "      <td>False</td>\n",
       "      <td>False</td>\n",
       "      <td>False</td>\n",
       "      <td>False</td>\n",
       "      <td>False</td>\n",
       "      <td>Night</td>\n",
       "      <td>Night</td>\n",
       "      <td>Night</td>\n",
       "      <td>Day</td>\n",
       "    </tr>\n",
       "    <tr>\n",
       "      <th>3</th>\n",
       "      <td>A-4</td>\n",
       "      <td>2</td>\n",
       "      <td>2016-02-08 06:51:45</td>\n",
       "      <td>2016-02-08 12:51:45</td>\n",
       "      <td>41.062130</td>\n",
       "      <td>-81.537840</td>\n",
       "      <td>41.062170</td>\n",
       "      <td>-81.535470</td>\n",
       "      <td>0.123</td>\n",
       "      <td>At Dart Ave/Exit 21 - Accident.</td>\n",
       "      <td>...</td>\n",
       "      <td>False</td>\n",
       "      <td>False</td>\n",
       "      <td>False</td>\n",
       "      <td>False</td>\n",
       "      <td>False</td>\n",
       "      <td>False</td>\n",
       "      <td>Night</td>\n",
       "      <td>Night</td>\n",
       "      <td>Day</td>\n",
       "      <td>Day</td>\n",
       "    </tr>\n",
       "    <tr>\n",
       "      <th>4</th>\n",
       "      <td>A-5</td>\n",
       "      <td>3</td>\n",
       "      <td>2016-02-08 07:53:43</td>\n",
       "      <td>2016-02-08 13:53:43</td>\n",
       "      <td>39.172393</td>\n",
       "      <td>-84.492792</td>\n",
       "      <td>39.170476</td>\n",
       "      <td>-84.501798</td>\n",
       "      <td>0.500</td>\n",
       "      <td>At Mitchell Ave/Exit 6 - Accident.</td>\n",
       "      <td>...</td>\n",
       "      <td>False</td>\n",
       "      <td>False</td>\n",
       "      <td>False</td>\n",
       "      <td>False</td>\n",
       "      <td>False</td>\n",
       "      <td>False</td>\n",
       "      <td>Day</td>\n",
       "      <td>Day</td>\n",
       "      <td>Day</td>\n",
       "      <td>Day</td>\n",
       "    </tr>\n",
       "    <tr>\n",
       "      <th>...</th>\n",
       "      <td>...</td>\n",
       "      <td>...</td>\n",
       "      <td>...</td>\n",
       "      <td>...</td>\n",
       "      <td>...</td>\n",
       "      <td>...</td>\n",
       "      <td>...</td>\n",
       "      <td>...</td>\n",
       "      <td>...</td>\n",
       "      <td>...</td>\n",
       "      <td>...</td>\n",
       "      <td>...</td>\n",
       "      <td>...</td>\n",
       "      <td>...</td>\n",
       "      <td>...</td>\n",
       "      <td>...</td>\n",
       "      <td>...</td>\n",
       "      <td>...</td>\n",
       "      <td>...</td>\n",
       "      <td>...</td>\n",
       "      <td>...</td>\n",
       "    </tr>\n",
       "    <tr>\n",
       "      <th>2845337</th>\n",
       "      <td>A-2845338</td>\n",
       "      <td>2</td>\n",
       "      <td>2019-08-23 18:03:25</td>\n",
       "      <td>2019-08-23 18:32:01</td>\n",
       "      <td>34.002480</td>\n",
       "      <td>-117.379360</td>\n",
       "      <td>33.998880</td>\n",
       "      <td>-117.370940</td>\n",
       "      <td>0.543</td>\n",
       "      <td>At Market St - Accident.</td>\n",
       "      <td>...</td>\n",
       "      <td>False</td>\n",
       "      <td>False</td>\n",
       "      <td>False</td>\n",
       "      <td>False</td>\n",
       "      <td>False</td>\n",
       "      <td>False</td>\n",
       "      <td>Day</td>\n",
       "      <td>Day</td>\n",
       "      <td>Day</td>\n",
       "      <td>Day</td>\n",
       "    </tr>\n",
       "    <tr>\n",
       "      <th>2845338</th>\n",
       "      <td>A-2845339</td>\n",
       "      <td>2</td>\n",
       "      <td>2019-08-23 19:11:30</td>\n",
       "      <td>2019-08-23 19:38:23</td>\n",
       "      <td>32.766960</td>\n",
       "      <td>-117.148060</td>\n",
       "      <td>32.765550</td>\n",
       "      <td>-117.153630</td>\n",
       "      <td>0.338</td>\n",
       "      <td>At Camino Del Rio/Mission Center Rd - Accident.</td>\n",
       "      <td>...</td>\n",
       "      <td>False</td>\n",
       "      <td>False</td>\n",
       "      <td>False</td>\n",
       "      <td>False</td>\n",
       "      <td>False</td>\n",
       "      <td>False</td>\n",
       "      <td>Day</td>\n",
       "      <td>Day</td>\n",
       "      <td>Day</td>\n",
       "      <td>Day</td>\n",
       "    </tr>\n",
       "    <tr>\n",
       "      <th>2845339</th>\n",
       "      <td>A-2845340</td>\n",
       "      <td>2</td>\n",
       "      <td>2019-08-23 19:00:21</td>\n",
       "      <td>2019-08-23 19:28:49</td>\n",
       "      <td>33.775450</td>\n",
       "      <td>-117.847790</td>\n",
       "      <td>33.777400</td>\n",
       "      <td>-117.857270</td>\n",
       "      <td>0.561</td>\n",
       "      <td>At Glassell St/Grand Ave - Accident. in the ri...</td>\n",
       "      <td>...</td>\n",
       "      <td>False</td>\n",
       "      <td>False</td>\n",
       "      <td>False</td>\n",
       "      <td>False</td>\n",
       "      <td>False</td>\n",
       "      <td>False</td>\n",
       "      <td>Day</td>\n",
       "      <td>Day</td>\n",
       "      <td>Day</td>\n",
       "      <td>Day</td>\n",
       "    </tr>\n",
       "    <tr>\n",
       "      <th>2845340</th>\n",
       "      <td>A-2845341</td>\n",
       "      <td>2</td>\n",
       "      <td>2019-08-23 19:00:21</td>\n",
       "      <td>2019-08-23 19:29:42</td>\n",
       "      <td>33.992460</td>\n",
       "      <td>-118.403020</td>\n",
       "      <td>33.983110</td>\n",
       "      <td>-118.395650</td>\n",
       "      <td>0.772</td>\n",
       "      <td>At CA-90/Marina Fwy/Jefferson Blvd - Accident.</td>\n",
       "      <td>...</td>\n",
       "      <td>False</td>\n",
       "      <td>False</td>\n",
       "      <td>False</td>\n",
       "      <td>False</td>\n",
       "      <td>False</td>\n",
       "      <td>False</td>\n",
       "      <td>Day</td>\n",
       "      <td>Day</td>\n",
       "      <td>Day</td>\n",
       "      <td>Day</td>\n",
       "    </tr>\n",
       "    <tr>\n",
       "      <th>2845341</th>\n",
       "      <td>A-2845342</td>\n",
       "      <td>2</td>\n",
       "      <td>2019-08-23 18:52:06</td>\n",
       "      <td>2019-08-23 19:21:31</td>\n",
       "      <td>34.133930</td>\n",
       "      <td>-117.230920</td>\n",
       "      <td>34.137360</td>\n",
       "      <td>-117.239340</td>\n",
       "      <td>0.537</td>\n",
       "      <td>At Highland Ave/Arden Ave - Accident.</td>\n",
       "      <td>...</td>\n",
       "      <td>False</td>\n",
       "      <td>False</td>\n",
       "      <td>False</td>\n",
       "      <td>False</td>\n",
       "      <td>False</td>\n",
       "      <td>False</td>\n",
       "      <td>Day</td>\n",
       "      <td>Day</td>\n",
       "      <td>Day</td>\n",
       "      <td>Day</td>\n",
       "    </tr>\n",
       "  </tbody>\n",
       "</table>\n",
       "<p>2845342 rows × 47 columns</p>\n",
       "</div>\n",
       "      <button class=\"colab-df-convert\" onclick=\"convertToInteractive('df-c17a09a4-2f3c-458d-92fd-ba1baeb3ad92')\"\n",
       "              title=\"Convert this dataframe to an interactive table.\"\n",
       "              style=\"display:none;\">\n",
       "        \n",
       "  <svg xmlns=\"http://www.w3.org/2000/svg\" height=\"24px\"viewBox=\"0 0 24 24\"\n",
       "       width=\"24px\">\n",
       "    <path d=\"M0 0h24v24H0V0z\" fill=\"none\"/>\n",
       "    <path d=\"M18.56 5.44l.94 2.06.94-2.06 2.06-.94-2.06-.94-.94-2.06-.94 2.06-2.06.94zm-11 1L8.5 8.5l.94-2.06 2.06-.94-2.06-.94L8.5 2.5l-.94 2.06-2.06.94zm10 10l.94 2.06.94-2.06 2.06-.94-2.06-.94-.94-2.06-.94 2.06-2.06.94z\"/><path d=\"M17.41 7.96l-1.37-1.37c-.4-.4-.92-.59-1.43-.59-.52 0-1.04.2-1.43.59L10.3 9.45l-7.72 7.72c-.78.78-.78 2.05 0 2.83L4 21.41c.39.39.9.59 1.41.59.51 0 1.02-.2 1.41-.59l7.78-7.78 2.81-2.81c.8-.78.8-2.07 0-2.86zM5.41 20L4 18.59l7.72-7.72 1.47 1.35L5.41 20z\"/>\n",
       "  </svg>\n",
       "      </button>\n",
       "      \n",
       "  <style>\n",
       "    .colab-df-container {\n",
       "      display:flex;\n",
       "      flex-wrap:wrap;\n",
       "      gap: 12px;\n",
       "    }\n",
       "\n",
       "    .colab-df-convert {\n",
       "      background-color: #E8F0FE;\n",
       "      border: none;\n",
       "      border-radius: 50%;\n",
       "      cursor: pointer;\n",
       "      display: none;\n",
       "      fill: #1967D2;\n",
       "      height: 32px;\n",
       "      padding: 0 0 0 0;\n",
       "      width: 32px;\n",
       "    }\n",
       "\n",
       "    .colab-df-convert:hover {\n",
       "      background-color: #E2EBFA;\n",
       "      box-shadow: 0px 1px 2px rgba(60, 64, 67, 0.3), 0px 1px 3px 1px rgba(60, 64, 67, 0.15);\n",
       "      fill: #174EA6;\n",
       "    }\n",
       "\n",
       "    [theme=dark] .colab-df-convert {\n",
       "      background-color: #3B4455;\n",
       "      fill: #D2E3FC;\n",
       "    }\n",
       "\n",
       "    [theme=dark] .colab-df-convert:hover {\n",
       "      background-color: #434B5C;\n",
       "      box-shadow: 0px 1px 3px 1px rgba(0, 0, 0, 0.15);\n",
       "      filter: drop-shadow(0px 1px 2px rgba(0, 0, 0, 0.3));\n",
       "      fill: #FFFFFF;\n",
       "    }\n",
       "  </style>\n",
       "\n",
       "      <script>\n",
       "        const buttonEl =\n",
       "          document.querySelector('#df-c17a09a4-2f3c-458d-92fd-ba1baeb3ad92 button.colab-df-convert');\n",
       "        buttonEl.style.display =\n",
       "          google.colab.kernel.accessAllowed ? 'block' : 'none';\n",
       "\n",
       "        async function convertToInteractive(key) {\n",
       "          const element = document.querySelector('#df-c17a09a4-2f3c-458d-92fd-ba1baeb3ad92');\n",
       "          const dataTable =\n",
       "            await google.colab.kernel.invokeFunction('convertToInteractive',\n",
       "                                                     [key], {});\n",
       "          if (!dataTable) return;\n",
       "\n",
       "          const docLinkHtml = 'Like what you see? Visit the ' +\n",
       "            '<a target=\"_blank\" href=https://colab.research.google.com/notebooks/data_table.ipynb>data table notebook</a>'\n",
       "            + ' to learn more about interactive tables.';\n",
       "          element.innerHTML = '';\n",
       "          dataTable['output_type'] = 'display_data';\n",
       "          await google.colab.output.renderOutput(dataTable, element);\n",
       "          const docLink = document.createElement('div');\n",
       "          docLink.innerHTML = docLinkHtml;\n",
       "          element.appendChild(docLink);\n",
       "        }\n",
       "      </script>\n",
       "    </div>\n",
       "  </div>\n",
       "  "
      ],
      "text/plain": [
       "                ID  Severity           Start_Time             End_Time  \\\n",
       "0              A-1         3  2016-02-08 00:37:08  2016-02-08 06:37:08   \n",
       "1              A-2         2  2016-02-08 05:56:20  2016-02-08 11:56:20   \n",
       "2              A-3         2  2016-02-08 06:15:39  2016-02-08 12:15:39   \n",
       "3              A-4         2  2016-02-08 06:51:45  2016-02-08 12:51:45   \n",
       "4              A-5         3  2016-02-08 07:53:43  2016-02-08 13:53:43   \n",
       "...            ...       ...                  ...                  ...   \n",
       "2845337  A-2845338         2  2019-08-23 18:03:25  2019-08-23 18:32:01   \n",
       "2845338  A-2845339         2  2019-08-23 19:11:30  2019-08-23 19:38:23   \n",
       "2845339  A-2845340         2  2019-08-23 19:00:21  2019-08-23 19:28:49   \n",
       "2845340  A-2845341         2  2019-08-23 19:00:21  2019-08-23 19:29:42   \n",
       "2845341  A-2845342         2  2019-08-23 18:52:06  2019-08-23 19:21:31   \n",
       "\n",
       "         Start_Lat   Start_Lng    End_Lat     End_Lng  Distance(mi)  \\\n",
       "0        40.108910  -83.092860  40.112060  -83.031870         3.230   \n",
       "1        39.865420  -84.062800  39.865010  -84.048730         0.747   \n",
       "2        39.102660  -84.524680  39.102090  -84.523960         0.055   \n",
       "3        41.062130  -81.537840  41.062170  -81.535470         0.123   \n",
       "4        39.172393  -84.492792  39.170476  -84.501798         0.500   \n",
       "...            ...         ...        ...         ...           ...   \n",
       "2845337  34.002480 -117.379360  33.998880 -117.370940         0.543   \n",
       "2845338  32.766960 -117.148060  32.765550 -117.153630         0.338   \n",
       "2845339  33.775450 -117.847790  33.777400 -117.857270         0.561   \n",
       "2845340  33.992460 -118.403020  33.983110 -118.395650         0.772   \n",
       "2845341  34.133930 -117.230920  34.137360 -117.239340         0.537   \n",
       "\n",
       "                                               Description  ...  Roundabout  \\\n",
       "0        Between Sawmill Rd/Exit 20 and OH-315/Olentang...  ...       False   \n",
       "1                       At OH-4/OH-235/Exit 41 - Accident.  ...       False   \n",
       "2                         At I-71/US-50/Exit 1 - Accident.  ...       False   \n",
       "3                          At Dart Ave/Exit 21 - Accident.  ...       False   \n",
       "4                       At Mitchell Ave/Exit 6 - Accident.  ...       False   \n",
       "...                                                    ...  ...         ...   \n",
       "2845337                           At Market St - Accident.  ...       False   \n",
       "2845338    At Camino Del Rio/Mission Center Rd - Accident.  ...       False   \n",
       "2845339  At Glassell St/Grand Ave - Accident. in the ri...  ...       False   \n",
       "2845340     At CA-90/Marina Fwy/Jefferson Blvd - Accident.  ...       False   \n",
       "2845341              At Highland Ave/Arden Ave - Accident.  ...       False   \n",
       "\n",
       "        Station   Stop Traffic_Calming Traffic_Signal Turning_Loop  \\\n",
       "0         False  False           False          False        False   \n",
       "1         False  False           False          False        False   \n",
       "2         False  False           False          False        False   \n",
       "3         False  False           False          False        False   \n",
       "4         False  False           False          False        False   \n",
       "...         ...    ...             ...            ...          ...   \n",
       "2845337   False  False           False          False        False   \n",
       "2845338   False  False           False          False        False   \n",
       "2845339   False  False           False          False        False   \n",
       "2845340   False  False           False          False        False   \n",
       "2845341   False  False           False          False        False   \n",
       "\n",
       "        Sunrise_Sunset Civil_Twilight Nautical_Twilight Astronomical_Twilight  \n",
       "0                Night          Night             Night                 Night  \n",
       "1                Night          Night             Night                 Night  \n",
       "2                Night          Night             Night                   Day  \n",
       "3                Night          Night               Day                   Day  \n",
       "4                  Day            Day               Day                   Day  \n",
       "...                ...            ...               ...                   ...  \n",
       "2845337            Day            Day               Day                   Day  \n",
       "2845338            Day            Day               Day                   Day  \n",
       "2845339            Day            Day               Day                   Day  \n",
       "2845340            Day            Day               Day                   Day  \n",
       "2845341            Day            Day               Day                   Day  \n",
       "\n",
       "[2845342 rows x 47 columns]"
      ]
     },
     "execution_count": 12,
     "metadata": {},
     "output_type": "execute_result"
    }
   ],
   "source": [
    "df"
   ]
  },
  {
   "cell_type": "code",
   "execution_count": null,
   "metadata": {
    "colab": {
     "base_uri": "https://localhost:8080/"
    },
    "executionInfo": {
     "elapsed": 980,
     "status": "ok",
     "timestamp": 1658551416924,
     "user": {
      "displayName": "Ayush Yadav",
      "userId": "12800143263516178348"
     },
     "user_tz": -330
    },
    "id": "8zwmNzvFTcFJ",
    "outputId": "a1bf3827-af27-401f-c10d-3ff5af30653a"
   },
   "outputs": [
    {
     "name": "stdout",
     "output_type": "stream",
     "text": [
      "<class 'pandas.core.frame.DataFrame'>\n",
      "RangeIndex: 2845342 entries, 0 to 2845341\n",
      "Data columns (total 47 columns):\n",
      " #   Column                 Dtype  \n",
      "---  ------                 -----  \n",
      " 0   ID                     object \n",
      " 1   Severity               int64  \n",
      " 2   Start_Time             object \n",
      " 3   End_Time               object \n",
      " 4   Start_Lat              float64\n",
      " 5   Start_Lng              float64\n",
      " 6   End_Lat                float64\n",
      " 7   End_Lng                float64\n",
      " 8   Distance(mi)           float64\n",
      " 9   Description            object \n",
      " 10  Number                 float64\n",
      " 11  Street                 object \n",
      " 12  Side                   object \n",
      " 13  City                   object \n",
      " 14  County                 object \n",
      " 15  State                  object \n",
      " 16  Zipcode                object \n",
      " 17  Country                object \n",
      " 18  Timezone               object \n",
      " 19  Airport_Code           object \n",
      " 20  Weather_Timestamp      object \n",
      " 21  Temperature(F)         float64\n",
      " 22  Wind_Chill(F)          float64\n",
      " 23  Humidity(%)            float64\n",
      " 24  Pressure(in)           float64\n",
      " 25  Visibility(mi)         float64\n",
      " 26  Wind_Direction         object \n",
      " 27  Wind_Speed(mph)        float64\n",
      " 28  Precipitation(in)      float64\n",
      " 29  Weather_Condition      object \n",
      " 30  Amenity                bool   \n",
      " 31  Bump                   bool   \n",
      " 32  Crossing               bool   \n",
      " 33  Give_Way               bool   \n",
      " 34  Junction               bool   \n",
      " 35  No_Exit                bool   \n",
      " 36  Railway                bool   \n",
      " 37  Roundabout             bool   \n",
      " 38  Station                bool   \n",
      " 39  Stop                   bool   \n",
      " 40  Traffic_Calming        bool   \n",
      " 41  Traffic_Signal         bool   \n",
      " 42  Turning_Loop           bool   \n",
      " 43  Sunrise_Sunset         object \n",
      " 44  Civil_Twilight         object \n",
      " 45  Nautical_Twilight      object \n",
      " 46  Astronomical_Twilight  object \n",
      "dtypes: bool(13), float64(13), int64(1), object(20)\n",
      "memory usage: 773.4+ MB\n"
     ]
    }
   ],
   "source": [
    "df.info()"
   ]
  },
  {
   "cell_type": "code",
   "execution_count": null,
   "metadata": {
    "colab": {
     "base_uri": "https://localhost:8080/",
     "height": 364
    },
    "executionInfo": {
     "elapsed": 1660,
     "status": "ok",
     "timestamp": 1658551423694,
     "user": {
      "displayName": "Ayush Yadav",
      "userId": "12800143263516178348"
     },
     "user_tz": -330
    },
    "id": "IPRjrB5nThE7",
    "outputId": "cf151e71-a5e1-4c29-9e33-314886eff1b5"
   },
   "outputs": [
    {
     "data": {
      "text/html": [
       "\n",
       "  <div id=\"df-1c7095e9-85f0-411c-afe9-1b2bce6bdd5e\">\n",
       "    <div class=\"colab-df-container\">\n",
       "      <div>\n",
       "<style scoped>\n",
       "    .dataframe tbody tr th:only-of-type {\n",
       "        vertical-align: middle;\n",
       "    }\n",
       "\n",
       "    .dataframe tbody tr th {\n",
       "        vertical-align: top;\n",
       "    }\n",
       "\n",
       "    .dataframe thead th {\n",
       "        text-align: right;\n",
       "    }\n",
       "</style>\n",
       "<table border=\"1\" class=\"dataframe\">\n",
       "  <thead>\n",
       "    <tr style=\"text-align: right;\">\n",
       "      <th></th>\n",
       "      <th>Severity</th>\n",
       "      <th>Start_Lat</th>\n",
       "      <th>Start_Lng</th>\n",
       "      <th>End_Lat</th>\n",
       "      <th>End_Lng</th>\n",
       "      <th>Distance(mi)</th>\n",
       "      <th>Number</th>\n",
       "      <th>Temperature(F)</th>\n",
       "      <th>Wind_Chill(F)</th>\n",
       "      <th>Humidity(%)</th>\n",
       "      <th>Pressure(in)</th>\n",
       "      <th>Visibility(mi)</th>\n",
       "      <th>Wind_Speed(mph)</th>\n",
       "      <th>Precipitation(in)</th>\n",
       "    </tr>\n",
       "  </thead>\n",
       "  <tbody>\n",
       "    <tr>\n",
       "      <th>count</th>\n",
       "      <td>2.845342e+06</td>\n",
       "      <td>2.845342e+06</td>\n",
       "      <td>2.845342e+06</td>\n",
       "      <td>2.845342e+06</td>\n",
       "      <td>2.845342e+06</td>\n",
       "      <td>2.845342e+06</td>\n",
       "      <td>1.101431e+06</td>\n",
       "      <td>2.776068e+06</td>\n",
       "      <td>2.375699e+06</td>\n",
       "      <td>2.772250e+06</td>\n",
       "      <td>2.786142e+06</td>\n",
       "      <td>2.774796e+06</td>\n",
       "      <td>2.687398e+06</td>\n",
       "      <td>2.295884e+06</td>\n",
       "    </tr>\n",
       "    <tr>\n",
       "      <th>mean</th>\n",
       "      <td>2.137572e+00</td>\n",
       "      <td>3.624520e+01</td>\n",
       "      <td>-9.711463e+01</td>\n",
       "      <td>3.624532e+01</td>\n",
       "      <td>-9.711439e+01</td>\n",
       "      <td>7.026779e-01</td>\n",
       "      <td>8.089408e+03</td>\n",
       "      <td>6.179356e+01</td>\n",
       "      <td>5.965823e+01</td>\n",
       "      <td>6.436545e+01</td>\n",
       "      <td>2.947234e+01</td>\n",
       "      <td>9.099391e+00</td>\n",
       "      <td>7.395044e+00</td>\n",
       "      <td>7.016940e-03</td>\n",
       "    </tr>\n",
       "    <tr>\n",
       "      <th>std</th>\n",
       "      <td>4.787216e-01</td>\n",
       "      <td>5.363797e+00</td>\n",
       "      <td>1.831782e+01</td>\n",
       "      <td>5.363873e+00</td>\n",
       "      <td>1.831763e+01</td>\n",
       "      <td>1.560361e+00</td>\n",
       "      <td>1.836009e+04</td>\n",
       "      <td>1.862263e+01</td>\n",
       "      <td>2.116097e+01</td>\n",
       "      <td>2.287457e+01</td>\n",
       "      <td>1.045286e+00</td>\n",
       "      <td>2.717546e+00</td>\n",
       "      <td>5.527454e+00</td>\n",
       "      <td>9.348831e-02</td>\n",
       "    </tr>\n",
       "    <tr>\n",
       "      <th>min</th>\n",
       "      <td>1.000000e+00</td>\n",
       "      <td>2.456603e+01</td>\n",
       "      <td>-1.245481e+02</td>\n",
       "      <td>2.456601e+01</td>\n",
       "      <td>-1.245457e+02</td>\n",
       "      <td>0.000000e+00</td>\n",
       "      <td>0.000000e+00</td>\n",
       "      <td>-8.900000e+01</td>\n",
       "      <td>-8.900000e+01</td>\n",
       "      <td>1.000000e+00</td>\n",
       "      <td>0.000000e+00</td>\n",
       "      <td>0.000000e+00</td>\n",
       "      <td>0.000000e+00</td>\n",
       "      <td>0.000000e+00</td>\n",
       "    </tr>\n",
       "    <tr>\n",
       "      <th>25%</th>\n",
       "      <td>2.000000e+00</td>\n",
       "      <td>3.344517e+01</td>\n",
       "      <td>-1.180331e+02</td>\n",
       "      <td>3.344628e+01</td>\n",
       "      <td>-1.180333e+02</td>\n",
       "      <td>5.200000e-02</td>\n",
       "      <td>1.270000e+03</td>\n",
       "      <td>5.000000e+01</td>\n",
       "      <td>4.600000e+01</td>\n",
       "      <td>4.800000e+01</td>\n",
       "      <td>2.931000e+01</td>\n",
       "      <td>1.000000e+01</td>\n",
       "      <td>3.500000e+00</td>\n",
       "      <td>0.000000e+00</td>\n",
       "    </tr>\n",
       "    <tr>\n",
       "      <th>50%</th>\n",
       "      <td>2.000000e+00</td>\n",
       "      <td>3.609861e+01</td>\n",
       "      <td>-9.241808e+01</td>\n",
       "      <td>3.609799e+01</td>\n",
       "      <td>-9.241772e+01</td>\n",
       "      <td>2.440000e-01</td>\n",
       "      <td>4.007000e+03</td>\n",
       "      <td>6.400000e+01</td>\n",
       "      <td>6.300000e+01</td>\n",
       "      <td>6.700000e+01</td>\n",
       "      <td>2.982000e+01</td>\n",
       "      <td>1.000000e+01</td>\n",
       "      <td>7.000000e+00</td>\n",
       "      <td>0.000000e+00</td>\n",
       "    </tr>\n",
       "    <tr>\n",
       "      <th>75%</th>\n",
       "      <td>2.000000e+00</td>\n",
       "      <td>4.016024e+01</td>\n",
       "      <td>-8.037243e+01</td>\n",
       "      <td>4.016105e+01</td>\n",
       "      <td>-8.037338e+01</td>\n",
       "      <td>7.640000e-01</td>\n",
       "      <td>9.567000e+03</td>\n",
       "      <td>7.600000e+01</td>\n",
       "      <td>7.600000e+01</td>\n",
       "      <td>8.300000e+01</td>\n",
       "      <td>3.001000e+01</td>\n",
       "      <td>1.000000e+01</td>\n",
       "      <td>1.000000e+01</td>\n",
       "      <td>0.000000e+00</td>\n",
       "    </tr>\n",
       "    <tr>\n",
       "      <th>max</th>\n",
       "      <td>4.000000e+00</td>\n",
       "      <td>4.900058e+01</td>\n",
       "      <td>-6.711317e+01</td>\n",
       "      <td>4.907500e+01</td>\n",
       "      <td>-6.710924e+01</td>\n",
       "      <td>1.551860e+02</td>\n",
       "      <td>9.999997e+06</td>\n",
       "      <td>1.960000e+02</td>\n",
       "      <td>1.960000e+02</td>\n",
       "      <td>1.000000e+02</td>\n",
       "      <td>5.890000e+01</td>\n",
       "      <td>1.400000e+02</td>\n",
       "      <td>1.087000e+03</td>\n",
       "      <td>2.400000e+01</td>\n",
       "    </tr>\n",
       "  </tbody>\n",
       "</table>\n",
       "</div>\n",
       "      <button class=\"colab-df-convert\" onclick=\"convertToInteractive('df-1c7095e9-85f0-411c-afe9-1b2bce6bdd5e')\"\n",
       "              title=\"Convert this dataframe to an interactive table.\"\n",
       "              style=\"display:none;\">\n",
       "        \n",
       "  <svg xmlns=\"http://www.w3.org/2000/svg\" height=\"24px\"viewBox=\"0 0 24 24\"\n",
       "       width=\"24px\">\n",
       "    <path d=\"M0 0h24v24H0V0z\" fill=\"none\"/>\n",
       "    <path d=\"M18.56 5.44l.94 2.06.94-2.06 2.06-.94-2.06-.94-.94-2.06-.94 2.06-2.06.94zm-11 1L8.5 8.5l.94-2.06 2.06-.94-2.06-.94L8.5 2.5l-.94 2.06-2.06.94zm10 10l.94 2.06.94-2.06 2.06-.94-2.06-.94-.94-2.06-.94 2.06-2.06.94z\"/><path d=\"M17.41 7.96l-1.37-1.37c-.4-.4-.92-.59-1.43-.59-.52 0-1.04.2-1.43.59L10.3 9.45l-7.72 7.72c-.78.78-.78 2.05 0 2.83L4 21.41c.39.39.9.59 1.41.59.51 0 1.02-.2 1.41-.59l7.78-7.78 2.81-2.81c.8-.78.8-2.07 0-2.86zM5.41 20L4 18.59l7.72-7.72 1.47 1.35L5.41 20z\"/>\n",
       "  </svg>\n",
       "      </button>\n",
       "      \n",
       "  <style>\n",
       "    .colab-df-container {\n",
       "      display:flex;\n",
       "      flex-wrap:wrap;\n",
       "      gap: 12px;\n",
       "    }\n",
       "\n",
       "    .colab-df-convert {\n",
       "      background-color: #E8F0FE;\n",
       "      border: none;\n",
       "      border-radius: 50%;\n",
       "      cursor: pointer;\n",
       "      display: none;\n",
       "      fill: #1967D2;\n",
       "      height: 32px;\n",
       "      padding: 0 0 0 0;\n",
       "      width: 32px;\n",
       "    }\n",
       "\n",
       "    .colab-df-convert:hover {\n",
       "      background-color: #E2EBFA;\n",
       "      box-shadow: 0px 1px 2px rgba(60, 64, 67, 0.3), 0px 1px 3px 1px rgba(60, 64, 67, 0.15);\n",
       "      fill: #174EA6;\n",
       "    }\n",
       "\n",
       "    [theme=dark] .colab-df-convert {\n",
       "      background-color: #3B4455;\n",
       "      fill: #D2E3FC;\n",
       "    }\n",
       "\n",
       "    [theme=dark] .colab-df-convert:hover {\n",
       "      background-color: #434B5C;\n",
       "      box-shadow: 0px 1px 3px 1px rgba(0, 0, 0, 0.15);\n",
       "      filter: drop-shadow(0px 1px 2px rgba(0, 0, 0, 0.3));\n",
       "      fill: #FFFFFF;\n",
       "    }\n",
       "  </style>\n",
       "\n",
       "      <script>\n",
       "        const buttonEl =\n",
       "          document.querySelector('#df-1c7095e9-85f0-411c-afe9-1b2bce6bdd5e button.colab-df-convert');\n",
       "        buttonEl.style.display =\n",
       "          google.colab.kernel.accessAllowed ? 'block' : 'none';\n",
       "\n",
       "        async function convertToInteractive(key) {\n",
       "          const element = document.querySelector('#df-1c7095e9-85f0-411c-afe9-1b2bce6bdd5e');\n",
       "          const dataTable =\n",
       "            await google.colab.kernel.invokeFunction('convertToInteractive',\n",
       "                                                     [key], {});\n",
       "          if (!dataTable) return;\n",
       "\n",
       "          const docLinkHtml = 'Like what you see? Visit the ' +\n",
       "            '<a target=\"_blank\" href=https://colab.research.google.com/notebooks/data_table.ipynb>data table notebook</a>'\n",
       "            + ' to learn more about interactive tables.';\n",
       "          element.innerHTML = '';\n",
       "          dataTable['output_type'] = 'display_data';\n",
       "          await google.colab.output.renderOutput(dataTable, element);\n",
       "          const docLink = document.createElement('div');\n",
       "          docLink.innerHTML = docLinkHtml;\n",
       "          element.appendChild(docLink);\n",
       "        }\n",
       "      </script>\n",
       "    </div>\n",
       "  </div>\n",
       "  "
      ],
      "text/plain": [
       "           Severity     Start_Lat     Start_Lng       End_Lat       End_Lng  \\\n",
       "count  2.845342e+06  2.845342e+06  2.845342e+06  2.845342e+06  2.845342e+06   \n",
       "mean   2.137572e+00  3.624520e+01 -9.711463e+01  3.624532e+01 -9.711439e+01   \n",
       "std    4.787216e-01  5.363797e+00  1.831782e+01  5.363873e+00  1.831763e+01   \n",
       "min    1.000000e+00  2.456603e+01 -1.245481e+02  2.456601e+01 -1.245457e+02   \n",
       "25%    2.000000e+00  3.344517e+01 -1.180331e+02  3.344628e+01 -1.180333e+02   \n",
       "50%    2.000000e+00  3.609861e+01 -9.241808e+01  3.609799e+01 -9.241772e+01   \n",
       "75%    2.000000e+00  4.016024e+01 -8.037243e+01  4.016105e+01 -8.037338e+01   \n",
       "max    4.000000e+00  4.900058e+01 -6.711317e+01  4.907500e+01 -6.710924e+01   \n",
       "\n",
       "       Distance(mi)        Number  Temperature(F)  Wind_Chill(F)  \\\n",
       "count  2.845342e+06  1.101431e+06    2.776068e+06   2.375699e+06   \n",
       "mean   7.026779e-01  8.089408e+03    6.179356e+01   5.965823e+01   \n",
       "std    1.560361e+00  1.836009e+04    1.862263e+01   2.116097e+01   \n",
       "min    0.000000e+00  0.000000e+00   -8.900000e+01  -8.900000e+01   \n",
       "25%    5.200000e-02  1.270000e+03    5.000000e+01   4.600000e+01   \n",
       "50%    2.440000e-01  4.007000e+03    6.400000e+01   6.300000e+01   \n",
       "75%    7.640000e-01  9.567000e+03    7.600000e+01   7.600000e+01   \n",
       "max    1.551860e+02  9.999997e+06    1.960000e+02   1.960000e+02   \n",
       "\n",
       "        Humidity(%)  Pressure(in)  Visibility(mi)  Wind_Speed(mph)  \\\n",
       "count  2.772250e+06  2.786142e+06    2.774796e+06     2.687398e+06   \n",
       "mean   6.436545e+01  2.947234e+01    9.099391e+00     7.395044e+00   \n",
       "std    2.287457e+01  1.045286e+00    2.717546e+00     5.527454e+00   \n",
       "min    1.000000e+00  0.000000e+00    0.000000e+00     0.000000e+00   \n",
       "25%    4.800000e+01  2.931000e+01    1.000000e+01     3.500000e+00   \n",
       "50%    6.700000e+01  2.982000e+01    1.000000e+01     7.000000e+00   \n",
       "75%    8.300000e+01  3.001000e+01    1.000000e+01     1.000000e+01   \n",
       "max    1.000000e+02  5.890000e+01    1.400000e+02     1.087000e+03   \n",
       "\n",
       "       Precipitation(in)  \n",
       "count       2.295884e+06  \n",
       "mean        7.016940e-03  \n",
       "std         9.348831e-02  \n",
       "min         0.000000e+00  \n",
       "25%         0.000000e+00  \n",
       "50%         0.000000e+00  \n",
       "75%         0.000000e+00  \n",
       "max         2.400000e+01  "
      ]
     },
     "execution_count": 14,
     "metadata": {},
     "output_type": "execute_result"
    }
   ],
   "source": [
    "df.describe()"
   ]
  },
  {
   "cell_type": "code",
   "execution_count": null,
   "metadata": {
    "colab": {
     "base_uri": "https://localhost:8080/"
    },
    "executionInfo": {
     "elapsed": 50,
     "status": "ok",
     "timestamp": 1658551427078,
     "user": {
      "displayName": "Ayush Yadav",
      "userId": "12800143263516178348"
     },
     "user_tz": -330
    },
    "id": "1Axwt_FpUA1P",
    "outputId": "19f4c478-96b1-4e4f-f949-ead11e243847"
   },
   "outputs": [
    {
     "data": {
      "text/plain": [
       "14"
      ]
     },
     "execution_count": 15,
     "metadata": {},
     "output_type": "execute_result"
    }
   ],
   "source": [
    "numerics = ['int16', 'int32', 'int64', 'float16', 'float32', 'float64']\n",
    "\n",
    "numeric_df = df.select_dtypes(include=numerics)\n",
    "len(numeric_df.columns)"
   ]
  },
  {
   "cell_type": "markdown",
   "metadata": {
    "id": "p9-BAKseZ4-z"
   },
   "source": [
    "### Percentage of missing values per column"
   ]
  },
  {
   "cell_type": "code",
   "execution_count": null,
   "metadata": {
    "colab": {
     "base_uri": "https://localhost:8080/"
    },
    "executionInfo": {
     "elapsed": 2787,
     "status": "ok",
     "timestamp": 1658551443782,
     "user": {
      "displayName": "Ayush Yadav",
      "userId": "12800143263516178348"
     },
     "user_tz": -330
    },
    "id": "_iHOh4MbTzZ4",
    "outputId": "c7b09a24-a16f-4701-ce5d-14f39253a88a"
   },
   "outputs": [
    {
     "data": {
      "text/plain": [
       "Number                   6.129003e-01\n",
       "Precipitation(in)        1.931079e-01\n",
       "Wind_Chill(F)            1.650568e-01\n",
       "Wind_Speed(mph)          5.550967e-02\n",
       "Wind_Direction           2.592834e-02\n",
       "Humidity(%)              2.568830e-02\n",
       "Weather_Condition        2.482514e-02\n",
       "Visibility(mi)           2.479350e-02\n",
       "Temperature(F)           2.434646e-02\n",
       "Pressure(in)             2.080593e-02\n",
       "Weather_Timestamp        1.783125e-02\n",
       "Airport_Code             3.356011e-03\n",
       "Timezone                 1.285961e-03\n",
       "Nautical_Twilight        1.007612e-03\n",
       "Civil_Twilight           1.007612e-03\n",
       "Sunrise_Sunset           1.007612e-03\n",
       "Astronomical_Twilight    1.007612e-03\n",
       "Zipcode                  4.635647e-04\n",
       "City                     4.814887e-05\n",
       "Street                   7.029032e-07\n",
       "Country                  0.000000e+00\n",
       "Junction                 0.000000e+00\n",
       "Start_Time               0.000000e+00\n",
       "End_Time                 0.000000e+00\n",
       "Start_Lat                0.000000e+00\n",
       "Turning_Loop             0.000000e+00\n",
       "Traffic_Signal           0.000000e+00\n",
       "Traffic_Calming          0.000000e+00\n",
       "Stop                     0.000000e+00\n",
       "Station                  0.000000e+00\n",
       "Roundabout               0.000000e+00\n",
       "Railway                  0.000000e+00\n",
       "No_Exit                  0.000000e+00\n",
       "Crossing                 0.000000e+00\n",
       "Give_Way                 0.000000e+00\n",
       "Bump                     0.000000e+00\n",
       "Amenity                  0.000000e+00\n",
       "Start_Lng                0.000000e+00\n",
       "End_Lat                  0.000000e+00\n",
       "End_Lng                  0.000000e+00\n",
       "Distance(mi)             0.000000e+00\n",
       "Description              0.000000e+00\n",
       "Severity                 0.000000e+00\n",
       "Side                     0.000000e+00\n",
       "County                   0.000000e+00\n",
       "State                    0.000000e+00\n",
       "ID                       0.000000e+00\n",
       "dtype: float64"
      ]
     },
     "execution_count": 16,
     "metadata": {},
     "output_type": "execute_result"
    }
   ],
   "source": [
    "missing_percentages = df.isna().sum().sort_values(ascending=False) / len(df)\n",
    "missing_percentages"
   ]
  },
  {
   "cell_type": "code",
   "execution_count": null,
   "metadata": {
    "colab": {
     "base_uri": "https://localhost:8080/"
    },
    "executionInfo": {
     "elapsed": 760,
     "status": "ok",
     "timestamp": 1658551448897,
     "user": {
      "displayName": "Ayush Yadav",
      "userId": "12800143263516178348"
     },
     "user_tz": -330
    },
    "id": "etxwfC3gUYhz",
    "outputId": "17e3970c-0357-4e81-ae40-7505f10a3912"
   },
   "outputs": [
    {
     "data": {
      "text/plain": [
       "pandas.core.series.Series"
      ]
     },
     "execution_count": 17,
     "metadata": {},
     "output_type": "execute_result"
    }
   ],
   "source": [
    "type(missing_percentages)  "
   ]
  },
  {
   "cell_type": "code",
   "execution_count": null,
   "metadata": {
    "colab": {
     "base_uri": "https://localhost:8080/",
     "height": 282
    },
    "executionInfo": {
     "elapsed": 371,
     "status": "ok",
     "timestamp": 1658551451977,
     "user": {
      "displayName": "Ayush Yadav",
      "userId": "12800143263516178348"
     },
     "user_tz": -330
    },
    "id": "D24AEc3cUY2z",
    "outputId": "9e9be55b-505c-4ca7-8fa1-5a71deee79aa"
   },
   "outputs": [
    {
     "data": {
      "text/plain": [
       "<matplotlib.axes._subplots.AxesSubplot at 0x7f20ad9f31d0>"
      ]
     },
     "execution_count": 18,
     "metadata": {},
     "output_type": "execute_result"
    },
    {
     "data": {
      "image/png": "[encoded data removed]",
      "text/plain": [
       "<Figure size 432x288 with 1 Axes>"
      ]
     },
     "metadata": {
      "needs_background": "light"
     },
     "output_type": "display_data"
    }
   ],
   "source": [
    "missing_percentages[missing_percentages != 0].plot(kind='barh')  "
   ]
  },
  {
   "cell_type": "code",
   "execution_count": null,
   "metadata": {
    "colab": {
     "base_uri": "https://localhost:8080/"
    },
    "executionInfo": {
     "elapsed": 6,
     "status": "ok",
     "timestamp": 1658535515759,
     "user": {
      "displayName": "Ayush Yadav",
      "userId": "12800143263516178348"
     },
     "user_tz": -330
    },
    "id": "BE4SPFDSay-i",
    "outputId": "93caf9d4-388c-4edf-c4c8-096b14056133"
   },
   "outputs": [
    {
     "data": {
      "text/plain": [
       "Index(['ID', 'Severity', 'Start_Time', 'End_Time', 'Start_Lat', 'Start_Lng',\n",
       "       'End_Lat', 'End_Lng', 'Distance(mi)', 'Description', 'Number', 'Street',\n",
       "       'Side', 'City', 'County', 'State', 'Zipcode', 'Country', 'Timezone',\n",
       "       'Airport_Code', 'Weather_Timestamp', 'Temperature(F)', 'Wind_Chill(F)',\n",
       "       'Humidity(%)', 'Pressure(in)', 'Visibility(mi)', 'Wind_Direction',\n",
       "       'Wind_Speed(mph)', 'Precipitation(in)', 'Weather_Condition', 'Amenity',\n",
       "       'Bump', 'Crossing', 'Give_Way', 'Junction', 'No_Exit', 'Railway',\n",
       "       'Roundabout', 'Station', 'Stop', 'Traffic_Calming', 'Traffic_Signal',\n",
       "       'Turning_Loop', 'Sunrise_Sunset', 'Civil_Twilight', 'Nautical_Twilight',\n",
       "       'Astronomical_Twilight'],\n",
       "      dtype='object')"
      ]
     },
     "execution_count": 27,
     "metadata": {},
     "output_type": "execute_result"
    }
   ],
   "source": [
    "df.columns"
   ]
  },
  {
   "cell_type": "markdown",
   "metadata": {
    "id": "jdvtnKgBavdO"
   },
   "source": [
    "## Exploratory Analysis and Visualization\n",
    "\n",
    "Columns we'll analyze:\n",
    "\n",
    "1.City\n",
    "\n",
    "2.Start Time\n",
    "\n",
    "3.Start Lat, Start Lng\n",
    "\n",
    "4.Temperature\n",
    "\n",
    "5.Weather Condition"
   ]
  },
  {
   "cell_type": "code",
   "execution_count": null,
   "metadata": {
    "colab": {
     "base_uri": "https://localhost:8080/"
    },
    "executionInfo": {
     "elapsed": 737,
     "status": "ok",
     "timestamp": 1658551479410,
     "user": {
      "displayName": "Ayush Yadav",
      "userId": "12800143263516178348"
     },
     "user_tz": -330
    },
    "id": "ZpwfwDqdcOMA",
    "outputId": "b0ac5a78-f180-4c48-9226-b129608f40fb"
   },
   "outputs": [
    {
     "data": {
      "text/plain": [
       "Index(['ID', 'Severity', 'Start_Time', 'End_Time', 'Start_Lat', 'Start_Lng',\n",
       "       'End_Lat', 'End_Lng', 'Distance(mi)', 'Description', 'Number', 'Street',\n",
       "       'Side', 'City', 'County', 'State', 'Zipcode', 'Country', 'Timezone',\n",
       "       'Airport_Code', 'Weather_Timestamp', 'Temperature(F)', 'Wind_Chill(F)',\n",
       "       'Humidity(%)', 'Pressure(in)', 'Visibility(mi)', 'Wind_Direction',\n",
       "       'Wind_Speed(mph)', 'Precipitation(in)', 'Weather_Condition', 'Amenity',\n",
       "       'Bump', 'Crossing', 'Give_Way', 'Junction', 'No_Exit', 'Railway',\n",
       "       'Roundabout', 'Station', 'Stop', 'Traffic_Calming', 'Traffic_Signal',\n",
       "       'Turning_Loop', 'Sunrise_Sunset', 'Civil_Twilight', 'Nautical_Twilight',\n",
       "       'Astronomical_Twilight'],\n",
       "      dtype='object')"
      ]
     },
     "execution_count": 19,
     "metadata": {},
     "output_type": "execute_result"
    }
   ],
   "source": [
    "df.columns"
   ]
  },
  {
   "cell_type": "markdown",
   "metadata": {
    "id": "6qN_pVA3Y5h3"
   },
   "source": [
    "#City"
   ]
  },
  {
   "cell_type": "code",
   "execution_count": null,
   "metadata": {
    "colab": {
     "base_uri": "https://localhost:8080/"
    },
    "executionInfo": {
     "elapsed": 14,
     "status": "ok",
     "timestamp": 1658551824662,
     "user": {
      "displayName": "Ayush Yadav",
      "userId": "12800143263516178348"
     },
     "user_tz": -330
    },
    "id": "dRWDNV0QX7n0",
    "outputId": "058d3cbf-b496-40b6-cb62-b5c4c40d69e6"
   },
   "outputs": [
    {
     "data": {
      "text/plain": [
       "0               Dublin\n",
       "1               Dayton\n",
       "2           Cincinnati\n",
       "3                Akron\n",
       "4           Cincinnati\n",
       "              ...     \n",
       "2845337      Riverside\n",
       "2845338      San Diego\n",
       "2845339         Orange\n",
       "2845340    Culver City\n",
       "2845341       Highland\n",
       "Name: City, Length: 2845342, dtype: object"
      ]
     },
     "execution_count": 21,
     "metadata": {},
     "output_type": "execute_result"
    }
   ],
   "source": [
    "df.City"
   ]
  },
  {
   "cell_type": "code",
   "execution_count": null,
   "metadata": {
    "colab": {
     "base_uri": "https://localhost:8080/"
    },
    "executionInfo": {
     "elapsed": 546,
     "status": "ok",
     "timestamp": 1658551856212,
     "user": {
      "displayName": "Ayush Yadav",
      "userId": "12800143263516178348"
     },
     "user_tz": -330
    },
    "id": "Y9gGDVimY44E",
    "outputId": "400e30ea-3e14-407b-dfd9-a756ba2065d9"
   },
   "outputs": [
    {
     "data": {
      "text/plain": [
       "11682"
      ]
     },
     "execution_count": 22,
     "metadata": {},
     "output_type": "execute_result"
    }
   ],
   "source": [
    "cities = df.City.unique()\n",
    "len(cities)"
   ]
  },
  {
   "cell_type": "code",
   "execution_count": null,
   "metadata": {
    "colab": {
     "base_uri": "https://localhost:8080/"
    },
    "executionInfo": {
     "elapsed": 40,
     "status": "ok",
     "timestamp": 1658551894432,
     "user": {
      "displayName": "Ayush Yadav",
      "userId": "12800143263516178348"
     },
     "user_tz": -330
    },
    "id": "S-sncaQYY4sw",
    "outputId": "f8436e13-5580-4bcf-892f-7c2bfe5f0541"
   },
   "outputs": [
    {
     "data": {
      "text/plain": [
       "Miami                           106966\n",
       "Los Angeles                      68956\n",
       "Orlando                          54691\n",
       "Dallas                           41979\n",
       "Houston                          39448\n",
       "                                 ...  \n",
       "Ridgedale                            1\n",
       "Sekiu                                1\n",
       "Wooldridge                           1\n",
       "Bullock                              1\n",
       "American Fork-Pleasant Grove         1\n",
       "Name: City, Length: 11681, dtype: int64"
      ]
     },
     "execution_count": 23,
     "metadata": {},
     "output_type": "execute_result"
    }
   ],
   "source": [
    "cities_by_accident = df.City.value_counts()\n",
    "cities_by_accident"
   ]
  },
  {
   "cell_type": "code",
   "execution_count": null,
   "metadata": {
    "colab": {
     "base_uri": "https://localhost:8080/"
    },
    "executionInfo": {
     "elapsed": 698,
     "status": "ok",
     "timestamp": 1658551920509,
     "user": {
      "displayName": "Ayush Yadav",
      "userId": "12800143263516178348"
     },
     "user_tz": -330
    },
    "id": "oOzsDJMwY4iw",
    "outputId": "31b363a2-a7ed-4a3f-d59d-2594196e0367"
   },
   "outputs": [
    {
     "data": {
      "text/plain": [
       "Miami           106966\n",
       "Los Angeles      68956\n",
       "Orlando          54691\n",
       "Dallas           41979\n",
       "Houston          39448\n",
       "Charlotte        33152\n",
       "Sacramento       32559\n",
       "San Diego        26627\n",
       "Raleigh          22840\n",
       "Minneapolis      22768\n",
       "Portland         20944\n",
       "Nashville        20267\n",
       "Austin           18301\n",
       "Baton Rouge      18182\n",
       "Phoenix          17143\n",
       "Saint Paul       16869\n",
       "New Orleans      16251\n",
       "Atlanta          15622\n",
       "Jacksonville     14967\n",
       "Richmond         14349\n",
       "Name: City, dtype: int64"
      ]
     },
     "execution_count": 24,
     "metadata": {},
     "output_type": "execute_result"
    }
   ],
   "source": [
    "cities_by_accident[:20]"
   ]
  },
  {
   "cell_type": "code",
   "execution_count": null,
   "metadata": {
    "colab": {
     "base_uri": "https://localhost:8080/"
    },
    "executionInfo": {
     "elapsed": 9,
     "status": "ok",
     "timestamp": 1658551943521,
     "user": {
      "displayName": "Ayush Yadav",
      "userId": "12800143263516178348"
     },
     "user_tz": -330
    },
    "id": "ZOO1bDplY4X3",
    "outputId": "a4e29e42-4cbb-4a51-b6a2-7b890035415b"
   },
   "outputs": [
    {
     "data": {
      "text/plain": [
       "pandas.core.series.Series"
      ]
     },
     "execution_count": 25,
     "metadata": {},
     "output_type": "execute_result"
    }
   ],
   "source": [
    "type(cities_by_accident)"
   ]
  },
  {
   "cell_type": "code",
   "execution_count": null,
   "metadata": {
    "colab": {
     "base_uri": "https://localhost:8080/",
     "height": 282
    },
    "executionInfo": {
     "elapsed": 1747,
     "status": "ok",
     "timestamp": 1658552036502,
     "user": {
      "displayName": "Ayush Yadav",
      "userId": "12800143263516178348"
     },
     "user_tz": -330
    },
    "id": "LEeW_8tJY4KD",
    "outputId": "bc912bfe-8260-41b2-a62a-f00243a1cc30"
   },
   "outputs": [
    {
     "data": {
      "text/plain": [
       "<matplotlib.axes._subplots.AxesSubplot at 0x7f20a3edbd10>"
      ]
     },
     "execution_count": 26,
     "metadata": {},
     "output_type": "execute_result"
    },
    {
     "data": {
      "image/png": "[encoded data removed]",
      "text/plain": [
       "<Figure size 432x288 with 1 Axes>"
      ]
     },
     "metadata": {
      "needs_background": "light"
     },
     "output_type": "display_data"
    }
   ],
   "source": [
    "cities_by_accident[:20].plot(kind='barh')"
   ]
  },
  {
   "cell_type": "code",
   "execution_count": null,
   "metadata": {
    "id": "fNSfX7W1Y3_Q"
   },
   "outputs": [],
   "source": [
    "import seaborn as sns\n",
    "sns.set_style(\"darkgrid\")"
   ]
  },
  {
   "cell_type": "code",
   "execution_count": null,
   "metadata": {
    "colab": {
     "base_uri": "https://localhost:8080/",
     "height": 300
    },
    "executionInfo": {
     "elapsed": 4277,
     "status": "ok",
     "timestamp": 1658552075496,
     "user": {
      "displayName": "Ayush Yadav",
      "userId": "12800143263516178348"
     },
     "user_tz": -330
    },
    "id": "FA31s0AEY3o_",
    "outputId": "d3f06920-e999-4514-8a9e-bd07b1246fb3"
   },
   "outputs": [
    {
     "data": {
      "text/plain": [
       "<matplotlib.axes._subplots.AxesSubplot at 0x7f20a3e991d0>"
      ]
     },
     "execution_count": 28,
     "metadata": {},
     "output_type": "execute_result"
    },
    {
     "data": {
      "image/png": "[encoded data removed]",
      "text/plain": [
       "<Figure size 432x288 with 1 Axes>"
      ]
     },
     "metadata": {},
     "output_type": "display_data"
    }
   ],
   "source": [
    "sns.histplot(cities_by_accident, log_scale=True)"
   ]
  },
  {
   "cell_type": "code",
   "execution_count": null,
   "metadata": {
    "colab": {
     "base_uri": "https://localhost:8080/"
    },
    "executionInfo": {
     "elapsed": 6,
     "status": "ok",
     "timestamp": 1658552088266,
     "user": {
      "displayName": "Ayush Yadav",
      "userId": "12800143263516178348"
     },
     "user_tz": -330
    },
    "id": "YPjj_C81Y20v",
    "outputId": "04534faa-c3f7-491d-e757-0b1aa0360a73"
   },
   "outputs": [
    {
     "data": {
      "text/plain": [
       "Carney                          1\n",
       "Waverly Hall                    1\n",
       "Center Sandwich                 1\n",
       "Glen Flora                      1\n",
       "Sulphur Springs                 1\n",
       "                               ..\n",
       "Ridgedale                       1\n",
       "Sekiu                           1\n",
       "Wooldridge                      1\n",
       "Bullock                         1\n",
       "American Fork-Pleasant Grove    1\n",
       "Name: City, Length: 1110, dtype: int64"
      ]
     },
     "execution_count": 29,
     "metadata": {},
     "output_type": "execute_result"
    }
   ],
   "source": [
    "cities_by_accident[cities_by_accident == 1]"
   ]
  },
  {
   "cell_type": "markdown",
   "metadata": {
    "id": "hdAENhypaNQH"
   },
   "source": [
    "# Start Time"
   ]
  },
  {
   "cell_type": "code",
   "execution_count": null,
   "metadata": {
    "colab": {
     "base_uri": "https://localhost:8080/"
    },
    "executionInfo": {
     "elapsed": 2471,
     "status": "ok",
     "timestamp": 1658553315147,
     "user": {
      "displayName": "Ayush Yadav",
      "userId": "12800143263516178348"
     },
     "user_tz": -330
    },
    "id": "ZL11zuGKX_sb",
    "outputId": "12f71fee-8dc4-481b-c6c0-77999659cb62"
   },
   "outputs": [
    {
     "data": {
      "text/plain": [
       "0          2016-02-08 00:37:08\n",
       "1          2016-02-08 05:56:20\n",
       "2          2016-02-08 06:15:39\n",
       "3          2016-02-08 06:51:45\n",
       "4          2016-02-08 07:53:43\n",
       "                  ...         \n",
       "2845337    2019-08-23 18:03:25\n",
       "2845338    2019-08-23 19:11:30\n",
       "2845339    2019-08-23 19:00:21\n",
       "2845340    2019-08-23 19:00:21\n",
       "2845341    2019-08-23 18:52:06\n",
       "Name: Start_Time, Length: 2845342, dtype: object"
      ]
     },
     "execution_count": 31,
     "metadata": {},
     "output_type": "execute_result"
    }
   ],
   "source": [
    "df.Start_Timesns.distplot(df.Start_Time.dt.hour, bins=24, kde=False, norm_hist=True)"
   ]
  },
  {
   "cell_type": "markdown",
   "metadata": {
    "id": "p-7Nd6XRYWuv"
   },
   "source": []
  },
  {
   "cell_type": "code",
   "execution_count": 32,
   "metadata": {
    "executionInfo": {
     "elapsed": 501,
     "status": "ok",
     "timestamp": 1658556295940,
     "user": {
      "displayName": "Ayush Yadav",
      "userId": "12800143263516178348"
     },
     "user_tz": -330
    },
    "id": "uD55HyEbgvXq"
   },
   "outputs": [],
   "source": [
    "df.Start_Time = pd.to_datetime(df.Start_Time)"
   ]
  },
  {
   "cell_type": "markdown",
   "metadata": {
    "id": "m-M77i8cqLvs"
   },
   "source": [
    "To figure out how to show percentages"
   ]
  },
  {
   "cell_type": "code",
   "execution_count": 33,
   "metadata": {
    "colab": {
     "base_uri": "https://localhost:8080/",
     "height": 352
    },
    "executionInfo": {
     "elapsed": 1890,
     "status": "ok",
     "timestamp": 1658556334357,
     "user": {
      "displayName": "Ayush Yadav",
      "userId": "12800143263516178348"
     },
     "user_tz": -330
    },
    "id": "Y_4xeZaygoCJ",
    "outputId": "546fdccc-0118-4ade-b97d-01e1b9d8b602"
   },
   "outputs": [
    {
     "name": "stderr",
     "output_type": "stream",
     "text": [
      "/usr/local/lib/python3.7/dist-packages/seaborn/distributions.py:2619: FutureWarning: `distplot` is a deprecated function and will be removed in a future version. Please adapt your code to use either `displot` (a figure-level function with similar flexibility) or `histplot` (an axes-level function for histograms).\n",
      "  warnings.warn(msg, FutureWarning)\n"
     ]
    },
    {
     "data": {
      "text/plain": [
       "<matplotlib.axes._subplots.AxesSubplot at 0x7f209780c150>"
      ]
     },
     "execution_count": 33,
     "metadata": {},
     "output_type": "execute_result"
    },
    {
     "data": {
      "image/png": "[encoded data removed]",
      "text/plain": [
       "<Figure size 432x288 with 1 Axes>"
      ]
     },
     "metadata": {},
     "output_type": "display_data"
    }
   ],
   "source": [
    "sns.distplot(df.Start_Time.dt.hour, bins=24, kde=False, norm_hist=True)"
   ]
  },
  {
   "cell_type": "markdown",
   "metadata": {
    "id": "mVnPJKzSgmEK"
   },
   "source": []
  },
  {
   "cell_type": "markdown",
   "metadata": {
    "id": "wYN08G7jgjBI"
   },
   "source": [
    "A high percentage of accidents occur between 6 am to 10 am (probably people in a hurry to get to work)\n",
    "\n",
    "Next higest percentage is 3 pm to 6 pm."
   ]
  },
  {
   "cell_type": "code",
   "execution_count": 34,
   "metadata": {
    "colab": {
     "base_uri": "https://localhost:8080/",
     "height": 352
    },
    "executionInfo": {
     "elapsed": 1406,
     "status": "ok",
     "timestamp": 1658556390603,
     "user": {
      "displayName": "Ayush Yadav",
      "userId": "12800143263516178348"
     },
     "user_tz": -330
    },
    "id": "AG7gsOOdX_3e",
    "outputId": "cb8f133b-ed6d-48a6-b005-32de785a3973"
   },
   "outputs": [
    {
     "name": "stderr",
     "output_type": "stream",
     "text": [
      "/usr/local/lib/python3.7/dist-packages/seaborn/distributions.py:2619: FutureWarning: `distplot` is a deprecated function and will be removed in a future version. Please adapt your code to use either `displot` (a figure-level function with similar flexibility) or `histplot` (an axes-level function for histograms).\n",
      "  warnings.warn(msg, FutureWarning)\n"
     ]
    },
    {
     "data": {
      "text/plain": [
       "<matplotlib.axes._subplots.AxesSubplot at 0x7f2097789c90>"
      ]
     },
     "execution_count": 34,
     "metadata": {},
     "output_type": "execute_result"
    },
    {
     "data": {
      "image/png": "[encoded data removed]",
      "text/plain": [
       "<Figure size 432x288 with 1 Axes>"
      ]
     },
     "metadata": {},
     "output_type": "display_data"
    }
   ],
   "source": [
    "sns.distplot(df.Start_Time.dt.dayofweek, bins=7, kde=False, norm_hist=True)"
   ]
  },
  {
   "cell_type": "markdown",
   "metadata": {
    "id": "XYipMETsqtU-"
   },
   "source": [
    "Is the distribution of accidents by hour the same on weekends as on weekdays."
   ]
  },
  {
   "cell_type": "code",
   "execution_count": 35,
   "metadata": {
    "colab": {
     "base_uri": "https://localhost:8080/",
     "height": 352
    },
    "executionInfo": {
     "elapsed": 1415,
     "status": "ok",
     "timestamp": 1658556452845,
     "user": {
      "displayName": "Ayush Yadav",
      "userId": "12800143263516178348"
     },
     "user_tz": -330
    },
    "id": "j8v-UUxeqnF9",
    "outputId": "cbb11729-5ddc-4aae-a9a3-e06d53ca64f6"
   },
   "outputs": [
    {
     "name": "stderr",
     "output_type": "stream",
     "text": [
      "/usr/local/lib/python3.7/dist-packages/seaborn/distributions.py:2619: FutureWarning: `distplot` is a deprecated function and will be removed in a future version. Please adapt your code to use either `displot` (a figure-level function with similar flexibility) or `histplot` (an axes-level function for histograms).\n",
      "  warnings.warn(msg, FutureWarning)\n"
     ]
    },
    {
     "data": {
      "text/plain": [
       "<matplotlib.axes._subplots.AxesSubplot at 0x7f20977f2a10>"
      ]
     },
     "execution_count": 35,
     "metadata": {},
     "output_type": "execute_result"
    },
    {
     "data": {
      "image/png": "[encoded data removed]",
      "text/plain": [
       "<Figure size 432x288 with 1 Axes>"
      ]
     },
     "metadata": {},
     "output_type": "display_data"
    }
   ],
   "source": [
    "sundays_start_time = df.Start_Time[df.Start_Time.dt.dayofweek == 6]\n",
    "sns.distplot(sundays_start_time.dt.hour, bins=24, kde=False, norm_hist=True)"
   ]
  },
  {
   "cell_type": "code",
   "execution_count": 36,
   "metadata": {
    "colab": {
     "base_uri": "https://localhost:8080/",
     "height": 352
    },
    "executionInfo": {
     "elapsed": 6386,
     "status": "ok",
     "timestamp": 1658556473651,
     "user": {
      "displayName": "Ayush Yadav",
      "userId": "12800143263516178348"
     },
     "user_tz": -330
    },
    "id": "EZGolVfUqnBu",
    "outputId": "3067e40a-4db9-4376-98d6-913d56b2e233"
   },
   "outputs": [
    {
     "name": "stderr",
     "output_type": "stream",
     "text": [
      "/usr/local/lib/python3.7/dist-packages/seaborn/distributions.py:2619: FutureWarning: `distplot` is a deprecated function and will be removed in a future version. Please adapt your code to use either `displot` (a figure-level function with similar flexibility) or `histplot` (an axes-level function for histograms).\n",
      "  warnings.warn(msg, FutureWarning)\n"
     ]
    },
    {
     "data": {
      "text/plain": [
       "<matplotlib.axes._subplots.AxesSubplot at 0x7f2097b9b790>"
      ]
     },
     "execution_count": 36,
     "metadata": {},
     "output_type": "execute_result"
    },
    {
     "data": {
      "image/png": "[encoded data removed]",
      "text/plain": [
       "<Figure size 432x288 with 1 Axes>"
      ]
     },
     "metadata": {},
     "output_type": "display_data"
    }
   ],
   "source": [
    "monday_start_time = df.Start_Time[df.Start_Time.dt.dayofweek == 0]\n",
    "sns.distplot(monday_start_time.dt.hour, bins=24, kde=False, norm_hist=True)"
   ]
  },
  {
   "cell_type": "markdown",
   "metadata": {
    "id": "17bOKW5lq60E"
   },
   "source": [
    "On Sundays, the peak occurs between 10 am and 3 pm, unlike weekdays"
   ]
  },
  {
   "cell_type": "code",
   "execution_count": 39,
   "metadata": {
    "colab": {
     "base_uri": "https://localhost:8080/",
     "height": 339
    },
    "executionInfo": {
     "elapsed": 651,
     "status": "error",
     "timestamp": 1658556685834,
     "user": {
      "displayName": "Ayush Yadav",
      "userId": "12800143263516178348"
     },
     "user_tz": -330
    },
    "id": "P0Ik3U3mqm-v",
    "outputId": "05716ab3-0b1a-4ed5-876c-1e6f38e6024c"
   },
   "outputs": [
    {
     "ename": "AttributeError",
     "evalue": "ignored",
     "output_type": "error",
     "traceback": [
      "\u001b[0;31m---------------------------------------------------------------------------\u001b[0m",
      "\u001b[0;31mAttributeError\u001b[0m                            Traceback (most recent call last)",
      "\u001b[0;32m<ipython-input-39-16c115767ef5>\u001b[0m in \u001b[0;36m<module>\u001b[0;34m()\u001b[0m\n\u001b[1;32m      1\u001b[0m \u001b[0mdf_2019\u001b[0m \u001b[0;34m=\u001b[0m \u001b[0mdf\u001b[0m\u001b[0;34m[\u001b[0m\u001b[0mdf\u001b[0m\u001b[0;34m.\u001b[0m\u001b[0mStart_Time\u001b[0m\u001b[0;34m.\u001b[0m\u001b[0mdt\u001b[0m\u001b[0;34m.\u001b[0m\u001b[0myear\u001b[0m \u001b[0;34m==\u001b[0m \u001b[0;36m2019\u001b[0m\u001b[0;34m]\u001b[0m\u001b[0;34m\u001b[0m\u001b[0;34m\u001b[0m\u001b[0m\n\u001b[0;32m----> 2\u001b[0;31m \u001b[0mdf_2019_Bing\u001b[0m \u001b[0;34m=\u001b[0m \u001b[0mdf_2019\u001b[0m\u001b[0;34m[\u001b[0m\u001b[0mdf_2019\u001b[0m\u001b[0;34m.\u001b[0m\u001b[0mSource\u001b[0m \u001b[0;34m==\u001b[0m \u001b[0;34m'MapQuest'\u001b[0m\u001b[0;34m]\u001b[0m\u001b[0;34m\u001b[0m\u001b[0;34m\u001b[0m\u001b[0m\n\u001b[0m\u001b[1;32m      3\u001b[0m \u001b[0;34m\u001b[0m\u001b[0m\n\u001b[1;32m      4\u001b[0m \u001b[0msns\u001b[0m\u001b[0;34m.\u001b[0m\u001b[0mdistplot\u001b[0m\u001b[0;34m(\u001b[0m\u001b[0mdf_2019_Bing\u001b[0m\u001b[0;34m.\u001b[0m\u001b[0mStart_Time\u001b[0m\u001b[0;34m.\u001b[0m\u001b[0mdt\u001b[0m\u001b[0;34m.\u001b[0m\u001b[0mmonth\u001b[0m\u001b[0;34m,\u001b[0m \u001b[0mbins\u001b[0m\u001b[0;34m=\u001b[0m\u001b[0;36m12\u001b[0m\u001b[0;34m,\u001b[0m \u001b[0mkde\u001b[0m\u001b[0;34m=\u001b[0m\u001b[0;32mFalse\u001b[0m\u001b[0;34m,\u001b[0m \u001b[0mnorm_hist\u001b[0m\u001b[0;34m=\u001b[0m\u001b[0;32mTrue\u001b[0m\u001b[0;34m)\u001b[0m\u001b[0;34m\u001b[0m\u001b[0;34m\u001b[0m\u001b[0m\n",
      "\u001b[0;32m/usr/local/lib/python3.7/dist-packages/pandas/core/generic.py\u001b[0m in \u001b[0;36m__getattr__\u001b[0;34m(self, name)\u001b[0m\n\u001b[1;32m   5485\u001b[0m         ):\n\u001b[1;32m   5486\u001b[0m             \u001b[0;32mreturn\u001b[0m \u001b[0mself\u001b[0m\u001b[0;34m[\u001b[0m\u001b[0mname\u001b[0m\u001b[0;34m]\u001b[0m\u001b[0;34m\u001b[0m\u001b[0;34m\u001b[0m\u001b[0m\n\u001b[0;32m-> 5487\u001b[0;31m         \u001b[0;32mreturn\u001b[0m \u001b[0mobject\u001b[0m\u001b[0;34m.\u001b[0m\u001b[0m__getattribute__\u001b[0m\u001b[0;34m(\u001b[0m\u001b[0mself\u001b[0m\u001b[0;34m,\u001b[0m \u001b[0mname\u001b[0m\u001b[0;34m)\u001b[0m\u001b[0;34m\u001b[0m\u001b[0;34m\u001b[0m\u001b[0m\n\u001b[0m\u001b[1;32m   5488\u001b[0m \u001b[0;34m\u001b[0m\u001b[0m\n\u001b[1;32m   5489\u001b[0m     \u001b[0;32mdef\u001b[0m \u001b[0m__setattr__\u001b[0m\u001b[0;34m(\u001b[0m\u001b[0mself\u001b[0m\u001b[0;34m,\u001b[0m \u001b[0mname\u001b[0m\u001b[0;34m:\u001b[0m \u001b[0mstr\u001b[0m\u001b[0;34m,\u001b[0m \u001b[0mvalue\u001b[0m\u001b[0;34m)\u001b[0m \u001b[0;34m->\u001b[0m \u001b[0;32mNone\u001b[0m\u001b[0;34m:\u001b[0m\u001b[0;34m\u001b[0m\u001b[0;34m\u001b[0m\u001b[0m\n",
      "\u001b[0;31mAttributeError\u001b[0m: 'DataFrame' object has no attribute 'Source'"
     ]
    }
   ],
   "source": [
    "df_2019 = df[df.Start_Time.dt.year == 2019]\n",
    "df_2019_Bing = df_2019[df_2019.Source == 'MapQuest']\n",
    "\n",
    "sns.distplot(df_2019_Bing.Start_Time.dt.month, bins=12, kde=False, norm_hist=True)"
   ]
  },
  {
   "cell_type": "markdown",
   "metadata": {
    "id": "bGIzYeEarNXN"
   },
   "source": [
    "Can you explain the month-wise trend of accidents?\n",
    "\n",
    "1.Much data is missing for 2016. Maybe even 2017.\n",
    "\n",
    "2.There seems to be some issue with the Bing data"
   ]
  },
  {
   "cell_type": "code",
   "execution_count": 38,
   "metadata": {
    "colab": {
     "base_uri": "https://localhost:8080/",
     "height": 287
    },
    "executionInfo": {
     "elapsed": 668,
     "status": "error",
     "timestamp": 1658556615415,
     "user": {
      "displayName": "Ayush Yadav",
      "userId": "12800143263516178348"
     },
     "user_tz": -330
    },
    "id": "_-H5IaNqqm7V",
    "outputId": "5262d396-d35b-481d-8f8d-db0e9cba6fbe"
   },
   "outputs": [
    {
     "ename": "AttributeError",
     "evalue": "ignored",
     "output_type": "error",
     "traceback": [
      "\u001b[0;31m---------------------------------------------------------------------------\u001b[0m",
      "\u001b[0;31mAttributeError\u001b[0m                            Traceback (most recent call last)",
      "\u001b[0;32m<ipython-input-38-c4b43588d175>\u001b[0m in \u001b[0;36m<module>\u001b[0;34m()\u001b[0m\n\u001b[0;32m----> 1\u001b[0;31m \u001b[0mdf\u001b[0m\u001b[0;34m.\u001b[0m\u001b[0mSource\u001b[0m\u001b[0;34m.\u001b[0m\u001b[0mvalue_counts\u001b[0m\u001b[0;34m(\u001b[0m\u001b[0;34m)\u001b[0m\u001b[0;34m.\u001b[0m\u001b[0mplot\u001b[0m\u001b[0;34m(\u001b[0m\u001b[0mkind\u001b[0m\u001b[0;34m=\u001b[0m\u001b[0;34m'pie'\u001b[0m\u001b[0;34m)\u001b[0m\u001b[0;34m\u001b[0m\u001b[0;34m\u001b[0m\u001b[0m\n\u001b[0m",
      "\u001b[0;32m/usr/local/lib/python3.7/dist-packages/pandas/core/generic.py\u001b[0m in \u001b[0;36m__getattr__\u001b[0;34m(self, name)\u001b[0m\n\u001b[1;32m   5485\u001b[0m         ):\n\u001b[1;32m   5486\u001b[0m             \u001b[0;32mreturn\u001b[0m \u001b[0mself\u001b[0m\u001b[0;34m[\u001b[0m\u001b[0mname\u001b[0m\u001b[0;34m]\u001b[0m\u001b[0;34m\u001b[0m\u001b[0;34m\u001b[0m\u001b[0m\n\u001b[0;32m-> 5487\u001b[0;31m         \u001b[0;32mreturn\u001b[0m \u001b[0mobject\u001b[0m\u001b[0;34m.\u001b[0m\u001b[0m__getattribute__\u001b[0m\u001b[0;34m(\u001b[0m\u001b[0mself\u001b[0m\u001b[0;34m,\u001b[0m \u001b[0mname\u001b[0m\u001b[0;34m)\u001b[0m\u001b[0;34m\u001b[0m\u001b[0;34m\u001b[0m\u001b[0m\n\u001b[0m\u001b[1;32m   5488\u001b[0m \u001b[0;34m\u001b[0m\u001b[0m\n\u001b[1;32m   5489\u001b[0m     \u001b[0;32mdef\u001b[0m \u001b[0m__setattr__\u001b[0m\u001b[0;34m(\u001b[0m\u001b[0mself\u001b[0m\u001b[0;34m,\u001b[0m \u001b[0mname\u001b[0m\u001b[0;34m:\u001b[0m \u001b[0mstr\u001b[0m\u001b[0;34m,\u001b[0m \u001b[0mvalue\u001b[0m\u001b[0;34m)\u001b[0m \u001b[0;34m->\u001b[0m \u001b[0;32mNone\u001b[0m\u001b[0;34m:\u001b[0m\u001b[0;34m\u001b[0m\u001b[0;34m\u001b[0m\u001b[0m\n",
      "\u001b[0;31mAttributeError\u001b[0m: 'DataFrame' object has no attribute 'Source'"
     ]
    }
   ],
   "source": [
    "df.Source.value_counts().plot(kind='pie')"
   ]
  },
  {
   "cell_type": "code",
   "execution_count": null,
   "metadata": {
    "id": "lzkMINchqmzv"
   },
   "outputs": [],
   "source": []
  },
  {
   "cell_type": "markdown",
   "metadata": {
    "id": "-85YLzBXsGet"
   },
   "source": [
    "## Start Latitude and Longitude"
   ]
  },
  {
   "cell_type": "code",
   "execution_count": 40,
   "metadata": {
    "colab": {
     "base_uri": "https://localhost:8080/"
    },
    "executionInfo": {
     "elapsed": 73,
     "status": "ok",
     "timestamp": 1658556829098,
     "user": {
      "displayName": "Ayush Yadav",
      "userId": "12800143263516178348"
     },
     "user_tz": -330
    },
    "id": "xBt0tyFRqmwl",
    "outputId": "8d3b68dd-d0cc-43b5-da35-9ae716476f8c"
   },
   "outputs": [
    {
     "data": {
      "text/plain": [
       "0          40.108910\n",
       "1          39.865420\n",
       "2          39.102660\n",
       "3          41.062130\n",
       "4          39.172393\n",
       "             ...    \n",
       "2845337    34.002480\n",
       "2845338    32.766960\n",
       "2845339    33.775450\n",
       "2845340    33.992460\n",
       "2845341    34.133930\n",
       "Name: Start_Lat, Length: 2845342, dtype: float64"
      ]
     },
     "execution_count": 40,
     "metadata": {},
     "output_type": "execute_result"
    }
   ],
   "source": [
    "df.Start_Lat"
   ]
  },
  {
   "cell_type": "code",
   "execution_count": 41,
   "metadata": {
    "colab": {
     "base_uri": "https://localhost:8080/"
    },
    "executionInfo": {
     "elapsed": 522,
     "status": "ok",
     "timestamp": 1658556840122,
     "user": {
      "displayName": "Ayush Yadav",
      "userId": "12800143263516178348"
     },
     "user_tz": -330
    },
    "id": "p21L5IFOqms4",
    "outputId": "2435ea7a-2835-4300-80e1-764f857ffef7"
   },
   "outputs": [
    {
     "data": {
      "text/plain": [
       "0          -83.092860\n",
       "1          -84.062800\n",
       "2          -84.524680\n",
       "3          -81.537840\n",
       "4          -84.492792\n",
       "              ...    \n",
       "2845337   -117.379360\n",
       "2845338   -117.148060\n",
       "2845339   -117.847790\n",
       "2845340   -118.403020\n",
       "2845341   -117.230920\n",
       "Name: Start_Lng, Length: 2845342, dtype: float64"
      ]
     },
     "execution_count": 41,
     "metadata": {},
     "output_type": "execute_result"
    }
   ],
   "source": [
    "df.Start_Lng"
   ]
  },
  {
   "cell_type": "code",
   "execution_count": 42,
   "metadata": {
    "executionInfo": {
     "elapsed": 1294,
     "status": "ok",
     "timestamp": 1658556852709,
     "user": {
      "displayName": "Ayush Yadav",
      "userId": "12800143263516178348"
     },
     "user_tz": -330
    },
    "id": "DxOr2B9rqmok"
   },
   "outputs": [],
   "source": [
    "sample_df = df.sample(int(0.1 * len(df)))"
   ]
  },
  {
   "cell_type": "code",
   "execution_count": 43,
   "metadata": {
    "colab": {
     "base_uri": "https://localhost:8080/",
     "height": 299
    },
    "executionInfo": {
     "elapsed": 10129,
     "status": "ok",
     "timestamp": 1658556868399,
     "user": {
      "displayName": "Ayush Yadav",
      "userId": "12800143263516178348"
     },
     "user_tz": -330
    },
    "id": "dy-lZlRFqmf0",
    "outputId": "156088cd-7c02-4c99-dd4c-e0039a62c2a4"
   },
   "outputs": [
    {
     "data": {
      "text/plain": [
       "<matplotlib.axes._subplots.AxesSubplot at 0x7f2097652250>"
      ]
     },
     "execution_count": 43,
     "metadata": {},
     "output_type": "execute_result"
    },
    {
     "data": {
      "image/png": "[encoded data removed]",
      "text/plain": [
       "<Figure size 432x288 with 1 Axes>"
      ]
     },
     "metadata": {},
     "output_type": "display_data"
    }
   ],
   "source": [
    "sns.scatterplot(x=sample_df.Start_Lng, y=sample_df.Start_Lat, size=0.001)"
   ]
  },
  {
   "cell_type": "code",
   "execution_count": 44,
   "metadata": {
    "executionInfo": {
     "elapsed": 567,
     "status": "ok",
     "timestamp": 1658556872618,
     "user": {
      "displayName": "Ayush Yadav",
      "userId": "12800143263516178348"
     },
     "user_tz": -330
    },
    "id": "Vu9JakfuqmK-"
   },
   "outputs": [],
   "source": [
    "import folium"
   ]
  },
  {
   "cell_type": "code",
   "execution_count": 45,
   "metadata": {
    "colab": {
     "base_uri": "https://localhost:8080/"
    },
    "executionInfo": {
     "elapsed": 508,
     "status": "ok",
     "timestamp": 1658556882914,
     "user": {
      "displayName": "Ayush Yadav",
      "userId": "12800143263516178348"
     },
     "user_tz": -330
    },
    "id": "d6qipJtiqmIm",
    "outputId": "3e61553a-2fa3-4034-de60-4025c067a6b4"
   },
   "outputs": [
    {
     "data": {
      "text/plain": [
       "(40.10891, -83.09286)"
      ]
     },
     "execution_count": 45,
     "metadata": {},
     "output_type": "execute_result"
    }
   ],
   "source": [
    "lat, lon = df.Start_Lat[0], df.Start_Lng[0]\n",
    "lat, lon"
   ]
  },
  {
   "cell_type": "code",
   "execution_count": 46,
   "metadata": {
    "colab": {
     "base_uri": "https://localhost:8080/"
    },
    "executionInfo": {
     "elapsed": 499,
     "status": "ok",
     "timestamp": 1658556891397,
     "user": {
      "displayName": "Ayush Yadav",
      "userId": "12800143263516178348"
     },
     "user_tz": -330
    },
    "id": "7Tgl8os1qmF-",
    "outputId": "faf17ebe-916f-4277-8e45-e64e9265acb0"
   },
   "outputs": [
    {
     "name": "stdout",
     "output_type": "stream",
     "text": [
      "119578     47.044380\n",
      "1977430    31.779774\n",
      "2191060    44.055990\n",
      "567308     41.794907\n",
      "170562     44.951830\n",
      "             ...    \n",
      "749923     34.067868\n",
      "2138569    34.149131\n",
      "2826467    42.896230\n",
      "2404064    34.121053\n",
      "1407644    39.852422\n",
      "Name: Start_Lat, Length: 100, dtype: float64\n",
      "119578    -123.255680\n",
      "1977430   -106.395445\n",
      "2191060   -121.307040\n",
      "567308     -88.385610\n",
      "170562     -93.133720\n",
      "              ...    \n",
      "749923    -117.397985\n",
      "2138569   -118.469156\n",
      "2826467    -84.089110\n",
      "2404064   -117.828754\n",
      "1407644    -77.687941\n",
      "Name: Start_Lng, Length: 100, dtype: float64\n"
     ]
    }
   ],
   "source": [
    "for x in df[['Start_Lat', 'Start_Lng']].sample(100).iteritems():\n",
    "    print(x[1])"
   ]
  },
  {
   "cell_type": "code",
   "execution_count": 47,
   "metadata": {
    "colab": {
     "base_uri": "https://localhost:8080/"
    },
    "executionInfo": {
     "elapsed": 626,
     "status": "ok",
     "timestamp": 1658556905610,
     "user": {
      "displayName": "Ayush Yadav",
      "userId": "12800143263516178348"
     },
     "user_tz": -330
    },
    "id": "QbIubG6IqmDI",
    "outputId": "a7b21b25-3e9b-4f06-af49-0e1de277a4ae"
   },
   "outputs": [
    {
     "data": {
      "text/plain": [
       "<zip at 0x7f208feb5960>"
      ]
     },
     "execution_count": 47,
     "metadata": {},
     "output_type": "execute_result"
    }
   ],
   "source": [
    "zip(list(df.Start_Lat), list(df.Start_Lng))"
   ]
  },
  {
   "cell_type": "code",
   "execution_count": 48,
   "metadata": {
    "executionInfo": {
     "elapsed": 513,
     "status": "ok",
     "timestamp": 1658556911043,
     "user": {
      "displayName": "Ayush Yadav",
      "userId": "12800143263516178348"
     },
     "user_tz": -330
    },
    "id": "xa2igXEeql_c"
   },
   "outputs": [],
   "source": [
    "from folium.plugins import HeatMap"
   ]
  },
  {
   "cell_type": "code",
   "execution_count": 49,
   "metadata": {
    "executionInfo": {
     "elapsed": 705,
     "status": "ok",
     "timestamp": 1658556919240,
     "user": {
      "displayName": "Ayush Yadav",
      "userId": "12800143263516178348"
     },
     "user_tz": -330
    },
    "id": "Iyh6OJWtql7n"
   },
   "outputs": [],
   "source": [
    "sample_df = df.sample(int(0.001 * len(df)))\n",
    "lat_lon_pairs = list(zip(list(sample_df.Start_Lat), list(sample_df.Start_Lng)))"
   ]
  },
  {
   "cell_type": "code",
   "execution_count": 50,
   "metadata": {
    "colab": {
     "base_uri": "https://localhost:8080/",
     "height": 685
    },
    "executionInfo": {
     "elapsed": 933,
     "status": "ok",
     "timestamp": 1658556930967,
     "user": {
      "displayName": "Ayush Yadav",
      "userId": "12800143263516178348"
     },
     "user_tz": -330
    },
    "id": "AdvUMhN6ql2o",
    "outputId": "4670d39c-841f-4ece-bfcc-df15bd545f89"
   },
   "outputs": [
    {
     "data": {
      "text/html": [
       "<div style=\"width:100%;\"><div style=\"position:relative;width:100%;height:0;padding-bottom:60%;\"><span style=\"color:#565656\">Make this Notebook Trusted to load map: File -> Trust Notebook</span><iframe srcdoc=\"&lt;!DOCTYPE html&gt;\n",
       "&lt;head&gt;    \n",
       "    &lt;meta http-equiv=&quot;content-type&quot; content=&quot;text/html; charset=UTF-8&quot; /&gt;\n",
       "    &lt;script&gt;L_PREFER_CANVAS=false; L_NO_TOUCH=false; L_DISABLE_3D=false;&lt;/script&gt;\n",
       "    &lt;script src=&quot;https://cdn.jsdelivr.net/npm/leaflet@1.4.0/dist/leaflet.js&quot;&gt;&lt;/script&gt;\n",
       "    &lt;script src=&quot;https://code.jquery.com/jquery-1.12.4.min.js&quot;&gt;&lt;/script&gt;\n",
       "    &lt;script src=&quot;https://maxcdn.bootstrapcdn.com/bootstrap/3.2.0/js/bootstrap.min.js&quot;&gt;&lt;/script&gt;\n",
       "    &lt;script src=&quot;https://cdnjs.cloudflare.com/ajax/libs/Leaflet.awesome-markers/2.0.2/leaflet.awesome-markers.js&quot;&gt;&lt;/script&gt;\n",
       "    &lt;link rel=&quot;stylesheet&quot; href=&quot;https://cdn.jsdelivr.net/npm/leaflet@1.4.0/dist/leaflet.css&quot;/&gt;\n",
       "    &lt;link rel=&quot;stylesheet&quot; href=&quot;https://maxcdn.bootstrapcdn.com/bootstrap/3.2.0/css/bootstrap.min.css&quot;/&gt;\n",
       "    &lt;link rel=&quot;stylesheet&quot; href=&quot;https://maxcdn.bootstrapcdn.com/bootstrap/3.2.0/css/bootstrap-theme.min.css&quot;/&gt;\n",
       "    &lt;link rel=&quot;stylesheet&quot; href=&quot;https://maxcdn.bootstrapcdn.com/font-awesome/4.6.3/css/font-awesome.min.css&quot;/&gt;\n",
       "    &lt;link rel=&quot;stylesheet&quot; href=&quot;https://cdnjs.cloudflare.com/ajax/libs/Leaflet.awesome-markers/2.0.2/leaflet.awesome-markers.css&quot;/&gt;\n",
       "    &lt;link rel=&quot;stylesheet&quot; href=&quot;https://rawcdn.githack.com/python-visualization/folium/master/folium/templates/leaflet.awesome.rotate.css&quot;/&gt;\n",
       "    &lt;style&gt;html, body {width: 100%;height: 100%;margin: 0;padding: 0;}&lt;/style&gt;\n",
       "    &lt;style&gt;#map {position:absolute;top:0;bottom:0;right:0;left:0;}&lt;/style&gt;\n",
       "    \n",
       "    &lt;meta name=&quot;viewport&quot; content=&quot;width=device-width,\n",
       "        initial-scale=1.0, maximum-scale=1.0, user-scalable=no&quot; /&gt;\n",
       "    &lt;style&gt;#map_e5d45e7f1f0f83e3609ca1321c9c3742 {\n",
       "        position: relative;\n",
       "        width: 100.0%;\n",
       "        height: 100.0%;\n",
       "        left: 0.0%;\n",
       "        top: 0.0%;\n",
       "        }\n",
       "    &lt;/style&gt;\n",
       "    &lt;script src=&quot;https://leaflet.github.io/Leaflet.heat/dist/leaflet-heat.js&quot;&gt;&lt;/script&gt;\n",
       "&lt;/head&gt;\n",
       "&lt;body&gt;    \n",
       "    \n",
       "    &lt;div class=&quot;folium-map&quot; id=&quot;map_e5d45e7f1f0f83e3609ca1321c9c3742&quot; &gt;&lt;/div&gt;\n",
       "&lt;/body&gt;\n",
       "&lt;script&gt;    \n",
       "    \n",
       "    \n",
       "        var bounds = null;\n",
       "    \n",
       "\n",
       "    var map_e5d45e7f1f0f83e3609ca1321c9c3742 = L.map(\n",
       "        &#x27;map_e5d45e7f1f0f83e3609ca1321c9c3742&#x27;, {\n",
       "        center: [0, 0],\n",
       "        zoom: 1,\n",
       "        maxBounds: bounds,\n",
       "        layers: [],\n",
       "        worldCopyJump: false,\n",
       "        crs: L.CRS.EPSG3857,\n",
       "        zoomControl: true,\n",
       "        });\n",
       "\n",
       "\n",
       "    \n",
       "    var tile_layer_afa23b91750e09267311c9a1a6cd7db8 = L.tileLayer(\n",
       "        &#x27;https://{s}.tile.openstreetmap.org/{z}/{x}/{y}.png&#x27;,\n",
       "        {\n",
       "        &quot;attribution&quot;: null,\n",
       "        &quot;detectRetina&quot;: false,\n",
       "        &quot;maxNativeZoom&quot;: 18,\n",
       "        &quot;maxZoom&quot;: 18,\n",
       "        &quot;minZoom&quot;: 0,\n",
       "        &quot;noWrap&quot;: false,\n",
       "        &quot;opacity&quot;: 1,\n",
       "        &quot;subdomains&quot;: &quot;abc&quot;,\n",
       "        &quot;tms&quot;: false\n",
       "}).addTo(map_e5d45e7f1f0f83e3609ca1321c9c3742);\n",
       "    \n",
       "            var heat_map_eb092bd4b3742debf39f626c5265ba14 = L.heatLayer(\n",
       "                [[35.55670300000001, -82.846924], [44.231653, -121.203627], [36.8414, -121.492407], [43.991307, -92.229098], [25.897229, -80.24471899999998], [45.135794, -93.452035], [37.575055, -122.046888], [42.24015, -87.90572], [45.157724, -93.165832], [44.9648, -93.28543], [43.037927, -83.677053], [36.19107, -86.18068000000002], [34.771025, -86.585769], [44.396635, -92.840557], [44.93935, -93.34865], [38.87962, -104.757], [39.01536, -77.12218], [42.496433, -83.351478], [42.741161, -73.693016], [43.546444, -116.381194], [30.010448, -90.01549399999998], [40.75327, -74.21083], [25.642714, -80.334553], [40.779394, -76.182686], [42.39199, -83.00595], [36.904421, -76.126036], [42.951468, -78.758851], [43.074862, -77.58485999999998], [34.03823, -117.55047], [38.27626, -122.0474], [45.484509, -122.5659], [25.76339, -80.336261], [45.469612, -94.134229], [34.215069, -92.714025], [41.10552, -73.42583], [37.763452, -77.46044300000001], [38.90895, -121.69313], [25.821425, -80.279962], [33.873971000000004, -117.695444], [34.137428, -117.239516], [38.747998, -121.268081], [25.929778, -80.210815], [25.48122, -80.412165], [32.876683, -79.99907900000002], [36.1526, -86.78730999999998], [30.750302, -86.274001], [43.978622, -94.539336], [37.0737, -120.860852], [38.93212, -110.489031], [47.568632, -122.354776], [39.876749, -83.45602], [33.74126, -78.94573000000003], [34.00315, -117.83135], [33.648579999999995, -117.738386], [42.90448, -78.76677], [39.760435, -84.253248], [36.30274, -86.69183000000002], [42.932628, -76.127604], [41.80619, -88.123638], [41.31276, -96.03339], [34.039732, -118.050981], [42.970279, -85.66194399999998], [35.172985, -80.876029], [39.00701, -77.49295], [36.071218, -86.6842], [30.170939, -97.69112], [32.443281, -80.995448], [47.268892, -122.318518], [33.014705, -80.23884699999998], [41.26795, -95.94943], [34.106002000000004, -80.82520699999998], [39.583729, -75.661951], [34.25732, -118.43593], [39.753649, -75.499995], [29.717749, -95.520069], [27.0724, -82.423674], [44.753573, -124.056177], [37.807184, -122.475274], [45.219914, -123.856739], [40.97014, -80.65968000000002], [41.22306, -96.04787], [34.0369, -118.31664], [32.97381, -80.24414], [32.869789000000004, -117.195091], [38.524757, -121.46745], [35.19164, -80.780568], [38.908004, -94.692001], [34.001001, -117.842069], [34.210792, -118.407093], [34.110419, -118.334407], [33.948519, -117.30156399999998], [38.940707, -77.133625], [29.65771, -97.42271], [40.44246500000001, -79.762855], [45.44353, -122.74014], [37.023835, -121.563181], [33.141621, -117.18716], [29.764205, -95.213036], [37.38426, -121.971409], [32.601601, -80.759505], [45.163487, -93.521478], [30.44262800000001, -91.138463], [25.78147, -80.332], [40.7198, -73.30227], [45.043913, -93.189049], [33.775406, -118.206976], [34.00202, -117.834878], [34.202961, -118.340867], [34.093814, -117.543193], [43.07683, -77.826454], [45.63854600000001, -123.940246], [42.19728900000001, -87.986183], [35.33585, -81.86710500000002], [37.79242, -122.219297], [32.74005, -97.22511], [36.172756, -82.896152], [40.577229, -75.793726], [34.03305, -118.130012], [37.30541, -77.40896], [30.402351, -86.871398], [33.924731, -118.210009], [45.68489, -108.700999], [40.750837, -73.750111], [29.71879, -95.55184], [38.154507, -121.675028], [39.564117, -104.900282], [40.95944, -73.7953], [25.865788, -80.242363], [38.9049, -77.21643], [43.11061, -77.54714], [33.923302, -118.20597], [35.37532, -76.97561], [25.68629, -80.38472], [38.917626, -76.927726], [35.225392, -80.865218], [37.573048, -122.31624], [32.843472, -117.236619], [35.78774, -78.87083], [39.800654, -76.985954], [45.508579, -122.778042], [25.769715, -80.334621], [25.921299, -80.309179], [33.805779, -117.233766], [33.462990999999995, -112.193166], [29.67429000000001, -95.57293], [34.690408000000005, -82.829923], [43.78191, -70.19452], [40.978036, -78.25732099999998], [33.693805, -79.003129], [34.304707, -81.633044], [43.204325, -83.734778], [34.068436, -117.342857], [30.540329, -84.601067], [44.964991, -93.28224], [38.130079, -121.589545], [34.058312, -118.178656], [36.182136, -119.330306], [35.125535, -80.917274], [28.553136, -81.362059], [28.54731, -81.43032], [38.705016, -77.206199], [27.942963, -82.544907], [28.576429, -81.45146899999997], [39.197695, -77.918031], [35.26054699999999, -80.795212], [40.69663, -111.98189], [40.87782, -73.903924], [42.16537, -88.15566], [33.234254, -84.807811], [43.093475, -76.08471], [42.377974, -87.85548], [36.962262, -76.26899399999998], [35.29950200000001, -118.985415], [30.725546, -86.568593], [38.884276, -111.599089], [32.799392, -96.793187], [34.159382, -118.225147], [28.486974, -81.413537], [33.582941, -81.808758], [32.820091, -96.628987], [25.763863, -80.303919], [36.846545, -75.99948], [44.208125, -93.9595], [31.684595, -90.807939], [36.743626, -119.809869], [38.841457, -76.94819100000002], [30.502371000000004, -91.131319], [36.75842700000001, -77.661891], [38.495969, -121.459148], [39.984313, -75.664139], [34.06815, -118.02351000000002], [39.365061, -77.18409], [29.945306, -90.080886], [34.061896999999995, -117.187567], [34.056051000000004, -118.255969], [28.97663, -82.36184399999998], [37.30177, -77.39197], [40.433499, -76.51865500000002], [34.003692, -118.289648], [28.566715, -81.205678], [41.27056, -96.02388], [39.442216, -76.343983], [32.878295, -96.687218], [28.558093, -81.244667], [32.58006, -117.08601000000002], [28.069242, -82.56522700000002], [33.945415999999994, -118.379784], [25.949739, -80.43212], [39.504661, -121.507948], [35.408658, -119.029997], [35.302839, -81.697024], [25.780802, -80.369013], [38.30449, -77.510695], [41.839402, -124.023931], [43.662956, -116.359426], [34.725548, -82.41659399999998], [40.122953, -111.654667], [41.763932, -72.643148], [40.246707, -75.650213], [44.018654, -123.952746], [34.154288, -118.468909], [38.22796, -85.78014], [35.602924, -78.563236], [32.79136, -96.74152], [38.013784, -121.998039], [28.28691, -81.588776], [33.260249, -117.158191], [41.98469, -87.83185], [36.761931, -77.49426899999997], [42.46541, -87.94665], [28.392874, -81.37246999999998], [32.735147, -117.174531], [35.371738, -119.043463], [30.439959, -91.100847], [40.899364, -74.254405], [44.922462, -92.972584], [28.03782, -82.45501], [28.016411, -82.72974599999998], [33.789776, -118.207756], [35.800483, -78.342683], [36.274544, -119.145203], [37.80647, -121.99071], [39.4413, -77.40408000000002], [42.3366, -88.03181], [43.710222, -122.297994], [34.23183, -118.4575], [41.78562, -71.42220999999998], [45.879116, -122.514847], [45.574647, -122.545934], [36.049897, -95.886306], [39.748908, -84.22766800000002], [28.433711, -82.475954], [34.013403000000004, -117.343972], [33.428984, -86.74407], [44.93053, -93.397854], [44.9648, -93.28543], [37.160088, -93.309142], [36.33944, -119.336362], [33.53362, -111.88364], [29.732351, -95.476551], [42.470301, -73.611756], [26.62223, -80.06739], [38.522911, -120.715808], [44.98425, -93.28784], [34.039732, -118.050981], [38.94647, -76.84464], [37.10769000000001, -76.495926], [40.80446, -73.29561], [37.761955, -121.443391], [33.915746, -118.370318], [32.67777, -117.083335], [37.818225, -77.057501], [41.573014, -72.65227800000002], [45.50725900000001, -122.719605], [37.750787, -121.50467], [26.28036, -81.74261], [46.896718, -103.185278], [38.0867, -121.25987], [28.31017, -81.56726], [28.40593, -81.40454], [34.00801, -117.96824], [39.78737, -104.98952], [37.89271, -121.28206000000002], [30.389408000000003, -87.01434300000004], [38.496726, -121.459742], [46.120756, -123.234522], [46.439649, -114.094348], [29.276794, -98.672322], [32.83935, -97.1513], [38.22352, -85.7976], [33.945561, -117.295349], [44.897712, -93.22299], [30.313168, -97.737028], [34.043387, -118.346344], [33.418911, -112.289545], [28.829138, -81.70007], [32.846428, -117.201193], [34.537632, -82.606415], [42.259293, -88.003926], [27.045775, -80.119847], [40.75798, -74.20492], [39.114258, -76.777789], [34.225059, -117.409632], [43.13994, -77.66854000000002], [30.379933, -97.738913], [37.57366, -77.459546], [37.091828, -121.156733], [34.130151, -118.349728], [39.948219, -74.95874], [38.372891, -121.954155], [28.452261, -81.030403], [36.678607, -119.785757], [38.02946, -122.74334], [28.206089, -82.666021], [38.491705, -120.935522], [40.858916, -74.36500600000002], [40.638629, -112.04463], [40.83042, -73.93220500000002], [38.560401, -121.458419], [28.189015, -82.376512], [37.94135900000001, -122.324179], [44.905382, -93.199349], [32.75946500000001, -96.974037], [33.831247, -84.33789200000002], [36.14355, -86.7021], [42.370774, -87.897887], [40.471926, -77.787634], [33.335684, -117.159007], [33.401189, -80.881056], [32.71501, -117.11772], [33.367243, -117.227668], [25.636892, -80.337274], [42.34646, -83.09655], [33.56006, -80.82557], [25.948947, -80.294232], [33.95727, -117.860931], [34.035693, -118.098623], [38.37549, -121.950162], [29.595539, -90.742713], [47.63045, -122.32651], [28.663116, -81.357911], [33.487379, -86.786704], [44.886242, -93.004664], [47.35426, -122.29663899999998], [46.617279, -111.893926], [34.036041, -118.183437], [33.98923, -118.07019], [43.157012, -77.638885], [37.476477, -77.567887], [34.01485, -118.485916], [38.993245, -77.278139], [34.490611, -81.938973], [35.869642, -78.581056], [38.852709, -77.00631700000002], [42.784803, -85.668346], [45.5304, -122.61497], [28.014761, -82.73654499999998], [40.182398, -74.620653], [40.463357, -78.836969], [39.612231, -76.306239], [40.869915, -123.522464], [37.879534, -122.307729], [30.178219, -97.803391], [32.745487, -117.188735], [44.930329, -93.34991], [41.80397, -88.05263000000002], [33.01732, -96.70859], [28.287945, -82.16726700000002], [35.28995, -97.4872], [36.192599, -83.887121], [41.89607, -112.55173], [33.825757, -118.234165], [26.677304, -80.103818], [32.775532, -96.787587], [33.68234, -117.855814], [28.332864, -81.526842], [44.785238, -123.038321], [34.067483, -117.545259], [44.915746, -92.979365], [39.911498, -104.990783], [40.10373, -74.79007], [45.869516, -111.164365], [26.667276, -81.888402], [33.451737, -112.219257], [34.15758, -118.4525], [38.53123, -90.31306], [34.154487, -118.377953], [38.619529, -121.418484], [30.139886, -81.539014], [29.673767, -95.587209], [33.773216, -118.039248], [36.961327, -122.062503], [37.40318, -122.046675], [38.878192, -76.84361899999998], [40.141829, -122.43633], [36.23422, -86.80166700000002], [25.698088, -80.297381], [33.764923, -111.494032], [30.501781, -91.109603], [42.50931, -83.11514], [33.197208, -117.125874], [30.168424, -81.593538], [41.668352, -72.844533], [41.84821, -87.643498], [38.527024, -121.762493], [28.552309, -81.462517], [30.191341, -81.69559100000002], [46.271658, -112.242531], [39.128311, -77.203685], [40.154052, -79.830361], [33.978759000000004, -118.077941], [32.659918, -117.069357], [27.821105, -82.697841], [29.919707, -90.01175500000002], [33.844712, -117.828327], [30.508238, -91.177462], [45.04519000000001, -93.32751], [44.466013, -119.459708], [40.046115, -80.64496700000002], [39.04603, -94.36293], [48.51052, -122.34115], [28.374658, -81.250507], [37.126497, -79.02040699999998], [32.909152, -96.698232], [25.796818, -80.324187], [38.875757, -77.04185600000002], [34.05171, -118.090428], [35.15847, -90.020361], [40.565108, -111.899583], [25.731925, -80.317114], [35.27645, -80.8037], [34.148387, -80.82728900000002], [37.807153, -122.475694], [40.180751, -75.087209], [36.757482, -119.661531], [37.674118, -122.46878999999998], [41.137757, -111.799061], [25.69138, -80.38895], [38.41565, -121.94486], [40.241316, -75.302401], [38.79531400000001, -77.170887], [46.099231, -123.065203], [34.063957, -81.138657], [34.162267, -81.344077], [37.703629, -120.921696], [41.168222, -73.200471], [32.923790000000004, -96.76877], [45.813063, -92.985996], [39.461343, -76.300025], [36.81829000000001, -121.63278], [34.004505, -118.063829], [32.336872, -95.314001], [25.688176, -80.332065], [39.21678, -84.42967], [34.02741, -117.916626], [45.53143, -122.68711], [30.174084000000004, -97.620219], [30.472276, -83.891272], [38.09165, -122.23049], [34.223279999999995, -118.24866000000002], [48.47045, -122.34211], [40.154795, -76.60362099999998], [40.786917, -124.206927], [34.073271000000005, -80.97012], [38.813803, -77.142297], [33.68325, -117.87605], [40.60826, -84.3585], [33.729873, -117.392783], [41.838887, -77.09399300000003], [33.48513, -84.44965], [34.152144, -118.150577], [32.829037, -96.707942], [38.738083, -120.712316], [26.16219, -80.16230999999998], [25.9423, -80.309174], [40.68109000000001, -80.24616999999998], [39.94262, -75.11346999999998], [38.24309, -85.69532], [34.07203, -117.295717], [37.944878, -77.35650600000002], [33.86898, -117.73051], [35.252541, -79.272032], [39.615486, -107.137395], [40.745249, -73.769491], [37.58338, -121.2091], [34.40314, -118.704972], [36.14977800000001, -115.243111], [38.871806, -76.98214300000002], [25.925428, -80.174002], [41.984521, -87.826262], [37.33895, -121.85148999999998], [30.116153000000004, -82.73054], [37.920486, -121.694835], [36.044964, -86.665063], [45.281502, -93.560765], [37.319446, -80.042019], [35.03246, -80.876743], [32.490978000000005, -93.788795], [33.853743, -117.924342], [27.005521, -80.208789], [43.883763, -120.935724], [39.755418, -75.55273100000002], [33.781768, -81.486786], [34.035138, -118.38344], [33.995763000000004, -118.280975], [35.02775, -89.767173], [33.932845, -118.368284], [25.924424, -80.31085300000002], [25.773418, -80.39269499999997], [39.188044, -76.79711800000003], [34.087912, -117.471157], [30.434312, -91.057491], [34.311549, -118.486903], [44.818457, -117.467547], [35.78505900000001, -78.68705], [41.026849, -121.422064], [33.956743, -117.548806], [40.08643, -74.21534], [33.462070000000004, -112.07012], [45.06687, -93.44768], [37.687211, -122.040708], [30.421204, -87.31730999999998], [40.60948, -111.96816], [41.709733, -72.028837], [26.633053000000004, -80.067859], [36.93173, -121.388642], [38.384867, -122.716094], [37.410094, -121.894115], [45.45299, -122.57255], [38.692807, -121.331199], [39.05358, -94.47833], [41.551428, -87.31093299999998], [39.894891, -75.10203], [25.69891, -80.38217900000002], [34.142234, -118.471271], [33.516272, -111.750386], [34.293748, -118.470693], [37.84828, -122.02786], [33.86098, -118.28513], [43.032929, -122.36746], [28.780597, -82.08708100000003], [45.07122, -93.18575], [42.184518, -88.090595], [34.394114, -118.571401], [34.012367, -117.823964], [29.6966, -95.31552], [35.52480300000001, -120.70403], [35.11525, -80.96222], [41.040901, -111.951581], [31.82196, -106.43802], [32.730079, -117.064073], [34.584652, -82.33720699999998], [47.6133, -122.33036], [42.732829, -73.698326], [40.406346, -80.003638], [33.32293, -81.028809], [30.50476, -84.25106], [47.568343, -122.363287], [36.343804, -121.259015], [40.145436, -76.11696500000002], [26.064926, -80.25233399999998], [34.755603, -92.40599], [34.176049, -118.307264], [29.959616, -90.019265], [38.551172, -121.354009], [42.611587, -123.381281], [33.415420000000005, -111.73643], [34.535812, -117.399395], [35.95899, -83.96638], [39.04746, -94.4519], [33.57798, -84.34121999999998], [41.93608, -87.70175], [45.416196, -122.567253], [38.802129, -77.051523], [38.581479, -121.40149], [39.604485, -74.814564], [47.341557, -114.691847], [37.394068, -120.739623], [32.717985, -117.147835], [44.941374, -93.347974], [36.159814, -119.600483], [48.095364, -114.216705], [37.467068, -77.42689200000002], [32.714996, -117.117722], [40.468407, -122.307432], [28.612682, -81.49750300000002], [41.6259, -87.69832], [36.175163, -86.765845], [34.030671000000005, -117.602458], [37.38726, -121.98184], [32.907539, -96.729608], [36.364603, -119.780966], [27.02525, -82.051233], [39.34168, -76.4663], [34.779614, -118.170479], [39.05247, -104.84873], [39.732576, -75.5243], [41.769666, -72.670826], [33.851564, -117.876894], [33.68868, -112.11285], [34.065533, -118.252322], [29.6757, -95.546015], [30.415143, -91.068754], [35.125644, -81.88443199999998], [40.859516, -73.82717], [37.493565, -121.055539], [44.025467, -123.028517], [35.151086, -118.814945], [43.188304, -73.739665], [25.684325, -80.41642900000002], [33.81041, -118.08132], [32.811358, -81.15683299999998], [37.03326, -76.3635], [41.73054000000001, -86.32786999999998], [40.59556, -75.330298], [29.70913, -95.22475], [38.536129, -121.447864], [40.37469, -104.99176], [40.92805, -73.83878], [38.49240800000001, -121.427277], [29.81318, -95.33532], [41.76943, -72.66351], [39.128643, -94.828689], [44.82978, -93.16729], [39.23754, -120.026978], [25.535667, -80.49116500000002], [34.537059, -79.51469200000003], [26.04269, -80.16289], [38.222689, -120.761716], [33.133035, -80.150411], [35.29518, -84.81265], [30.185543, -81.513483], [33.910578, -118.070636], [34.155476, -118.396495], [34.059483, -118.001377], [40.22972, -76.43321999999998], [30.350118, -97.514596], [27.244377000000004, -82.474653], [45.566832, -122.678512], [39.27332, -82.0929], [36.82912, -76.31083000000002], [35.14909, -80.80162299999998], [32.22094, -110.8411], [40.846791, -111.91467], [37.200345, -93.276181], [37.932715, -122.060323], [25.633943, -80.366497], [41.555759, -93.916889], [28.174128000000003, -82.74060300000002], [39.0722, -84.50414], [33.46154, -112.099153], [39.778527, -104.889729], [44.994324, -92.960203], [29.972972, -90.061918], [43.633724, -93.324834], [32.79385, -96.70278], [38.54097, -121.473727], [36.046348, -86.713363], [38.433538, -78.84545200000002], [47.30023, -122.25439], [34.995090999999995, -85.352586], [30.198194, -93.173716], [38.994949, -77.043312], [28.61099, -81.3867], [45.481094, -123.844867], [43.15409, -77.61953000000003], [44.26976, -121.17157], [42.973076, -85.651892], [38.55520300000001, -121.371137], [40.161132, -79.882178], [33.992643, -117.153762], [39.721949, -75.661587], [34.368961, -81.449584], [41.256811, -72.99495300000002], [25.596565, -80.41354], [32.303515999999995, -95.315167], [38.958605, -76.092505], [33.884661, -118.352382], [40.383314, -111.829884], [25.770323, -80.320688], [33.058235, -96.693607], [25.732843, -80.349036], [33.819512, -117.919274], [42.161196, -88.129011], [25.912604, -80.210254], [34.08717, -117.67452], [44.29881, -121.16798], [41.8063, -88.15580899999998], [43.99491, -123.00062], [33.967434000000004, -118.083407], [25.671911, -80.38509499999998], [35.952758, -86.55166], [41.576421, -72.65160300000002], [35.24467, -80.96934], [32.854493, -96.650354], [33.76616, -117.93717], [34.034921999999995, -118.334393], [33.85856, -117.87647], [30.446817, -91.138838], [29.9516, -95.41792], [25.925449, -80.29274000000002], [33.805642, -118.142538], [33.179590000000005, -117.34692], [35.85053, -78.61448], [33.87631, -118.12106], [34.051287, -118.261064], [36.15559, -96.010527], [38.781941, -77.450165], [40.766186, -73.89145], [40.607836, -77.569428], [41.763491, -72.640564], [40.082182, -77.434133], [29.646675, -95.541953], [33.899333, -79.047228], [38.6385, -90.45534], [32.92586, -96.803611], [28.48493, -81.417376], [30.049094, -89.98360100000002], [33.229508, -80.58992099999998], [38.238729, -77.499553], [35.49130200000001, -120.540907], [39.10158, -84.52348], [37.64376, -122.09323], [40.70564, -111.79575], [44.842356, -123.277132], [27.952232, -82.51909599999998], [38.803185, -76.998292], [40.57642, -105.00147], [28.452192, -81.400388], [35.28384099999999, -120.70397], [34.034017, -118.026972], [43.016791, -78.82226], [38.340464, -77.49211], [41.573322, -87.278944], [32.732805, -97.387243], [25.832191, -80.239143], [35.429208, -119.012248], [36.795131, -76.193694], [37.686615, -122.139124], [39.01687, -77.023831], [40.455898, -76.38054699999998], [35.18646, -80.731725], [41.046284, -73.799897], [40.270632, -121.410051], [39.237374, -76.708607], [33.854245, -117.893187], [38.807734, -78.59997800000002], [26.546368, -81.87161800000001], [39.131483, -77.914162], [40.194221, -76.677993], [45.298122, -93.552515], [41.059029, -73.838321], [45.549622, -94.205142], [39.87591, -75.12100000000002], [44.88914000000001, -93.38194], [40.81888, -73.0625], [35.07054, -81.7624], [46.936925, -122.412926], [33.927675, -118.269535], [38.59356, -122.85019], [42.370866, -83.059011], [40.71834000000001, -111.88826], [37.959712, -122.051595], [40.715747, -73.995364], [36.173688, -120.674339], [38.926438, -121.368573], [34.859958, -82.256596], [36.200001, -119.153615], [34.120486, -117.907589], [33.940897, -118.343915], [26.344199, -80.117896], [42.29286, -71.48479], [25.890601, -80.178383], [38.10311, -122.51451000000002], [35.526082, -77.140913], [45.01519, -123.97671], [45.658482, -118.729022], [34.045705, -118.451299], [28.884959, -82.094759], [40.69942, -111.9169], [40.40625900000001, -75.472487], [35.59095, -118.522728], [36.546807, -119.57505], [40.642223, -111.808335], [41.587361, -87.307845], [25.762969, -80.336248], [30.493393, -91.06504], [37.7014, -121.87685], [34.336652, -118.51246100000002], [33.27601, -117.445317], [25.811551, -80.252176], [44.965009, -93.287549], [34.130669, -117.92923], [43.10156, -75.24146999999998], [38.630311, -90.367584], [41.03049, -95.40135], [40.691232, -73.55179], [25.684604, -80.400559], [36.415845, -85.664183], [47.68092100000001, -117.283354], [37.55180900000001, -77.427536], [39.8497, -104.985848], [38.405693, -122.368144], [25.76107, -80.390812], [33.55738, -117.68115], [39.206729, -76.642415], [33.48052, -112.17783], [40.38946, -80.04172], [38.884338, -77.151371], [39.083224, -77.172039], [36.41508, -121.32093], [30.613821, -81.648105], [36.162, -86.82033100000002], [38.77207, -121.24548], [30.062203000000004, -95.433813], [42.195876, -73.974541], [36.173757, -86.822653], [28.004955, -82.307692], [37.841401, -122.297368], [44.982259, -93.348648], [39.40743300000001, -76.661857], [29.443552, -98.663968], [29.144364000000003, -80.96645799999997], [38.026219, -122.113198], [39.597761, -84.20975], [25.88585, -80.351156], [32.849706, -96.679687], [41.56978, -93.59693], [37.521564, -120.921363], [38.773445, -121.242834], [34.017251, -81.106608], [38.970824, -85.777354], [33.874272, -118.195735], [29.81375, -95.365437], [29.99871, -90.17717], [40.78435, -73.94199], [28.400717, -81.404706], [38.595165, -121.444301], [34.420407, -119.668958], [45.498395, -122.622634], [35.193056, -85.34329699999998], [30.369151, -98.073757], [33.602209, -117.691242], [28.421389, -81.400902], [45.53161, -122.25303999999998], [37.382192, -121.965119], [37.822803, -121.59545], [34.06767, -117.601078], [34.84292, -82.29305], [34.037711, -79.986465], [39.267185, -76.664872], [34.02843, -118.22993999999998], [43.060923, -121.8253], [33.800694, -118.206885], [30.42197800000001, -91.140009], [32.79902, -117.14943], [35.81476, -80.831932], [39.923726, -86.233416], [32.222426, -110.84108700000002], [34.003569, -117.830784], [33.994443, -118.07067], [39.05896, -104.85298], [40.758601, -73.60695], [36.97208, -120.07349], [41.57854, -81.54720999999998], [25.784858, -80.21611899999998], [35.126217, -85.345917], [35.786278, -78.647288], [25.767744, -80.33628399999998], [28.519318, -82.571302], [35.19956, -120.698252], [30.359069, -97.690003], [38.590412, -121.904722], [42.050932, -88.395964], [38.918743, -76.953779], [43.480909, -116.111245], [41.389904, -78.558582], [47.79551, -122.3154], [45.571787, -93.915361], [33.7417, -117.83709], [25.960184, -80.294731], [37.078742, -76.44861999999998], [33.9965, -117.9269], [42.49587, -83.366349], [40.417517, -74.500867], [37.189841, -120.332746], [28.072867, -82.347409], [33.46236, -112.4706], [27.979974, -82.360171], [38.452004, -121.277413], [42.978087, -77.075998], [34.727579, -92.264889], [26.804440000000003, -80.09824], [40.72009, -111.90364], [34.071875, -118.089026], [44.839957, -93.245054], [33.997609999999995, -118.369306], [25.80482, -80.313055], [25.778378, -80.32028299999998], [45.293644, -93.779296], [33.139454, -117.14918], [40.68702, -111.88828], [45.50478, -122.4181], [45.174096, -93.122316], [36.87005, -79.012233], [40.08342800000001, -74.93459200000002], [43.440424, -76.48835], [25.896732, -80.379795], [40.83042, -73.93220500000002], [35.74637, -78.58612], [34.135220000000004, -118.35876], [28.537, -81.37581999999998], [33.517992, -112.269243], [33.943179, -78.972957], [37.77848, -122.40061], [38.916211, -121.990201], [33.874123, -117.880506], [26.681965, -81.884739], [38.67085, -90.60428], [42.29063, -83.13027], [26.159985, -80.164114], [28.296032, -81.59928599999998], [29.785, -95.60532], [38.903988, -76.923587], [27.893819, -82.701787], [38.729125, -121.32756], [29.017628, -81.236136], [29.964607, -90.108777], [27.946679, -82.35379300000002], [42.377099, -87.865299], [35.664343, -78.700469], [36.985079, -121.442002], [39.87037, -76.951657], [30.204208, -85.66237], [35.07063, -81.678045], [37.371779, -121.965829], [45.015052, -93.470832], [29.746373, -95.53478], [39.688491, -86.10383399999998], [33.98813, -118.330671], [40.346285, -111.762867], [36.008201, -80.438375], [40.82368, -73.87745], [33.799646, -84.488385], [34.435534000000004, -119.770444], [37.923291, -122.061291], [37.41219, -122.079044], [36.149495, -86.782656], [34.303004, -117.841106], [28.283234000000004, -81.3735], [40.919161, -122.398547], [34.036919, -118.300363], [37.823427, -122.208815], [40.696605, -111.991714], [38.842731, -76.864804], [33.892748, -118.282164], [29.508585, -98.398033], [40.627283, -74.632243], [29.987686, -90.079639], [38.743674, -77.188149], [25.700068, -80.41257399999998], [40.8931, -74.22556], [37.575949, -122.047448], [35.53060900000001, -118.649486], [40.076054, -111.95859], [35.21339000000001, -80.86346], [40.807509, -111.923548], [42.767154, -73.630368], [41.551563, -72.800487], [35.296949, -80.74431899999998], [34.0723, -117.93224], [45.47944, -122.85827], [27.298874, -82.531462], [33.873109, -118.058127], [33.3674, -111.92862], [41.195216, -78.593762], [40.77109, -112.075063], [33.799898, -118.01105], [40.008419, -75.19110500000002], [32.791418, -96.624852], [36.130744, -86.727506], [42.04145, -87.86950999999998], [34.732456, -79.644447], [45.03623, -92.83288], [37.78173, -122.397252], [33.526773, -81.631365], [38.648156, -121.373851], [30.390409, -87.06339100000002], [34.987388, -85.202375], [37.60181, -77.56396], [33.687353, -117.88567], [30.656694, -87.905548], [47.477492, -122.271598], [41.182674, -74.049767], [34.832417, -82.292007], [25.942296, -80.30827], [40.847779, -73.826698], [29.99176, -90.05340799999998], [30.462423, -87.301715], [47.84466, -122.25858999999998], [42.233537, -93.571296], [38.822204, -77.440354], [33.864989, -118.047872], [35.931525, -76.14749499999998], [47.12426, -122.434833], [39.31822, -120.61126000000002], [43.380499, -75.357051], [32.7382, -97.45127], [33.85157, -117.840817], [39.945092, -75.190764], [39.902343, -120.858697], [33.930475, -118.368519], [27.29515300000001, -82.50795], [32.546755, -93.772276], [34.193690999999994, -117.364894], [38.55937, -121.51396], [32.1779, -110.999925], [39.988657, -75.08810799999998], [41.13413, -76.137015], [34.014872, -118.239655], [40.141185, -75.207911], [37.566955, -77.460553], [33.736489, -117.07633], [38.67700900000001, -121.709955], [35.0058, -89.85767], [41.054974, -111.593166], [34.133306, -118.352405], [36.149261, -86.85789799999998], [29.982381, -90.05779100000002], [28.224776, -82.733586], [34.119175, -118.16054], [40.39885, -111.53813], [34.254753, -83.46299499999998], [39.756467, -84.230435], [33.99771, -118.0683], [47.28996, -122.30081], [38.94274, -94.776504], [45.066832, -93.240968], [48.99088, -111.959964], [35.0778, -89.90996], [38.449277, -122.725979], [40.069262, -77.464311], [38.296029, -77.51308], [33.97278, -117.33217], [41.017144, -76.78892900000002], [40.82369, -73.01578], [39.836389, -75.775981], [33.466417, -112.136632], [41.13243, -73.7959], [40.227153, -76.075147], [40.70751, -74.255851], [42.97058, -73.80053000000002], [35.25523300000001, -78.625656], [33.966441, -117.688402], [32.800243, -97.320329], [28.42116, -81.37144], [34.114514, -84.222824], [44.86264600000001, -93.144243], [25.762108, -80.334096], [28.192876, -82.46560799999997], [41.498529, -95.130642], [33.503891, -117.152613], [33.873785, -118.196931], [29.006737, -82.198044], [28.193488, -82.471096], [29.541594, -98.573806], [34.42985, -119.288291], [33.206716, -86.79389499999998], [33.946157, -118.170486], [43.861836, -124.14029], [32.305273, -81.04421500000002], [34.2718, -118.34899], [25.65647, -80.411659], [33.873484000000005, -118.010288], [37.343857, -120.613742], [41.44647, -81.85301], [47.16346, -122.48121], [38.059021, -78.945538], [25.940383, -80.191086], [40.7856, -74.04833], [33.457448, -112.108], [34.472903, -118.467937], [45.723906, -120.199474], [25.89756, -80.259562], [36.19185, -86.7802], [33.68383, -112.10866], [42.446087, -87.825563], [37.910102, -122.657304], [40.93998300000001, -73.855687], [41.87301, -87.79961], [33.853673, -81.542324], [38.884738, -77.153719], [39.400577, -77.335525], [34.186454, -80.881055], [43.541249, -123.549194], [40.84522, -73.91189], [25.575223, -80.37298], [35.80295, -78.70716], [33.68735, -117.88567], [33.883907, -117.639448], [39.957078, -75.155891], [25.532764, -80.414614], [34.0231, -117.33634], [36.49158900000001, -121.744353], [38.97697700000001, -121.019169], [37.48764, -122.20732], [26.260559000000004, -80.13296], [47.29328, -122.30565], [32.887999, -96.898005], [39.03702, -84.60565], [37.76484, -78.292372], [40.52846, -74.33700999999998], [38.776665, -119.923252], [33.802636, -118.125354], [37.648369, -121.651804], [40.71399, -111.786285], [33.837373, -81.090808], [36.16104, -95.86075], [36.996344, -120.074181], [39.979987, -75.83708100000003], [44.097209, -123.111173], [37.668268, -121.035943], [30.172295, -81.613228], [32.23574, -110.85805], [38.892074, -77.030403], [41.30344, -81.51741], [41.86478, -87.68599], [25.796986, -80.335534], [39.79419, -123.24943], [44.757311, -122.335877], [28.450355, -81.399851], [35.761351, -119.280598], [26.547965, -81.83930600000002], [28.190735, -82.466073], [42.37024, -121.38432], [39.098146, -94.663877], [39.957336, -75.15773399999998], [37.737125, -81.17955500000002], [25.80949, -80.321496], [35.705442, -78.60050799999998], [41.797134, -71.403927], [35.37713, -97.53011], [38.35275, -122.71322], [44.93469, -93.39697], [41.509226, -74.074404], [33.856312, -117.972704], [33.926347, -118.368518], [40.04748, -75.71694000000002], [37.51178400000001, -122.349727], [33.808444, -118.297877], [39.660923, -104.921702], [33.74457, -118.00452], [35.144625, -80.927749], [40.1387, -75.17043000000002], [38.49655, -121.260823], [40.69982, -111.8883], [27.025004, -80.23082600000002], [25.881633, -80.24296700000002], [37.229038, -121.746669], [26.22525, -80.13627], [36.13345, -95.88663], [43.682717, -93.315598], [37.58453, -121.87323], [44.2841, -94.005821], [40.47787, -74.29071], [33.792303000000004, -118.207644], [47.383524, -94.863108], [34.41876, -118.581958], [41.768539, -91.64478], [40.69687, -73.53705], [33.62876, -81.734369], [29.7168, -95.538896], [37.728953, -122.186004], [40.396116, -79.997087], [34.03027, -117.66279], [40.978199, -73.69668100000001], [33.686409999999995, -117.76586], [33.882349, -117.37284], [38.167203, -122.202969], [40.520608, -76.095214], [33.498054, -117.658499], [34.896168, -82.34589799999998], [34.040597, -118.16383700000002], [47.58755, -122.32023], [46.855541, -119.133049], [35.21931, -80.7992], [41.056948, -73.8126], [37.584156, -122.32829], [40.467849, -122.32698], [33.805493, -117.966991], [44.907479, -122.98631], [37.257863, -79.798307], [34.045442, -118.317722], [47.54615, -122.30821], [33.85412, -117.95422], [40.076373, -75.303802], [44.701663, -123.051906], [29.102931, -82.18504399999998], [43.308631, -75.667959], [32.123271, -111.11113799999998], [33.807131, -118.150826], [44.849828, -93.298054], [27.633522, -80.516062], [44.880015, -93.025291], [39.163567, -121.662331], [33.77876, -117.88095], [33.989163, -118.284854], [36.706583, -119.851395], [33.503321, -86.59869599999998], [34.05603, -117.54662], [40.455004, -77.819539], [35.164242, -119.113458], [37.790837, -122.385678], [40.77537, -74.03911], [33.983436, -118.459798], [35.179833, -80.890058], [37.49329, -121.030879], [32.819746, -117.227026], [36.081005, -86.756414], [37.245266, -93.348953], [38.786673, -76.998398], [41.78992, -87.8243], [40.216655, -78.84266099999998], [40.430654, -111.890269], [44.889921, -93.392731], [44.097826, -123.14649], [37.739607, -121.436266], [35.356201, -79.340919], [38.578292, -122.60502], [38.609305, -121.509372], [33.893998, -84.255481], [40.738938, -74.061759], [33.735594, -117.818321], [33.904183, -117.560116], [35.11026, -80.92671999999997], [35.439223, -119.081701], [34.058002, -118.010098], [26.029498, -80.35143199999997], [34.064387, -117.278398], [38.753218, -77.184584], [34.12871, -117.93862], [44.92239, -93.14479], [25.78756700000001, -80.17932900000002], [25.702088, -80.33795], [32.917932, -96.424879], [37.59501, -112.849599], [37.31687, -121.90559], [29.69245, -82.449742], [32.851233, -96.825248], [34.065284000000005, -117.806665], [40.738581, -73.81489599999998], [35.052749, -85.302661], [34.070438, -117.890027], [30.449405, -86.651389], [37.779552, -121.314514], [34.14775, -118.22874], [40.592036, -111.902106], [42.349559, -83.438283], [25.598565, -80.35525200000002], [42.924981, -71.37685], [38.92335900000001, -76.904296], [37.42164, -121.93436], [34.86156, -81.00561], [38.393579, -82.41367199999998], [41.690829, -74.077838], [44.059671, -93.190079], [44.196171, -121.23238700000002], [32.759529, -97.102159], [40.21457, -111.66421], [27.461521, -82.58755500000002], [25.623611, -80.414429], [32.53821, -93.768471], [33.98185, -118.07483], [30.398164, -97.704135], [47.593601, -122.320919], [36.801151, -77.98807099999998], [35.259827, -80.795097], [38.916263, -123.702329], [39.419461, -76.640625], [34.22215, -119.12275], [29.78497, -95.70308], [33.92848, -118.28932], [37.140168, -77.35657900000002], [34.05323, -117.802618], [34.17208, -118.53213], [40.24780300000001, -75.64705699999998], [37.54715, -122.3144], [26.01846, -80.167089], [33.900233, -118.204092], [33.997563, -118.176814], [33.646796, -117.685991], [43.03212, -87.96091], [36.79391, -76.213349], [41.096001, -96.25342], [38.32604, -77.72831], [36.135739, -120.157245], [29.647207, -82.408523], [44.983218, -93.242631], [34.066761, -117.446205], [41.772965, -72.676576], [37.598551, -77.49718299999998], [41.898139, -122.541518], [40.700708, -112.258375], [33.061820000000004, -117.29112], [33.885392, -118.285366], [25.778406, -80.21309699999998], [32.675642, -96.85163], [28.412168, -81.243045], [26.54563, -81.852397], [37.115085, -76.49414200000002], [27.383478000000004, -82.53097], [32.819547, -80.067382], [28.53818, -82.389517], [33.385832, -111.890223], [26.66773400000001, -81.880685], [36.00590800000001, -78.520674], [30.410447, -97.684604], [38.33646, -88.9564], [25.963401, -80.150446], [35.030375, -85.31429], [33.989131, -118.289618], [32.53181, -96.82245], [45.469502, -122.932049], [25.898503, -80.205399], [37.813355, -77.019809], [34.820914, -82.256421], [46.366724, -94.886187], [39.679339, -120.317766], [32.890487, -117.206309], [44.401738, -122.563789], [40.34089, -75.38551], [33.728365999999994, -117.808235], [45.130806, -93.488498], [33.58523, -117.6718], [44.479923, -69.707145], [39.318271, -76.513307], [35.405436, -83.299222], [38.012858, -122.174702], [34.036531, -118.381307], [32.87535, -96.7701], [36.521268, -86.645916], [40.71568, -74.06636999999998], [38.718127, -77.780982], [33.603669000000004, -117.171517], [25.669776, -80.416237], [34.785662, -82.66427900000002], [38.497625, -121.09026], [34.026373, -117.591981], [41.049032, -111.679885], [45.306247, -92.956103], [33.84227, -84.2476], [34.011277, -81.149057], [43.584385, -116.193528], [36.8707, -76.28246], [39.25705, -84.44238], [39.414626, -76.66023], [39.023946, -94.50071], [38.858279, -120.849978], [34.037612, -118.022408], [35.44614, -119.09356], [33.49503, -112.02158], [42.323072, -88.164563], [34.362181, -118.505069], [29.92715, -90.13262], [37.24854000000001, -121.78113], [45.51284, -122.99088], [40.462974, -74.285481], [38.550928000000006, -76.820666], [29.639955, -82.407217], [40.993133, -73.677803], [40.486169, -78.028386], [28.50953, -81.3989], [28.261699, -81.434155], [40.85911, -111.90442], [28.332797, -81.493606], [25.986624, -80.346096], [45.491548, -94.15124], [44.915442, -93.274655], [40.69478, -73.8121], [39.016311, -77.098099], [33.858822, -118.01128500000002], [33.876394, -118.072679], [33.912863, -117.284983], [34.033286, -118.16913], [34.977368, -86.569362], [34.041126, -118.060852], [36.259992, -86.712988], [39.72524, -105.19173], [39.0745, -77.13564000000002], [33.859546, -117.923265], [40.67711, -74.278678], [39.90957, -104.9906], [30.233715000000004, -97.731838], [42.33749, -83.12494000000002], [30.363191, -91.113902], [38.665625, -120.926549], [42.47448, -83.11053000000003], [32.365790000000004, -86.27452], [38.203997, -121.263227], [47.4177, -122.84658], [42.77938, -83.5323], [39.875831, -75.286118], [32.632695, -80.88164499999998], [39.965876, -75.631745], [36.077495, -86.773698], [34.761278000000004, -82.659163], [32.66948, -97.303838], [34.227065, -79.648314], [43.39186, -89.46705], [32.75976, -117.188876], [45.439453, -118.369541], [44.96688, -92.958508], [32.120098, -110.960808], [27.388185, -82.468051], [33.984633, -117.348469], [39.60155, -86.51474], [43.83977, -120.69819], [27.270415000000003, -82.497665], [25.653743, -80.329635], [36.800149, -121.66479], [25.636038, -80.41476899999998], [40.429354, -79.942123], [42.239092, -87.944328], [35.377492, -118.967409], [40.020672, -76.742688], [44.89426, -93.27488], [39.384054, -120.086102], [39.271022, -121.659957], [37.657614, -121.899032], [33.972336, -117.845714], [25.633886, -80.414824], [41.95881, -87.7393], [37.380549, -121.958457], [37.98701, -121.25076], [40.82391, -73.87236], [34.128321, -117.961932], [39.79855, -86.11189], [25.71827, -80.341392], [33.949675, -118.170308], [41.101286, -73.984071], [34.042952, -118.272653], [41.433509, -73.406814], [33.109046, -80.118427], [33.925201, -117.880287], [32.732881, -117.112544], [44.79552, -93.222258], [35.160231, -80.747148], [40.996546, -78.233762], [25.811367, -80.192184], [37.99173, -122.07813], [33.876911, -118.185478], [35.898166, -78.592979], [36.69366, -121.806846], [38.841514, -77.21942], [33.60276, -112.00964], [36.967793, -121.798274], [38.498122, -121.409046], [32.923891999999995, -96.764886], [25.97053, -80.16575999999998], [40.7416, -111.889664], [27.561615000000003, -82.555941], [43.880154, -91.739675], [29.955504, -90.081242], [32.884708, -83.773616], [36.058649, -118.972019], [35.317615999999994, -119.038876], [33.910587, -118.370557], [36.754552, -119.781508], [39.412132, -76.663917], [39.75364, -105.55521], [39.362028, -94.375594], [38.595432, -121.352473], [38.737911, -121.275796], [27.140335, -80.885359], [43.521485, -72.141631], [43.883696, -120.935536], [35.83736, -78.6737], [27.088347, -80.25423599999998], [33.064627, -117.068637], [40.807025, -73.933766], [40.744771, -74.21357900000002], [38.76679, -77.455828], [32.76984, -96.856699], [35.037209000000004, -85.098213], [42.47726, -83.10555], [37.761632, -79.78711700000002], [37.389081, -120.732611], [33.872840000000004, -118.28188], [39.17226, -76.84702], [38.566817, -122.556601], [37.178866, -93.349488], [33.960007, -118.286764], [45.969819, -94.556201], [41.86269, -87.71045], [48.481732, -113.848775], [47.52647, -122.32431], [30.45451, -91.095064], [40.97693, -73.75851999999998], [40.530012, -80.072125], [40.53850900000001, -75.723686], [28.357818, -81.504859], [37.754099, -121.358065], [42.820645, -83.895492], [48.835363, -95.17829], [37.35242, -121.960717], [43.175098, -77.607614], [34.02608, -118.24975], [38.939878, -94.567429], [32.439072, -93.744156], [38.86587, -77.06645999999998], [38.952874, -77.0731], [44.543425, -123.266068], [35.159216, -78.716001], [34.03427, -117.931579], [39.28021, -76.47826500000002], [25.729938, -80.39962299999998], [38.87645, -76.994813], [37.939234, -77.47280699999997], [39.804743, -86.054245], [45.247482, -93.025885], [37.63917100000001, -122.089956], [37.36068, -120.84963700000002], [33.415979, -80.670837], [40.06986, -75.150672], [33.949198, -79.504193], [44.75445, -122.292378], [38.65381, -121.35518], [35.57112, -82.51213], [40.68934, -112.024796], [45.060092, -93.450485], [34.776956, -82.431301], [29.591227000000003, -83.01580899999998], [37.574086, -122.393219], [40.731929, -74.130195], [34.058273, -117.170665], [32.026846, -81.00025699999998], [28.472418, -81.409154], [39.186384, -77.669042], [31.73419, -106.26734], [41.070977, -73.908732], [32.68561, -117.09039], [37.51784, -77.34283], [41.24464, -112.00858999999998], [25.83548, -80.20618], [34.081465, -80.963176], [37.961667, -121.241667], [37.552072, -77.47760500000003], [33.85608, -118.02469], [32.442505, -93.925426], [39.876088, -75.258767], [42.05245, -121.86106], [32.208135, -110.815233], [40.844859, -73.923059], [33.779037, -118.279501], [29.97869600000001, -90.094798], [39.931235, -76.691846], [26.07862, -80.21576999999998], [35.757635, -78.608866], [44.8618, -93.29303], [34.487594, -118.1399], [28.56909000000001, -81.24486999999998], [30.24398, -81.58858000000002], [38.45602, -121.40546], [26.045612, -80.162826], [39.367554, -121.321524], [38.232711, -122.108584], [34.19192, -117.360396], [39.44191, -76.36721999999997], [33.85978, -117.25864], [30.783355, -85.226582], [34.037999, -118.276449], [40.33635, -74.63219000000002], [33.44325, -80.954122], [32.883502, -117.20188600000002], [41.222748, -96.074144], [38.222798, -122.262436], [33.836413, -117.532133], [38.524931, -77.36743100000002], [37.798395, -122.274852], [37.617219, -120.990275], [28.360709000000003, -81.500088], [34.03925, -118.27193], [36.088118, -95.975741], [34.864258, -118.175972], [33.927457000000004, -118.255455], [26.622379, -80.06732199999998], [45.197633, -93.340826], [44.956286, -93.192513], [32.163064, -110.909116], [28.47874, -81.44896999999997], [43.09233, -88.05824], [42.887883, -85.609381], [41.637443, -74.07831], [35.27367, -80.96342], [38.30005, -85.75331], [38.209809, -122.546721], [33.644557, -78.985853], [32.22172, -80.7789], [37.325168, -121.886239], [37.100278, -120.930019], [33.996194, -118.180071], [35.566664, -120.74456], [25.44246, -80.474991], [44.147947, -117.108529], [29.970949, -90.066958], [28.539432, -81.477958], [30.447429, -86.638487], [29.774548, -95.531606], [40.02435, -75.22635], [25.88901, -80.20271899999999], [27.29997, -82.497632], [40.447057, -74.268726], [40.73022, -73.83414], [34.028463, -118.22996], [34.020355, -118.037522], [42.984504, -83.692993], [36.326647, -119.207035], [28.45317600000001, -81.400087], [36.02223, -119.03965], [40.888742, -73.890148], [42.406185, -91.126267], [33.41107, -111.98798700000002], [39.311989, -120.495911], [33.537598, -112.116902], [38.63577100000001, -77.28987099999998], [38.93579, -77.08773199999997], [32.786411, -96.791986], [28.412168, -81.243045], [37.250363, -93.256918], [35.20100700000001, -80.76240200000002], [45.05432, -123.494406], [35.44037, -97.53016], [36.074992, -94.202388], [45.972707, -94.323965], [34.069601, -118.260666], [33.98751, -117.36321], [36.18337, -86.74857], [26.54658, -81.834586], [25.776135, -80.199619], [38.321341, -77.737525], [38.57621, -121.31305], [43.621519, -111.946912], [33.03514000000001, -80.14535], [39.202748, -119.93013700000002], [41.066873, -121.233183], [34.029518, -81.103037], [38.481603, -121.385323], [42.00692, -86.5335], [37.516041, -121.940703], [34.080458, -81.155335], [41.93645, -71.4683], [38.988676, -77.527865], [32.977105, -86.686066], [33.677054, -117.757741], [33.950922, -118.296734], [42.35469000000001, -71.11833], [42.582607, -79.063733], [34.11052, -118.3344], [39.039955, -105.526529], [45.810189, -119.947255], [33.703297, -84.16659200000002], [33.902075, -118.105066], [46.914805, -114.033307], [41.39809, -73.07006], [40.444332, -74.426568], [34.99648, -82.251786], [38.288029, -120.29981], [40.84383, -73.8956], [34.252495, -118.430382], [37.50837, -77.67737], [30.348618, -81.552304], [40.217181, -74.097536], [27.964485, -82.429229], [36.833655, -76.133104], [33.527771, -111.924811], [40.757721, -73.609954], [40.80690900000001, -73.906707], [32.813288, -96.607206], [42.12213, -71.22919], [38.343929, -77.487616], [33.999134999999995, -118.129116], [38.483231, -121.421074], [40.049737, -74.993387], [38.951067, -76.749282], [35.237824, -118.914396], [30.09001, -95.43509], [34.017567, -118.28051299999998], [25.634048, -80.385603], [38.886613, -77.411429], [38.553348, -121.436614], [25.926016, -80.156913], [33.598339, -117.67676000000002], [32.773093, -117.069268], [42.19043, -88.133145], [36.154114, -86.788724], [33.968793, -111.387537], [44.141181, -122.607945], [44.19306, -123.20273], [27.113706, -82.40096199999998], [31.716316, -81.390101], [33.78037, -118.09013], [40.623221, -111.903372], [43.936419, -117.319381], [36.755486, -119.77563], [43.016477, -83.654586], [45.59987, -118.501522], [42.034703, -124.241006], [36.819285, -119.799381], [40.593018, -109.467725], [43.20072, -73.647354], [30.462111, -91.166014], [34.150432, -118.808201], [33.474940000000004, -112.11297], [37.645801, -121.049154], [34.047636, -117.398562], [34.728621000000004, -78.989986], [37.384903, -122.165621], [34.63739, -82.969238], [34.998906, -81.992399], [34.071811, -118.106449], [34.90965, -114.153613], [40.748202, -74.17340300000002], [39.410308, -123.747006], [40.55019, -74.315311], [28.53834, -81.35921], [32.770532, -96.814267], [35.18046, -82.15467], [33.974742, -118.241213], [32.84619, -96.77307], [32.824921, -117.117157], [33.533174, -86.798428], [39.29875, -76.61156], [25.853163, -80.322365], [40.391388, -74.34099499999998], [37.764329, -122.217107], [39.484843, -77.546739], [33.56406, -81.76025], [38.770576, -76.99543100000002], [25.81218, -80.20233], [35.517607, -78.29324100000002], [44.878232, -93.24679], [30.412532, -84.280699], [39.153546, -76.649712], [40.767056, -77.11076899999998], [37.683584, -97.312976], [32.872040000000005, -96.67942], [27.04972, -82.397476], [28.0936, -82.73947], [42.132989, -122.633829], [40.660639, -122.778976], [33.813143, -118.166071], [40.616676, -122.36442], [36.17556, -115.14661], [45.292903, -122.76927], [35.310129, -80.755659], [34.03735, -118.1699], [27.785246, -82.704054], [29.140531, -81.127167], [38.24605, -85.75213000000002], [32.327088, -86.24123], [37.963546, -120.3983], [40.993412, -73.678168], [39.734274, -121.816814], [34.181233, -118.396341], [39.098816, -94.593183], [35.79385, -78.54879], [34.15275, -118.330256], [39.117785, -94.564449], [40.71907, -73.58048000000002], [40.08671, -75.16534], [45.662838, -122.666956], [33.932743, -118.361746], [33.917559000000004, -117.881217], [33.85611, -118.00633], [40.113867, -75.32942], [37.668225, -122.053359], [33.85537, -117.96979], [44.828531, -124.063474], [33.665577, -117.81099], [43.00067, -118.0838], [34.750369, -86.75908299999998], [41.61669000000001, -111.93288], [38.546679, -121.337558], [25.714569, -80.414261], [36.769191, -76.227532], [33.859766, -118.284569], [42.873266, -78.856729], [26.560715, -81.908866], [29.78447700000001, -95.599799], [32.930048, -97.31639], [46.991947, -114.187914], [25.605246, -80.351185], [45.635783, -121.945697], [32.889699, -96.897987], [34.33527, -118.51109], [26.55576, -80.14928], [35.59790200000001, -89.052075], [32.509352, -110.899475], [47.48028, -115.93583999999998], [45.507258, -122.718953], [42.01117, -87.86864], [25.938061, -80.27735600000003], [42.993246, -85.71766], [42.972706, -82.518027], [40.75194000000001, -73.89739], [41.1154, -112.01505], [40.307797, -78.916887], [46.906567, -98.185061], [25.869332, -80.20797900000002], [33.911054, -117.44838], [25.73285, -80.319004], [41.652632, -93.570489], [40.221893, -76.148933], [32.823456, -96.779916], [39.9949, -83.263661], [28.43018, -81.470226], [42.32303, -88.16473], [41.36494, -72.07455], [34.007595, -117.985168], [39.17675, -76.87810999999998], [25.793827, -80.337014], [33.88736, -118.03425], [37.775527, -79.353238], [40.799824, -73.929906], [30.402995, -86.978537], [29.73166, -95.391038], [38.672861, -77.244571], [33.462137, -112.042627], [28.612558, -81.476186], [39.563497, -105.021353], [39.09875, -94.59292], [39.866, -84.18431], [34.812077, -82.198123], [28.55297, -81.3956], [33.87565, -118.192976], [44.27059600000001, -121.17323600000002], [38.105488, -121.260279], [34.440269, -82.490288], [41.574102, -87.47998], [36.066819, -86.687844], [38.67106, -121.590378], [43.05741, -76.1805], [30.514898, -87.217107], [25.890103, -80.18996700000002], [34.07204, -117.887752], [41.542154, -72.800101], [37.965577, -122.322704], [44.95501, -92.796496], [25.70261, -80.291598], [44.910961, -122.987362], [34.048565999999994, -117.94611299999998], [36.23434, -86.72035], [32.822516, -97.449685], [41.421536, -73.419431], [33.04393, -117.28575], [34.024708000000004, -118.070262], [38.460369, -78.825905], [42.379861, -88.089842], [41.72552, -72.78145], [25.715924, -80.275051], [45.316375, -123.01718], [34.018853, -118.190232], [34.286871999999995, -80.738151], [40.563261, -74.258752], [34.076564000000005, -119.023697], [34.794290999999994, -82.438691], [38.994477, -77.008267], [34.048801, -117.550872], [43.013845, -74.972473], [34.003614, -79.06834599999998], [43.04190300000001, -77.432041], [42.792318, -73.92614499999998], [34.069429, -118.260709], [39.180084, -78.141664], [42.876314, -78.78588], [38.655777, -122.872446], [32.379966, -80.733424], [38.57226, -121.50932], [43.14996, -77.66466199999998], [34.114365, -117.897295], [28.468802, -81.417358], [32.834647, -97.198008], [46.67546, -117.194801], [39.273467, -120.713725], [28.565035, -81.400503], [41.859551, -123.246227], [41.802835, -72.657522], [28.191425, -82.607552], [26.333428, -81.806251], [40.705199, -74.15294200000002], [38.67034, -104.70679], [43.068735, -124.415257], [34.247806, -118.425826], [28.531997, -81.559465], [36.370925, -119.374754], [29.4099, -82.24996999999998], [41.92006, -88.23804], [38.402492, -120.687499], [35.039165999999994, -85.267413], [35.369722, -119.0425], [38.751308, -121.4883], [34.08742, -117.66071], [33.765646999999994, -117.9677], [37.58880900000001, -121.871434], [30.47755200000001, -87.256895], [40.71834000000001, -111.88826], [37.021777, -121.96151299999998], [34.035333, -118.370486], [37.828028, -122.29443700000002], [45.210536, -122.825017], [43.490484, -73.752445], [43.211944, -75.461962], [41.66671, -71.49821999999998], [33.733435, -117.814954], [26.56319, -81.85297800000002], [25.620579, -80.42112], [36.15474, -86.857656], [43.94489, -70.3332], [46.48597, -94.65429], [35.10468, -80.70406], [39.644604, -107.079201], [41.66553, -72.666691], [37.081009, -121.594866], [28.571449, -81.430614], [40.714095, -74.325429], [38.71559, -77.4718], [25.925341, -80.153943], [34.010259999999995, -117.42905], [27.435427, -82.521877], [40.79699, -73.47739], [35.206331, -80.758387], [35.029556, -85.24084599999998], [30.39358, -88.93481], [35.73503200000001, -79.423174], [45.716342, -94.940449], [38.868168, -77.312997], [35.19705, -80.93557], [39.790595, -84.253805], [41.953686, -77.45948100000003], [35.79675200000001, -78.51029], [39.582239, -122.137075], [41.550153, -72.81466800000003], [40.708197, -111.79778600000002], [32.643177, -116.93453999999998], [39.80356, -85.964315], [38.047574, -78.778699], [34.989501000000004, -81.974735], [25.742458, -80.384505], [40.724912, -111.938828], [37.649962, -121.021026], [41.69442700000001, -91.626581], [25.795258, -80.368915], [41.15898, -121.661127], [41.397132, -112.034279], [33.744858, -84.39733100000002], [34.038098, -118.188142], [40.719399, -111.862352], [33.11271, -80.13389699999998], [34.029090000000004, -118.44579], [38.827196, -78.58013000000003], [39.103335, -94.572125], [32.841625, -96.624815], [35.885681, -78.368358], [27.459076, -82.57535899999998], [33.811495, -117.509561], [34.686398, -82.32884200000002], [28.43135, -80.78825], [40.720126, -73.404753], [32.261265, -110.992966], [39.484392, -77.249877], [33.846725, -118.212504], [25.684604, -80.400559], [40.37863, -79.80498], [28.543739, -81.19032], [41.360722, -75.702523], [35.73932999999999, -78.78931], [41.85916, -88.082239], [35.148053000000004, -80.829296], [38.692822, -121.262349], [25.703028, -80.293823], [38.722373, -120.658037], [34.285059000000004, -79.872648], [34.136691, -117.544525], [47.265801, -122.32125], [30.488386, -84.345857], [32.76379, -96.93981], [25.777828, -80.19968399999998], [35.793109, -78.613005], [36.977871, -121.556422], [41.88726, -88.01828], [40.120116, -75.349013], [47.898701, -122.10927], [40.520341, -111.89131], [34.060233000000004, -118.214869], [35.740803, -78.649175], [36.557711, -121.911416], [35.406083, -119.025433], [34.19453, -86.9571], [33.819286, -117.516338], [37.72224, -122.13572], [33.960141, -118.231589], [28.450977, -81.47777099999998], [33.818868, -117.515333], [28.357378000000004, -81.494599], [33.666676, -117.894245], [32.82674, -97.06128], [40.04958, -78.51120999999998], [43.148888, -73.854074], [33.16591, -117.10789], [41.585127, -73.769225], [34.086396, -118.233183], [37.74657, -122.2015], [40.021452, -75.624338], [45.59897, -122.68415], [34.01846, -118.27943], [34.120131, -117.710472], [35.95005, -120.87801], [26.547111, -81.806265], [45.17212, -122.44113], [44.933577, -93.405313], [33.810004, -117.878893], [37.54310200000001, -77.37130400000002], [39.9058, -86.07096999999996], [41.921831, -91.670347], [34.069034, -117.842311], [38.551577, -122.650542], [34.494119, -118.213373], [38.461149, -77.408429], [33.430683, -117.145568], [41.06018, -81.56655], [36.634777, -114.601365], [44.273226, -121.169566], [39.147044, -120.90925], [30.010741, -90.012856], [28.858948, -82.091614], [34.587779, -79.614891], [33.925942, -118.177753], [33.97432, -118.12412], [34.603796, -111.870784], [34.03089, -118.19426], [29.497484000000004, -98.551218], [35.909188, -78.932121], [39.768801, -105.447882], [33.988073, -117.899352], [25.898438, -80.25908199999998], [33.964363, -118.169236], [32.715204, -117.124173], [39.24109, -76.58875], [32.247051, -110.974974], [32.8913, -96.70908], [34.18762, -118.17989], [39.375311, -76.452387], [33.91261, -118.15387], [39.75346, -105.0152], [41.54688, -83.60651], [38.906335, -75.815113], [37.767614, -121.476904], [39.049004, -94.561825], [41.31438, -81.51286], [29.767740000000003, -95.36148], [35.20741, -80.79701999999997], [30.439302, -91.192107], [39.92293, -86.268517], [34.099237, -117.49708400000002], [44.505876, -92.917628], [32.841359999999995, -117.10252], [43.65234, -93.863164], [29.736359000000004, -95.538869], [34.889728000000005, -82.416797], [25.631366, -80.38141800000002], [28.495335, -81.396918], [39.027097, -94.690413], [30.241613, -82.25218000000002], [34.007822, -118.059477], [35.151999, -80.79715999999998], [30.425925, -87.25222600000002], [34.195343, -118.333107], [32.87512, -97.09964], [32.838051, -97.060583], [33.915754, -117.557528], [39.328469, -77.021445], [41.2538, -111.84167], [47.234723, -122.426206], [40.095088, -111.693043], [35.29507, -84.812682], [40.353213, -75.392145], [34.033398, -118.157486], [28.520371, -81.362955], [37.106542, -121.945199], [26.30028, -80.12071999999998], [37.29176, -121.87164], [34.138226, -79.985107], [43.03837, -87.92509], [37.41905, -121.9605], [41.87375, -87.72416], [33.790577, -118.282171], [37.602635, -122.063877], [31.97573, -110.50703], [37.70026, -122.47135], [35.47358, -97.57906], [29.97146, -90.115139], [34.23076, -117.2149], [34.186609999999995, -118.40127], [37.634713, -121.49554], [30.38742, -81.55812], [27.463463, -82.587601], [40.48941, -86.63861999999996], [47.16186, -122.47451], [25.657938, -80.437646], [35.012811, -85.325962], [32.76121, -97.11845], [30.373465000000003, -97.668207], [40.85748, -73.83123], [29.419984000000003, -98.502009], [40.794585, -74.19205699999998], [37.869528, -122.304762], [42.10631, -72.60125], [25.899438, -80.34496], [37.609151, -120.848032], [38.5176, -86.67912], [29.737066, -95.554781], [28.452192, -81.400388], [33.917169, -118.103839], [25.92513, -80.27668], [34.138524, -117.24286], [41.90561, -87.66119], [39.62041, -85.338033], [34.031109, -118.435277], [36.153704, -86.754851], [44.427885, -121.711464], [36.402054, -119.807127], [40.79564600000001, -73.508887], [35.20686, -89.89461], [39.577206, -119.812591], [29.742254, -95.358828], [25.879935, -80.357455], [40.824251, -73.836276], [35.442227, -119.411484], [34.095511, -118.243711], [35.352195, -119.039403], [43.01511, -71.02637], [45.114701, -93.188341], [40.43063, -80.263828], [37.60365, -77.473739], [33.546484, -86.635147], [39.605401, -77.734247], [37.382026, -121.904455], [27.868938, -82.326567], [42.34584, -122.87502], [36.844411, -76.196252], [36.279081, -121.829097], [41.10353, -73.43138], [37.7374, -122.40227], [44.04403, -91.700797], [32.644903, -96.7885], [45.35906, -122.61572], [35.19369000000001, -80.78238], [40.10914, -82.96761], [40.683253, -75.296104], [44.691989, -94.994825], [40.48868, -74.395418], [32.870020000000004, -96.67203], [25.898685, -80.32441800000002], [42.099952, -87.86796], [34.079322999999995, -117.200812], [38.61774000000001, -121.382892], [43.29704, -123.35071], [27.43184500000001, -82.40361800000002], [39.11208900000001, -94.564872], [38.939098, -94.747091], [34.029526000000004, -118.261436], [43.40539, -70.56227], [25.598677, -80.351502], [45.581419, -118.584142], [37.754331, -122.403139], [44.699155, -118.10249], [42.802991, -123.25225], [44.3607, -93.958801], [35.37713, -97.54785], [39.665244, -75.381378], [40.748607, -73.161067], [37.25849, -121.963552], [41.14291, -73.26868], [37.80222, -80.19896999999997], [25.758751, -80.406494], [38.01411, -121.87699], [40.02172, -75.324998], [37.349449, -77.471476], [39.41547, -76.62557], [42.96525, -83.82996999999997], [32.791233, -96.75284], [35.44096, -82.53601], [27.839292, -82.764618], [47.60236, -122.18357], [41.166261, -73.23293699999998], [25.733531, -80.30133599999998], [32.760018, -117.201043], [32.220907000000004, -110.979252], [40.808726, -111.412707], [38.812531, -76.960915], [38.294872, -77.50561400000002], [35.554558, -82.69976700000002], [37.7011, -122.4714], [40.39548, -74.22328], [32.791392, -96.81365], [34.024509, -117.894104], [30.440477, -83.766149], [35.27298, -80.83225999999998], [28.338707, -81.485831], [36.767681, -119.871247], [34.155559999999994, -118.43462], [25.474463, -80.444264], [44.00414, -93.25494], [33.97862, -117.54904], [38.607531, -121.368098], [41.91907, -72.61474], [46.43271, -120.41769], [33.751286, -84.446118], [37.753182, -121.351908], [35.107637, -109.601422], [39.451566, -80.264131], [32.749653, -117.099304], [38.25102, -85.63243], [33.917727, -118.104588], [36.508888, -119.551109], [29.96837, -95.4199], [33.615771, -85.690022], [39.72552, -105.07895], [33.801814, -118.074389], [35.27806, -80.79356], [43.886636, -123.022098], [35.64262, -120.701819], [47.053101, -94.319143], [27.269259, -82.50007], [35.846618, -78.629356], [44.966204, -93.255142], [40.19672, -74.80201600000002], [43.137192, -75.276801], [34.20775, -118.20016], [43.03506, -89.41412], [29.958019, -90.076022], [37.654641, -77.451027], [35.90309, -78.60370999999998], [37.36084, -121.84159], [36.958039, -121.551543], [30.475798, -87.308113], [40.848445, -73.936936], [34.295797, -79.891498], [37.169202, -121.669387], [40.040988, -111.541831], [25.92749, -80.2081], [45.716117, -120.237239], [34.261003, -118.472324], [42.35212, -83.21625], [43.03639, -71.454651], [27.124129, -82.470109], [38.880876, -77.221376], [39.018448, -77.146114], [33.92902, -118.230852], [45.02477, -93.19077], [40.116855, -75.238562], [29.439271, -98.451694], [35.49655999999999, -119.15999], [41.71466, -87.63195], [38.633259, -121.268841], [25.714343, -80.41640100000002], [33.708890000000004, -117.95874], [34.02922, -118.03391], [34.902466, -120.429521], [33.973774, -118.381597], [40.63649, -111.91398], [33.65215, -117.4089], [41.61496, -93.577356], [40.11134000000001, -75.42007], [34.06873, -117.86119], [34.55081, -82.49253399999998], [41.548943, -73.027838], [38.789382, -121.29001], [34.065739, -118.216194], [28.552986, -81.393835], [33.876529999999995, -118.0927], [29.733372, -95.389805], [36.038908, -86.677452], [34.028690000000005, -118.149668], [45.36477, -122.75994], [32.96858, -80.002887], [35.53720900000001, -120.612014], [37.958689, -122.366921], [37.94432800000001, -81.158924], [45.823249, -122.846216], [33.989912, -118.064015], [33.999792, -117.849282], [42.94885900000001, -85.67454000000002], [40.59994, -75.55958199999998], [26.242807, -80.136424], [40.217471, -76.079288], [30.302033, -97.65223], [33.978811, -118.12771200000002], [28.424607, -81.404785], [35.200252, -80.845024], [44.94864000000001, -92.94808], [37.601048, -77.500073], [34.15592, -118.44602], [40.73531, -111.90456], [41.393448, -73.596435], [28.094861, -82.739728], [33.695122, -84.404515], [45.5882, -94.05167], [28.740874, -81.896233], [37.01808, -121.564099], [40.579867, -82.899975], [44.053611, -123.362052], [28.568502, -81.221323], [42.45269, -71.02303], [35.110963, -85.229455], [32.17671, -110.978552], [35.082646999999994, -111.687841], [43.642874, -116.239579], [26.121457, -80.183461], [41.8249, -87.63093], [25.880626, -80.355278], [45.782151, -108.007658], [39.866453, -75.101026], [45.696868, -121.353667], [25.942281, -80.323226], [32.955068, -117.148], [34.234178, -118.473197], [33.696495, -84.40932099999998], [33.852920000000005, -84.36969], [35.364636, -119.040094], [39.77836, -104.895773], [34.01957, -118.05037], [34.004011, -117.830189], [43.635813, -116.354158], [38.838995, -121.320281], [35.010477, -81.263862], [37.863905, -122.303047], [34.035921, -118.092917], [40.30312, -79.009251], [32.326840000000004, -86.30768], [25.76972300000001, -80.33341300000002], [35.785649, -78.659133], [33.302621, -117.469024], [41.51835, -73.97085], [35.26615, -80.96718], [44.86188, -93.295412], [32.88799, -96.70504], [33.761036, -118.024553], [35.23248800000001, -80.60373100000002], [42.909562, -85.676858], [44.77863, -93.21744], [42.024132, -121.549183], [28.277038, -81.598109], [44.08949000000001, -123.09071000000002], [40.10293, -75.699815], [34.437046, -119.857092], [36.75902, -76.34022], [29.91252, -81.41063299999998], [29.601556, -81.581327], [33.7745, -118.06948], [25.86418, -80.20975899999998], [42.516489, -83.660382], [33.919155, -118.104518], [40.01199, -82.99159], [32.791466, -117.112817], [38.023108, -121.930071], [38.733077, -77.819773], [30.439411, -91.195997], [41.35941, -72.21157], [39.317306, -120.351878], [43.02599, -123.299657], [27.298801, -82.49954100000002], [38.783949, -76.998062], [36.169335, -86.76323199999999], [32.81233, -96.79121], [39.27749, -76.55318100000002], [33.979498, -81.029813], [41.853157, -88.03892900000002], [25.708799, -80.284041], [29.497957, -82.292063], [33.34452, -111.97209], [33.810092, -118.159021], [34.038451, -118.274001], [25.939824, -80.276035], [32.661677000000005, -117.077683], [39.749387, -77.092651], [32.62805, -80.88334], [40.017968, -75.35873199999997], [38.609523, -121.369077], [40.123449, -74.97488299999998], [34.067095, -117.441717], [35.26271, -80.87943], [27.77184, -82.68755], [30.353083, -91.106921], [42.85229, -78.790136], [41.74245, -72.66277], [45.579024, -122.113584], [34.469664, -119.775216], [34.12505, -117.69178], [40.84524, -73.92778], [40.848546, -73.936862], [44.883604, -93.013093], [32.699357, -117.149115], [39.280418, -77.324649], [29.819366, -95.469136], [38.321439, -121.325398], [34.24973, -117.442178], [41.50196, -87.31965], [28.3929, -81.37201400000002], [47.377935, -115.384953], [42.70919, -73.66333], [29.643701, -95.485097], [42.746782, -91.784472], [44.405394, -122.593653], [32.22437, -110.872045], [30.252181, -97.748705], [35.79476, -78.69508], [45.137719, -93.462216], [37.37567, -122.067965], [32.732005, -97.225256], [30.418704, -91.14171], [38.046954, -122.235761], [35.842621, -78.68180100000002], [33.92038, -84.32015], [27.981373, -82.3187], [42.155171, -88.02772399999998], [25.591245, -80.36914200000002], [35.408606, -119.020941], [38.844613, -77.081399], [33.179669, -117.347042], [34.444009, -119.286029], [25.690123, -80.16386], [37.484599, -77.549447], [45.06967, -93.29676], [33.99984, -117.37283], [25.903128, -80.301727], [34.16535, -118.49235], [25.899185, -80.298244], [38.80111, -77.59382], [33.928332, -117.556466], [36.706763, -119.768516], [34.026258, -117.650649], [34.147967, -118.033065], [34.121532, -117.30294], [46.528692, -94.654877], [25.539248, -80.50239599999998], [38.83859, -77.2513], [39.271589, -77.547702], [40.836964, -73.87929799999998], [30.44262800000001, -91.138463], [40.865162, -121.830284], [34.889362, -82.29048900000002], [34.282397, -118.765307], [42.955528, -83.692489], [25.763164, -80.301721], [35.20303, -80.791184], [38.053795, -121.371575], [25.538387, -80.36485], [32.251223, -110.909734], [25.86854, -80.226095], [42.59057, -70.96092], [27.849903, -82.669843], [25.687316, -80.384433], [36.123483, -86.849664], [26.54621, -81.854201], [38.821353, -123.603455], [39.637986, -84.348478], [44.8619, -93.30404], [27.333984, -80.37422600000002], [44.25743, -88.46624], [25.94077, -80.247419], [36.84169, -121.465457], [27.412692, -82.455267], [42.471767, -123.338733], [33.465709999999994, -111.908949], [34.2586, -118.47213], [33.996735, -117.355551], [35.39929, -119.145559], [26.725443, -81.906544], [32.919276, -96.853119], [40.130751, -75.40293], [44.085827, -117.020086], [33.743376, -117.106854], [34.055962, -118.451484], [43.02243, -83.59544], [38.617943, -121.401381], [43.233271, -124.292439], [33.872516999999995, -118.285087], [36.32832, -119.60101], [32.904787, -96.72522], [34.107426000000004, -118.47961399999998], [33.38862, -111.96783899999998], [25.684325, -80.41642900000002], [41.78556, -72.659375], [27.471345, -81.710976], [32.82293, -96.629826], [38.496178, -121.434443], [34.02888, -118.00291], [39.185598, -76.779663], [35.19894, -80.930367], [28.488786, -81.417497], [37.701742, -121.99218700000002], [38.41184000000001, -82.386931], [35.714599, -78.631248], [37.079882, -80.68269699999998], [38.939069, -76.91424599999998], [33.850147, -117.875916], [31.324848, -89.336752], [42.99284, -83.74441], [38.665565, -121.350506], [25.55094, -80.39663900000002], [26.420315, -81.81151899999998], [33.774047, -117.487986], [38.87698, -77.27485], [28.681093, -81.388953], [45.50555, -122.67743], [30.094438, -95.406829], [43.84486, -92.188126], [40.802227, -74.072722], [48.399112, -122.237791], [40.7287, -74.10405], [27.548528000000005, -80.630925], [36.844952, -76.17168000000002], [34.146355, -118.027828], [34.030114000000005, -118.442183], [27.82836, -82.67954], [32.782049, -96.812565], [41.024118, -73.84631], [35.375984, -118.931871], [40.73716500000001, -73.590899], [27.13167, -80.353435], [44.897255, -93.226445], [43.657879, -92.943214], [44.42066, -121.7893], [34.952391, -82.007499], [42.817186, -96.181794], [29.75181, -95.45576], [42.088319, -86.26165], [29.712878000000003, -95.192552], [34.027452000000004, -118.274482], [41.97049000000001, -72.36045], [44.951645, -93.141821], [32.272478, -90.20933], [39.15193, -77.22005], [42.468016, -93.56868], [37.507702, -77.425937], [38.325113, -122.276914], [40.56645, -74.33244], [34.279123, -118.665718], [40.140096, -75.314109], [32.94392, -80.068203], [41.49523, -81.680408], [25.683774, -80.416411], [45.237832, -93.648205], [30.428514, -91.1603], [25.471424, -80.51795200000002], [38.838488, -77.219061], [35.402179, -119.03958], [38.907061, -77.036315], [41.749914, -72.728316], [33.6386, -112.34213], [36.371824, -83.146945], [47.798343, -122.220774], [42.914775, -83.721946], [25.633851, -80.414824], [38.71345, -121.36567], [41.741663, -72.66330500000002], [32.72316, -96.82691], [44.359732, -123.06101], [34.509359, -82.96637199999998], [40.150173, -104.9799], [30.44709000000001, -91.242669], [32.577847, -97.319515], [40.130474, -75.32435100000002], [44.059027, -123.049503], [38.652863, -121.531701], [39.906409, -75.193766], [29.693732, -82.450986], [36.76164, -119.74906], [33.873290000000004, -118.34264], [40.04859, -84.97255], [38.791855, -77.174824], [27.386511, -82.433121], [46.726627, -112.015848], [36.176748, -86.789002], [37.449199, -120.949066], [46.517649, -93.805351], [32.74828, -96.76929], [37.820267, -120.707395], [30.179397, -97.796064], [30.530467, -84.55805699999998], [34.9315, -120.43594], [42.760108, -73.78743], [35.176069, -119.005003], [28.538237, -81.343489], [30.602848, -87.098587], [34.151643, -118.282041], [45.832074, -95.157405], [39.1736, -84.4908], [40.90962, -73.87751], [45.39315, -92.99375], [37.311984, -81.062074], [37.90135, -122.31518], [35.718857, -78.842837], [42.31845, -83.08256999999998], [42.80737, -84.61116], [40.788306, -124.139683], [26.045612, -80.162826], [35.435415, -82.531901], [44.95205, -93.06522], [35.77555, -78.638387], [25.68692, -80.416652], [29.730678, -95.412863], [25.923768, -80.213674], [39.24740900000001, -76.57565100000002], [37.389778, -120.850294], [38.86959, -77.17464], [39.84523, -75.715164], [33.668943, -84.326752], [33.98766, -118.369759], [36.32471, -86.87344], [38.882106, -76.990267], [34.117511, -117.84681100000002], [25.7481, -80.310227], [34.947689000000004, -104.642289], [33.844563, -117.281875], [33.936846, -118.041452], [44.86181, -93.30877], [34.013102, -118.056557], [37.65338, -77.45091], [45.517514, -122.802949], [43.318669, -70.61081999999998], [39.964067, -86.374586], [28.984626, -82.137962], [40.386628, -111.833058], [34.127520000000004, -118.14733], [33.92819, -118.29621000000002], [33.07512, -97.02263], [36.049333, -86.665687], [34.087194000000004, -117.664329], [33.007503, -80.249978], [38.805742, -75.982927], [38.4222, -90.38661], [27.491415000000003, -82.47203], [30.38694000000001, -97.64867], [25.845903, -80.248633], [30.779536, -85.958688], [34.491514, -79.871717], [41.236892, -73.14674699999998], [34.693690000000004, -83.7706], [44.56914, -120.089911], [42.448972, -93.810077], [35.03309, -85.19445], [26.67115, -80.07025], [33.672634, -112.023864], [38.810212, -77.05041899999998], [34.172709000000005, -118.555637], [29.96727000000001, -90.10704], [33.500568, -111.887989], [34.135482, -81.472915], [38.75401, -121.26412], [36.889584, -76.138088], [34.245216, -80.737156], [45.902456, -93.203705], [35.232048, -80.827151], [33.99746, -117.83922], [39.82731, -104.98285], [38.61493, -121.512244], [37.332117, -120.568011], [36.606844, -121.644467], [38.994567, -77.034525], [39.71814000000001, -121.703613], [29.14842800000001, -82.114244], [36.117499, -86.768952], [41.39359, -73.60009000000002], [30.172243, -97.614198], [36.517408, -119.611008], [38.893451, -77.100779], [29.656196, -95.253811], [34.1686, -118.59242], [36.851211, -119.983061], [25.76974, -80.332308], [40.283587, -76.983334], [41.701859000000006, -72.805312], [40.306848, -76.840772], [28.048147, -82.73844799999998], [42.33847, -123.57969], [26.02792, -80.16577], [29.63968, -95.24215], [39.307011, -74.617992], [44.864591, -93.298848], [29.80177, -95.33963], [30.512955, -87.218758], [40.466942, -78.407445], [25.559653, -80.364109], [32.034009999999995, -84.3927], [40.18767, -74.61018], [34.095637, -118.243837], [34.153322, -118.361669], [28.062567, -82.78132099999998], [38.995403, -77.158237], [37.349837, -121.838962], [35.07203, -90.014563], [32.839296000000004, -96.776947], [34.198881, -118.396518], [30.434690000000003, -91.177376], [32.235887, -110.858633], [37.65105, -122.090658], [30.024279, -89.968684], [38.066242, -122.225636], [37.536787, -122.015], [36.40346, -121.31654], [42.850638, -72.579489], [32.916809, -96.767073], [34.840791, -92.158429], [39.859808, -75.13722800000002], [33.39191, -111.89155], [41.47533, -81.66027], [37.34101, -76.71856], [38.87968, -77.22116], [45.285826, -123.822795], [30.356224, -97.688705], [40.787354, -73.525947], [35.1674, -80.74294], [34.863342, -85.029748], [37.709341, -122.1221], [40.067402, -76.307242], [32.917171999999994, -80.033079], [39.768909, -84.190753], [44.996556, -93.459717], [30.492197, -87.323135], [33.519347, -117.62172], [44.349258, -93.34259], [40.768922, -73.059157], [35.184307000000004, -80.728404], [43.649448, -123.662413], [33.385670000000005, -111.93106], [37.42397800000001, -122.315906], [40.13515, -88.21493000000002], [45.435572, -122.65354], [40.431224, -74.659064], [32.490276, -80.680878], [38.05089, -122.5314], [32.177642, -111.044907], [40.91463, -111.89147], [25.819377, -80.386476], [27.71923, -82.67931999999998], [26.330518, -81.809083], [34.136536, -117.521152], [28.553808, -81.364448], [34.134801, -79.841565], [34.269870000000004, -118.43222], [33.66761, -112.2095], [30.480054, -91.115349], [42.15237800000001, -120.341318], [42.593836, -83.050759], [29.690265000000004, -95.458854], [41.632636, -72.737571], [37.25304000000001, -121.788758], [37.616787, -121.813187], [42.17389, -87.98479], [33.38622, -111.83379], [37.606998, -121.03041], [34.132053000000006, -117.226221], [34.077569, -118.283724], [29.730484000000004, -95.410598], [41.256216, -96.076365], [37.663741, -77.487421], [40.128737, -74.834388], [30.44008, -91.20626], [25.832379, -80.22492700000002], [36.149041, -86.766838], [44.95327, -93.09429], [45.84106, -95.53307], [34.154359, -117.249011], [43.125943, -75.417213], [39.24785, -76.68474], [34.036729, -118.130495], [28.543172, -81.31055], [31.6084, -91.26351], [41.071093, -73.872962], [38.680947, -121.324661], [32.983092, -96.712228], [32.576464, -117.092769], [33.973279999999995, -118.045432], [35.23815, -80.91548], [45.290758, -93.770728], [40.12719, -78.34885200000002], [32.761454, -117.165776], [34.068632, -118.257937], [36.253425, -115.2466], [30.453368, -91.270586], [39.090865, -123.220868], [36.038428, -79.00619300000002], [38.550388, -77.34358], [39.48328, -76.21008], [38.283833, -122.667508], [34.152617, -118.113069], [41.386682, -81.51263], [27.94475, -82.50154], [41.85963, -87.91901999999996], [46.313932, -114.061245], [41.96635, -87.75287], [36.322986, -86.862245], [33.035369, -117.085675], [42.54034, -70.98668], [34.135841, -117.330068], [45.577215, -122.666817], [41.69352, -87.65964], [33.996409, -117.87011499999998], [34.030376000000004, -118.440417], [33.652263, -117.763836], [31.896362, -110.665681], [39.790975, -84.231537], [45.44706, -122.578883], [39.449451, -121.855865], [39.95435, -82.98651], [40.684122, -73.68450899999998], [47.627137, -122.343503], [42.599005, -123.383793], [29.287163, -94.869259], [33.932459, -118.178431], [29.83212, -95.17524], [33.735356, -112.003136], [38.405434, -81.79056700000002], [43.153609, -77.645677], [40.154455, -75.377553], [48.143777, -122.187139], [33.688178, -117.914532], [25.811568, -80.371472], [34.171224, -118.50463899999998], [43.175801, -85.485338], [34.184003999999995, -118.288564], [40.025961, -76.204939], [48.341722, -103.014446], [37.634552, -122.086376], [39.33212, -84.28376], [45.024729, -92.975932], [34.16513, -118.489362], [32.290076, -110.978304], [45.086092, -93.263463], [42.226399, -120.234759], [28.390595, -81.404669], [44.40358, -123.11041000000002], [34.150413, -118.280699]],\n",
       "                {\n",
       "                    minOpacity: 0.5,\n",
       "                    maxZoom: 18,\n",
       "                    max: 1.0,\n",
       "                    radius: 25,\n",
       "                    blur: 15,\n",
       "                    gradient: null\n",
       "                    })\n",
       "                .addTo(map_e5d45e7f1f0f83e3609ca1321c9c3742);\n",
       "        \n",
       "&lt;/script&gt;\" style=\"position:absolute;width:100%;height:100%;left:0;top:0;border:none !important;\" allowfullscreen webkitallowfullscreen mozallowfullscreen></iframe></div></div>"
      ],
      "text/plain": [
       "<folium.folium.Map at 0x7f208a691cd0>"
      ]
     },
     "execution_count": 50,
     "metadata": {},
     "output_type": "execute_result"
    }
   ],
   "source": [
    "map = folium.Map()\n",
    "HeatMap(lat_lon_pairs).add_to(map)\n",
    "map"
   ]
  },
  {
   "cell_type": "code",
   "execution_count": null,
   "metadata": {
    "id": "Hn6_70cSs4yL"
   },
   "outputs": [],
   "source": []
  },
  {
   "cell_type": "code",
   "execution_count": null,
   "metadata": {
    "id": "Q4L2y7IFs4cb"
   },
   "outputs": [],
   "source": []
  },
  {
   "cell_type": "markdown",
   "metadata": {
    "id": "UXrnotuAtBFC"
   },
   "source": [
    "## Summary and Conclusion\n",
    "\n",
    "\n",
    "Insights:\n",
    "- No data from New York\n",
    "- The number of accidents per city decreases exponentially\n",
    "- Less than 5% of cities have more than 1000 yearly accidents.\n",
    "- Over 1200 cities have reported just one accident (need to investigate)"
   ]
  },
  {
   "cell_type": "code",
   "execution_count": null,
   "metadata": {
    "id": "yHa1fqsnqlzw"
   },
   "outputs": [],
   "source": []
  },
  {
   "cell_type": "code",
   "execution_count": null,
   "metadata": {
    "id": "aM-U78EntJtC"
   },
   "outputs": [],
   "source": []
  },
  {
   "cell_type": "code",
   "execution_count": 51,
   "metadata": {
    "executionInfo": {
     "elapsed": 7,
     "status": "ok",
     "timestamp": 1658557090199,
     "user": {
      "displayName": "Ayush Yadav",
      "userId": "12800143263516178348"
     },
     "user_tz": -330
    },
    "id": "h-rSuLOKtKd6"
   },
   "outputs": [],
   "source": [
    "import jovian"
   ]
  },
  {
   "cell_type": "code",
   "execution_count": 55,
   "metadata": {
    "colab": {
     "base_uri": "https://localhost:8080/",
     "height": 88
    },
    "executionInfo": {
     "elapsed": 3517,
     "status": "ok",
     "timestamp": 1658557414510,
     "user": {
      "displayName": "Ayush Yadav",
      "userId": "12800143263516178348"
     },
     "user_tz": -330
    },
    "id": "jutF1vgqtKSK",
    "outputId": "f105025f-e719-4e78-8057-cd2c7ef1971b"
   },
   "outputs": [
    {
     "name": "stdout",
     "output_type": "stream",
     "text": [
      "[jovian] Detected Colab notebook...\u001b[0m\n",
      "[jovian] Uploading colab notebook to Jovian...\u001b[0m\n",
      "Committed successfully! https://jovian.ai/ayushay1010/us-accidents-analysis\n"
     ]
    },
    {
     "data": {
      "application/vnd.google.colaboratory.intrinsic+json": {
       "type": "string"
      },
      "text/plain": [
       "'https://jovian.ai/ayushay1010/us-accidents-analysis'"
      ]
     },
     "execution_count": 55,
     "metadata": {},
     "output_type": "execute_result"
    }
   ],
   "source": [
    "jovian.commit()"
   ]
  },
  {
   "cell_type": "code",
   "execution_count": null,
   "metadata": {
    "id": "vaQs3QNNtKC7"
   },
   "outputs": [],
   "source": []
  }
 ],
 "metadata": {
  "colab": {
   "collapsed_sections": [],
   "name": "us-accidents-nalysis.ipynb",
   "provenance": []
  },
  "kernelspec": {
   "display_name": "Python 3 (ipykernel)",
   "language": "python",
   "name": "python3"
  },
  "language_info": {
   "codemirror_mode": {
    "name": "ipython",
    "version": 3
   },
   "file_extension": ".py",
   "mimetype": "text/x-python",
   "name": "python",
   "nbconvert_exporter": "python",
   "pygments_lexer": "ipython3",
   "version": "3.9.6"
  }
 },
 "nbformat": 4,
 "nbformat_minor": 1
}
