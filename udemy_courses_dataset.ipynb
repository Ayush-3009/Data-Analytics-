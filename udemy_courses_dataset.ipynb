{
  "cells": [
    {
      "cell_type": "code",
      "execution_count": 1,
      "metadata": {
        "colab": {
          "base_uri": "https://localhost:8080/"
        },
        "id": "A_o-cpJRvDMt",
        "outputId": "5aef586b-2d2e-404a-bde4-a3a2911cf202"
      },
      "outputs": [
        {
          "output_type": "stream",
          "name": "stdout",
          "text": [
            "\u001b[?25l\r\u001b[K     |████▊                           | 10 kB 22.5 MB/s eta 0:00:01\r\u001b[K     |█████████▌                      | 20 kB 9.7 MB/s eta 0:00:01\r\u001b[K     |██████████████▎                 | 30 kB 7.9 MB/s eta 0:00:01\r\u001b[K     |███████████████████             | 40 kB 7.0 MB/s eta 0:00:01\r\u001b[K     |███████████████████████▉        | 51 kB 3.5 MB/s eta 0:00:01\r\u001b[K     |████████████████████████████▋   | 61 kB 4.1 MB/s eta 0:00:01\r\u001b[K     |████████████████████████████████| 68 kB 2.9 MB/s \n",
            "\u001b[?25h  Building wheel for uuid (setup.py) ... \u001b[?25l\u001b[?25hdone\n"
          ]
        }
      ],
      "source": [
        "# Jovian Commit Essentials\n",
        "# Please retain and execute this cell without modifying the contents for `jovian.commit` to work\n",
        "!pip install jovian --upgrade -q\n",
        "import jovian\n",
        "jovian.set_project('udemy-courses-dataset')\n",
        "jovian.set_colab_id('1M11GHDSFMd9WWch3C980yuYA9_9nbiPC')"
      ]
    },
    {
      "cell_type": "markdown",
      "metadata": {
        "id": "MhdzmkJuvDM3"
      },
      "source": [
        "# udemy-courses-dataset\n",
        "\n",
        "Use the \"Run\" button to execute the code."
      ]
    },
    {
      "cell_type": "code",
      "execution_count": 2,
      "metadata": {
        "id": "YzEgX9RRvDM6"
      },
      "outputs": [],
      "source": [
        "!pip install jovian --upgrade --quiet"
      ]
    },
    {
      "cell_type": "code",
      "execution_count": 3,
      "metadata": {
        "id": "ZLGV8uVfvDM8"
      },
      "outputs": [],
      "source": [
        "import jovian"
      ]
    },
    {
      "cell_type": "code",
      "execution_count": 4,
      "metadata": {
        "colab": {
          "base_uri": "https://localhost:8080/",
          "height": 122
        },
        "id": "OtayFTgSvDM9",
        "outputId": "a64cdd52-3f0c-4966-d94e-b4eac0c58aeb"
      },
      "outputs": [
        {
          "output_type": "stream",
          "name": "stdout",
          "text": [
            "[jovian] Detected Colab notebook...\u001b[0m\n",
            "[jovian] Please enter your API key ( from https://jovian.ai/ ):\u001b[0m\n",
            "API KEY: ··········\n",
            "[jovian] Uploading colab notebook to Jovian...\u001b[0m\n",
            "Committed successfully! https://jovian.ai/ayushay1010/udemy-courses-dataset\n"
          ]
        },
        {
          "output_type": "execute_result",
          "data": {
            "text/plain": [
              "'https://jovian.ai/ayushay1010/udemy-courses-dataset'"
            ],
            "application/vnd.google.colaboratory.intrinsic+json": {
              "type": "string"
            }
          },
          "metadata": {},
          "execution_count": 4
        }
      ],
      "source": [
        "# Execute this to save new versions of the notebook\n",
        "jovian.commit(project=\"udemy-courses-dataset\")"
      ]
    },
    {
      "cell_type": "code",
      "source": [
        ""
      ],
      "metadata": {
        "id": "DH4mP9HZvhuH"
      },
      "execution_count": null,
      "outputs": []
    },
    {
      "cell_type": "markdown",
      "metadata": {
        "id": "ij8X2Z7cvDM_"
      },
      "source": [
        "### Dataset: https://www.kaggle.com/datasets/andrewmvd/udemy-courses"
      ]
    },
    {
      "cell_type": "code",
      "execution_count": 5,
      "metadata": {
        "id": "6mtxM1WrvDNA"
      },
      "outputs": [],
      "source": [
        "import pandas as pd"
      ]
    },
    {
      "cell_type": "code",
      "execution_count": 6,
      "metadata": {
        "id": "2oPsQfuGvDNA"
      },
      "outputs": [],
      "source": [
        "import seaborn as sns"
      ]
    },
    {
      "cell_type": "code",
      "source": [
        "pip install opendatasets --upgrade --quiet"
      ],
      "metadata": {
        "id": "uF-bLy3HvlOP"
      },
      "execution_count": 7,
      "outputs": []
    },
    {
      "cell_type": "code",
      "source": [
        "import opendatasets as od\n",
        "\n",
        "download_url = 'https://www.kaggle.com/datasets/andrewmvd/udemy-courses'\n",
        "\n",
        "od.download(download_url)"
      ],
      "metadata": {
        "colab": {
          "base_uri": "https://localhost:8080/"
        },
        "id": "ja_EH4Blv3iU",
        "outputId": "adcaad8c-582c-4c4c-c53d-abdcf7c44cc7"
      },
      "execution_count": 9,
      "outputs": [
        {
          "output_type": "stream",
          "name": "stdout",
          "text": [
            "Please provide your Kaggle credentials to download this dataset. Learn more: http://bit.ly/kaggle-creds\n",
            "Your Kaggle username: ayushyadav30\n",
            "Your Kaggle Key: ··········\n",
            "Downloading udemy-courses.zip to ./udemy-courses\n"
          ]
        },
        {
          "output_type": "stream",
          "name": "stderr",
          "text": [
            "100%|██████████| 200k/200k [00:00<00:00, 34.6MB/s]"
          ]
        },
        {
          "output_type": "stream",
          "name": "stdout",
          "text": [
            "\n"
          ]
        },
        {
          "output_type": "stream",
          "name": "stderr",
          "text": [
            "\n"
          ]
        }
      ]
    },
    {
      "cell_type": "code",
      "execution_count": 10,
      "metadata": {
        "colab": {
          "base_uri": "https://localhost:8080/",
          "height": 88
        },
        "id": "WU-q0OefvDNB",
        "outputId": "b363b6ec-5e75-404e-8c87-53dcce14f369"
      },
      "outputs": [
        {
          "output_type": "stream",
          "name": "stdout",
          "text": [
            "[jovian] Detected Colab notebook...\u001b[0m\n",
            "[jovian] Uploading colab notebook to Jovian...\u001b[0m\n",
            "Committed successfully! https://jovian.ai/ayushay1010/udemy-courses-dataset\n"
          ]
        },
        {
          "output_type": "execute_result",
          "data": {
            "text/plain": [
              "'https://jovian.ai/ayushay1010/udemy-courses-dataset'"
            ],
            "application/vnd.google.colaboratory.intrinsic+json": {
              "type": "string"
            }
          },
          "metadata": {},
          "execution_count": 10
        }
      ],
      "source": [
        "jovian.commit(project=\"udemy-courses-dataset\")"
      ]
    },
    {
      "cell_type": "code",
      "execution_count": 19,
      "metadata": {
        "id": "SabH_OZGvDNC"
      },
      "outputs": [],
      "source": [
        "data_file = '/content/udemy-courses/udemy_courses.csv'"
      ]
    },
    {
      "cell_type": "code",
      "execution_count": 20,
      "metadata": {
        "id": "y4JwSQ9RvDNC"
      },
      "outputs": [],
      "source": [
        "data = pd.read_csv(data_file)"
      ]
    },
    {
      "cell_type": "code",
      "source": [
        "data"
      ],
      "metadata": {
        "colab": {
          "base_uri": "https://localhost:8080/",
          "height": 1000
        },
        "id": "LrxIZj6cxmS-",
        "outputId": "dbc81f00-c3ad-46e8-b01d-a46a04e0cce2"
      },
      "execution_count": 21,
      "outputs": [
        {
          "output_type": "execute_result",
          "data": {
            "text/plain": [
              "      course_id                                       course_title  \\\n",
              "0       1070968                 Ultimate Investment Banking Course   \n",
              "1       1113822  Complete GST Course & Certification - Grow You...   \n",
              "2       1006314  Financial Modeling for Business Analysts and C...   \n",
              "3       1210588  Beginner to Pro - Financial Analysis in Excel ...   \n",
              "4       1011058       How To Maximize Your Profits Trading Options   \n",
              "...         ...                                                ...   \n",
              "3673     775618  Learn jQuery from Scratch - Master of JavaScri...   \n",
              "3674    1088178  How To Design A WordPress Website With No Codi...   \n",
              "3675     635248                      Learn and Build using Polymer   \n",
              "3676     905096  CSS Animations: Create Amazing Effects on Your...   \n",
              "3677     297602  Using MODX CMS to Build Websites: A Beginner's...   \n",
              "\n",
              "                                                    url  is_paid  price  \\\n",
              "0     https://www.udemy.com/ultimate-investment-bank...     True    200   \n",
              "1         https://www.udemy.com/goods-and-services-tax/     True     75   \n",
              "2     https://www.udemy.com/financial-modeling-for-b...     True     45   \n",
              "3     https://www.udemy.com/complete-excel-finance-c...     True     95   \n",
              "4     https://www.udemy.com/how-to-maximize-your-pro...     True    200   \n",
              "...                                                 ...      ...    ...   \n",
              "3673  https://www.udemy.com/easy-jquery-for-beginner...     True    100   \n",
              "3674  https://www.udemy.com/how-to-make-a-wordpress-...     True     25   \n",
              "3675  https://www.udemy.com/learn-and-build-using-po...     True     40   \n",
              "3676  https://www.udemy.com/css-animations-create-am...     True     50   \n",
              "3677  https://www.udemy.com/using-modx-cms-to-build-...     True     45   \n",
              "\n",
              "      num_subscribers  num_reviews  num_lectures               level  \\\n",
              "0                2147           23            51          All Levels   \n",
              "1                2792          923           274          All Levels   \n",
              "2                2174           74            51  Intermediate Level   \n",
              "3                2451           11            36          All Levels   \n",
              "4                1276           45            26  Intermediate Level   \n",
              "...               ...          ...           ...                 ...   \n",
              "3673             1040           14            21          All Levels   \n",
              "3674              306            3            42      Beginner Level   \n",
              "3675              513          169            48          All Levels   \n",
              "3676              300           31            38          All Levels   \n",
              "3677              901           36            20      Beginner Level   \n",
              "\n",
              "      content_duration   published_timestamp           subject  \n",
              "0                  1.5  2017-01-18T20:58:58Z  Business Finance  \n",
              "1                 39.0  2017-03-09T16:34:20Z  Business Finance  \n",
              "2                  2.5  2016-12-19T19:26:30Z  Business Finance  \n",
              "3                  3.0  2017-05-30T20:07:24Z  Business Finance  \n",
              "4                  2.0  2016-12-13T14:57:18Z  Business Finance  \n",
              "...                ...                   ...               ...  \n",
              "3673               2.0  2016-06-14T17:36:46Z   Web Development  \n",
              "3674               3.5  2017-03-10T22:24:30Z   Web Development  \n",
              "3675               3.5  2015-12-30T16:41:42Z   Web Development  \n",
              "3676               3.0  2016-08-11T19:06:15Z   Web Development  \n",
              "3677               2.0  2014-09-28T19:51:11Z   Web Development  \n",
              "\n",
              "[3678 rows x 12 columns]"
            ],
            "text/html": [
              "\n",
              "  <div id=\"df-211fff9a-943d-4228-9572-03f93667cbf1\">\n",
              "    <div class=\"colab-df-container\">\n",
              "      <div>\n",
              "<style scoped>\n",
              "    .dataframe tbody tr th:only-of-type {\n",
              "        vertical-align: middle;\n",
              "    }\n",
              "\n",
              "    .dataframe tbody tr th {\n",
              "        vertical-align: top;\n",
              "    }\n",
              "\n",
              "    .dataframe thead th {\n",
              "        text-align: right;\n",
              "    }\n",
              "</style>\n",
              "<table border=\"1\" class=\"dataframe\">\n",
              "  <thead>\n",
              "    <tr style=\"text-align: right;\">\n",
              "      <th></th>\n",
              "      <th>course_id</th>\n",
              "      <th>course_title</th>\n",
              "      <th>url</th>\n",
              "      <th>is_paid</th>\n",
              "      <th>price</th>\n",
              "      <th>num_subscribers</th>\n",
              "      <th>num_reviews</th>\n",
              "      <th>num_lectures</th>\n",
              "      <th>level</th>\n",
              "      <th>content_duration</th>\n",
              "      <th>published_timestamp</th>\n",
              "      <th>subject</th>\n",
              "    </tr>\n",
              "  </thead>\n",
              "  <tbody>\n",
              "    <tr>\n",
              "      <th>0</th>\n",
              "      <td>1070968</td>\n",
              "      <td>Ultimate Investment Banking Course</td>\n",
              "      <td>https://www.udemy.com/ultimate-investment-bank...</td>\n",
              "      <td>True</td>\n",
              "      <td>200</td>\n",
              "      <td>2147</td>\n",
              "      <td>23</td>\n",
              "      <td>51</td>\n",
              "      <td>All Levels</td>\n",
              "      <td>1.5</td>\n",
              "      <td>2017-01-18T20:58:58Z</td>\n",
              "      <td>Business Finance</td>\n",
              "    </tr>\n",
              "    <tr>\n",
              "      <th>1</th>\n",
              "      <td>1113822</td>\n",
              "      <td>Complete GST Course &amp; Certification - Grow You...</td>\n",
              "      <td>https://www.udemy.com/goods-and-services-tax/</td>\n",
              "      <td>True</td>\n",
              "      <td>75</td>\n",
              "      <td>2792</td>\n",
              "      <td>923</td>\n",
              "      <td>274</td>\n",
              "      <td>All Levels</td>\n",
              "      <td>39.0</td>\n",
              "      <td>2017-03-09T16:34:20Z</td>\n",
              "      <td>Business Finance</td>\n",
              "    </tr>\n",
              "    <tr>\n",
              "      <th>2</th>\n",
              "      <td>1006314</td>\n",
              "      <td>Financial Modeling for Business Analysts and C...</td>\n",
              "      <td>https://www.udemy.com/financial-modeling-for-b...</td>\n",
              "      <td>True</td>\n",
              "      <td>45</td>\n",
              "      <td>2174</td>\n",
              "      <td>74</td>\n",
              "      <td>51</td>\n",
              "      <td>Intermediate Level</td>\n",
              "      <td>2.5</td>\n",
              "      <td>2016-12-19T19:26:30Z</td>\n",
              "      <td>Business Finance</td>\n",
              "    </tr>\n",
              "    <tr>\n",
              "      <th>3</th>\n",
              "      <td>1210588</td>\n",
              "      <td>Beginner to Pro - Financial Analysis in Excel ...</td>\n",
              "      <td>https://www.udemy.com/complete-excel-finance-c...</td>\n",
              "      <td>True</td>\n",
              "      <td>95</td>\n",
              "      <td>2451</td>\n",
              "      <td>11</td>\n",
              "      <td>36</td>\n",
              "      <td>All Levels</td>\n",
              "      <td>3.0</td>\n",
              "      <td>2017-05-30T20:07:24Z</td>\n",
              "      <td>Business Finance</td>\n",
              "    </tr>\n",
              "    <tr>\n",
              "      <th>4</th>\n",
              "      <td>1011058</td>\n",
              "      <td>How To Maximize Your Profits Trading Options</td>\n",
              "      <td>https://www.udemy.com/how-to-maximize-your-pro...</td>\n",
              "      <td>True</td>\n",
              "      <td>200</td>\n",
              "      <td>1276</td>\n",
              "      <td>45</td>\n",
              "      <td>26</td>\n",
              "      <td>Intermediate Level</td>\n",
              "      <td>2.0</td>\n",
              "      <td>2016-12-13T14:57:18Z</td>\n",
              "      <td>Business Finance</td>\n",
              "    </tr>\n",
              "    <tr>\n",
              "      <th>...</th>\n",
              "      <td>...</td>\n",
              "      <td>...</td>\n",
              "      <td>...</td>\n",
              "      <td>...</td>\n",
              "      <td>...</td>\n",
              "      <td>...</td>\n",
              "      <td>...</td>\n",
              "      <td>...</td>\n",
              "      <td>...</td>\n",
              "      <td>...</td>\n",
              "      <td>...</td>\n",
              "      <td>...</td>\n",
              "    </tr>\n",
              "    <tr>\n",
              "      <th>3673</th>\n",
              "      <td>775618</td>\n",
              "      <td>Learn jQuery from Scratch - Master of JavaScri...</td>\n",
              "      <td>https://www.udemy.com/easy-jquery-for-beginner...</td>\n",
              "      <td>True</td>\n",
              "      <td>100</td>\n",
              "      <td>1040</td>\n",
              "      <td>14</td>\n",
              "      <td>21</td>\n",
              "      <td>All Levels</td>\n",
              "      <td>2.0</td>\n",
              "      <td>2016-06-14T17:36:46Z</td>\n",
              "      <td>Web Development</td>\n",
              "    </tr>\n",
              "    <tr>\n",
              "      <th>3674</th>\n",
              "      <td>1088178</td>\n",
              "      <td>How To Design A WordPress Website With No Codi...</td>\n",
              "      <td>https://www.udemy.com/how-to-make-a-wordpress-...</td>\n",
              "      <td>True</td>\n",
              "      <td>25</td>\n",
              "      <td>306</td>\n",
              "      <td>3</td>\n",
              "      <td>42</td>\n",
              "      <td>Beginner Level</td>\n",
              "      <td>3.5</td>\n",
              "      <td>2017-03-10T22:24:30Z</td>\n",
              "      <td>Web Development</td>\n",
              "    </tr>\n",
              "    <tr>\n",
              "      <th>3675</th>\n",
              "      <td>635248</td>\n",
              "      <td>Learn and Build using Polymer</td>\n",
              "      <td>https://www.udemy.com/learn-and-build-using-po...</td>\n",
              "      <td>True</td>\n",
              "      <td>40</td>\n",
              "      <td>513</td>\n",
              "      <td>169</td>\n",
              "      <td>48</td>\n",
              "      <td>All Levels</td>\n",
              "      <td>3.5</td>\n",
              "      <td>2015-12-30T16:41:42Z</td>\n",
              "      <td>Web Development</td>\n",
              "    </tr>\n",
              "    <tr>\n",
              "      <th>3676</th>\n",
              "      <td>905096</td>\n",
              "      <td>CSS Animations: Create Amazing Effects on Your...</td>\n",
              "      <td>https://www.udemy.com/css-animations-create-am...</td>\n",
              "      <td>True</td>\n",
              "      <td>50</td>\n",
              "      <td>300</td>\n",
              "      <td>31</td>\n",
              "      <td>38</td>\n",
              "      <td>All Levels</td>\n",
              "      <td>3.0</td>\n",
              "      <td>2016-08-11T19:06:15Z</td>\n",
              "      <td>Web Development</td>\n",
              "    </tr>\n",
              "    <tr>\n",
              "      <th>3677</th>\n",
              "      <td>297602</td>\n",
              "      <td>Using MODX CMS to Build Websites: A Beginner's...</td>\n",
              "      <td>https://www.udemy.com/using-modx-cms-to-build-...</td>\n",
              "      <td>True</td>\n",
              "      <td>45</td>\n",
              "      <td>901</td>\n",
              "      <td>36</td>\n",
              "      <td>20</td>\n",
              "      <td>Beginner Level</td>\n",
              "      <td>2.0</td>\n",
              "      <td>2014-09-28T19:51:11Z</td>\n",
              "      <td>Web Development</td>\n",
              "    </tr>\n",
              "  </tbody>\n",
              "</table>\n",
              "<p>3678 rows × 12 columns</p>\n",
              "</div>\n",
              "      <button class=\"colab-df-convert\" onclick=\"convertToInteractive('df-211fff9a-943d-4228-9572-03f93667cbf1')\"\n",
              "              title=\"Convert this dataframe to an interactive table.\"\n",
              "              style=\"display:none;\">\n",
              "        \n",
              "  <svg xmlns=\"http://www.w3.org/2000/svg\" height=\"24px\"viewBox=\"0 0 24 24\"\n",
              "       width=\"24px\">\n",
              "    <path d=\"M0 0h24v24H0V0z\" fill=\"none\"/>\n",
              "    <path d=\"M18.56 5.44l.94 2.06.94-2.06 2.06-.94-2.06-.94-.94-2.06-.94 2.06-2.06.94zm-11 1L8.5 8.5l.94-2.06 2.06-.94-2.06-.94L8.5 2.5l-.94 2.06-2.06.94zm10 10l.94 2.06.94-2.06 2.06-.94-2.06-.94-.94-2.06-.94 2.06-2.06.94z\"/><path d=\"M17.41 7.96l-1.37-1.37c-.4-.4-.92-.59-1.43-.59-.52 0-1.04.2-1.43.59L10.3 9.45l-7.72 7.72c-.78.78-.78 2.05 0 2.83L4 21.41c.39.39.9.59 1.41.59.51 0 1.02-.2 1.41-.59l7.78-7.78 2.81-2.81c.8-.78.8-2.07 0-2.86zM5.41 20L4 18.59l7.72-7.72 1.47 1.35L5.41 20z\"/>\n",
              "  </svg>\n",
              "      </button>\n",
              "      \n",
              "  <style>\n",
              "    .colab-df-container {\n",
              "      display:flex;\n",
              "      flex-wrap:wrap;\n",
              "      gap: 12px;\n",
              "    }\n",
              "\n",
              "    .colab-df-convert {\n",
              "      background-color: #E8F0FE;\n",
              "      border: none;\n",
              "      border-radius: 50%;\n",
              "      cursor: pointer;\n",
              "      display: none;\n",
              "      fill: #1967D2;\n",
              "      height: 32px;\n",
              "      padding: 0 0 0 0;\n",
              "      width: 32px;\n",
              "    }\n",
              "\n",
              "    .colab-df-convert:hover {\n",
              "      background-color: #E2EBFA;\n",
              "      box-shadow: 0px 1px 2px rgba(60, 64, 67, 0.3), 0px 1px 3px 1px rgba(60, 64, 67, 0.15);\n",
              "      fill: #174EA6;\n",
              "    }\n",
              "\n",
              "    [theme=dark] .colab-df-convert {\n",
              "      background-color: #3B4455;\n",
              "      fill: #D2E3FC;\n",
              "    }\n",
              "\n",
              "    [theme=dark] .colab-df-convert:hover {\n",
              "      background-color: #434B5C;\n",
              "      box-shadow: 0px 1px 3px 1px rgba(0, 0, 0, 0.15);\n",
              "      filter: drop-shadow(0px 1px 2px rgba(0, 0, 0, 0.3));\n",
              "      fill: #FFFFFF;\n",
              "    }\n",
              "  </style>\n",
              "\n",
              "      <script>\n",
              "        const buttonEl =\n",
              "          document.querySelector('#df-211fff9a-943d-4228-9572-03f93667cbf1 button.colab-df-convert');\n",
              "        buttonEl.style.display =\n",
              "          google.colab.kernel.accessAllowed ? 'block' : 'none';\n",
              "\n",
              "        async function convertToInteractive(key) {\n",
              "          const element = document.querySelector('#df-211fff9a-943d-4228-9572-03f93667cbf1');\n",
              "          const dataTable =\n",
              "            await google.colab.kernel.invokeFunction('convertToInteractive',\n",
              "                                                     [key], {});\n",
              "          if (!dataTable) return;\n",
              "\n",
              "          const docLinkHtml = 'Like what you see? Visit the ' +\n",
              "            '<a target=\"_blank\" href=https://colab.research.google.com/notebooks/data_table.ipynb>data table notebook</a>'\n",
              "            + ' to learn more about interactive tables.';\n",
              "          element.innerHTML = '';\n",
              "          dataTable['output_type'] = 'display_data';\n",
              "          await google.colab.output.renderOutput(dataTable, element);\n",
              "          const docLink = document.createElement('div');\n",
              "          docLink.innerHTML = docLinkHtml;\n",
              "          element.appendChild(docLink);\n",
              "        }\n",
              "      </script>\n",
              "    </div>\n",
              "  </div>\n",
              "  "
            ]
          },
          "metadata": {},
          "execution_count": 21
        }
      ]
    },
    {
      "cell_type": "code",
      "source": [
        "data.dtypes"
      ],
      "metadata": {
        "colab": {
          "base_uri": "https://localhost:8080/"
        },
        "id": "oIsCHwm9zCXj",
        "outputId": "b29efca5-e57e-4c03-e0ea-8180e97a75e6"
      },
      "execution_count": 22,
      "outputs": [
        {
          "output_type": "execute_result",
          "data": {
            "text/plain": [
              "course_id                int64\n",
              "course_title            object\n",
              "url                     object\n",
              "is_paid                   bool\n",
              "price                    int64\n",
              "num_subscribers          int64\n",
              "num_reviews              int64\n",
              "num_lectures             int64\n",
              "level                   object\n",
              "content_duration       float64\n",
              "published_timestamp     object\n",
              "subject                 object\n",
              "dtype: object"
            ]
          },
          "metadata": {},
          "execution_count": 22
        }
      ]
    },
    {
      "cell_type": "markdown",
      "source": [
        "## Display Top 10 Rows of the Dataset"
      ],
      "metadata": {
        "id": "eNGlToI0zNot"
      }
    },
    {
      "cell_type": "code",
      "source": [
        "data.head(10)"
      ],
      "metadata": {
        "colab": {
          "base_uri": "https://localhost:8080/",
          "height": 1000
        },
        "id": "1tYnvqvQzHrT",
        "outputId": "9977c647-a77b-4dfb-b567-bd28283031a2"
      },
      "execution_count": 23,
      "outputs": [
        {
          "output_type": "execute_result",
          "data": {
            "text/plain": [
              "   course_id                                       course_title  \\\n",
              "0    1070968                 Ultimate Investment Banking Course   \n",
              "1    1113822  Complete GST Course & Certification - Grow You...   \n",
              "2    1006314  Financial Modeling for Business Analysts and C...   \n",
              "3    1210588  Beginner to Pro - Financial Analysis in Excel ...   \n",
              "4    1011058       How To Maximize Your Profits Trading Options   \n",
              "5     192870  Trading Penny Stocks: A Guide for All Levels I...   \n",
              "6     739964  Investing And Trading For Beginners: Mastering...   \n",
              "7     403100  Trading Stock Chart Patterns For Immediate, Ex...   \n",
              "8     476268  Options Trading 3 : Advanced Stock Profit and ...   \n",
              "9    1167710  The Only Investment Strategy You Need For Your...   \n",
              "\n",
              "                                                 url  is_paid  price  \\\n",
              "0  https://www.udemy.com/ultimate-investment-bank...     True    200   \n",
              "1      https://www.udemy.com/goods-and-services-tax/     True     75   \n",
              "2  https://www.udemy.com/financial-modeling-for-b...     True     45   \n",
              "3  https://www.udemy.com/complete-excel-finance-c...     True     95   \n",
              "4  https://www.udemy.com/how-to-maximize-your-pro...     True    200   \n",
              "5  https://www.udemy.com/trading-penny-stocks-a-g...     True    150   \n",
              "6  https://www.udemy.com/investing-and-trading-fo...     True     65   \n",
              "7  https://www.udemy.com/trading-chart-patterns-f...     True     95   \n",
              "8  https://www.udemy.com/day-trading-stock-option...     True    195   \n",
              "9  https://www.udemy.com/the-only-investment-stra...     True    200   \n",
              "\n",
              "   num_subscribers  num_reviews  num_lectures               level  \\\n",
              "0             2147           23            51          All Levels   \n",
              "1             2792          923           274          All Levels   \n",
              "2             2174           74            51  Intermediate Level   \n",
              "3             2451           11            36          All Levels   \n",
              "4             1276           45            26  Intermediate Level   \n",
              "5             9221          138            25          All Levels   \n",
              "6             1540          178            26      Beginner Level   \n",
              "7             2917          148            23          All Levels   \n",
              "8             5172           34            38        Expert Level   \n",
              "9              827           14            15          All Levels   \n",
              "\n",
              "   content_duration   published_timestamp           subject  \n",
              "0               1.5  2017-01-18T20:58:58Z  Business Finance  \n",
              "1              39.0  2017-03-09T16:34:20Z  Business Finance  \n",
              "2               2.5  2016-12-19T19:26:30Z  Business Finance  \n",
              "3               3.0  2017-05-30T20:07:24Z  Business Finance  \n",
              "4               2.0  2016-12-13T14:57:18Z  Business Finance  \n",
              "5               3.0  2014-05-02T15:13:30Z  Business Finance  \n",
              "6               1.0  2016-02-21T18:23:12Z  Business Finance  \n",
              "7               2.5  2015-01-30T22:13:03Z  Business Finance  \n",
              "8               2.5  2015-05-28T00:14:03Z  Business Finance  \n",
              "9               1.0  2017-04-18T18:13:32Z  Business Finance  "
            ],
            "text/html": [
              "\n",
              "  <div id=\"df-9e8b47fb-3b74-48c4-95db-37a9d1a796af\">\n",
              "    <div class=\"colab-df-container\">\n",
              "      <div>\n",
              "<style scoped>\n",
              "    .dataframe tbody tr th:only-of-type {\n",
              "        vertical-align: middle;\n",
              "    }\n",
              "\n",
              "    .dataframe tbody tr th {\n",
              "        vertical-align: top;\n",
              "    }\n",
              "\n",
              "    .dataframe thead th {\n",
              "        text-align: right;\n",
              "    }\n",
              "</style>\n",
              "<table border=\"1\" class=\"dataframe\">\n",
              "  <thead>\n",
              "    <tr style=\"text-align: right;\">\n",
              "      <th></th>\n",
              "      <th>course_id</th>\n",
              "      <th>course_title</th>\n",
              "      <th>url</th>\n",
              "      <th>is_paid</th>\n",
              "      <th>price</th>\n",
              "      <th>num_subscribers</th>\n",
              "      <th>num_reviews</th>\n",
              "      <th>num_lectures</th>\n",
              "      <th>level</th>\n",
              "      <th>content_duration</th>\n",
              "      <th>published_timestamp</th>\n",
              "      <th>subject</th>\n",
              "    </tr>\n",
              "  </thead>\n",
              "  <tbody>\n",
              "    <tr>\n",
              "      <th>0</th>\n",
              "      <td>1070968</td>\n",
              "      <td>Ultimate Investment Banking Course</td>\n",
              "      <td>https://www.udemy.com/ultimate-investment-bank...</td>\n",
              "      <td>True</td>\n",
              "      <td>200</td>\n",
              "      <td>2147</td>\n",
              "      <td>23</td>\n",
              "      <td>51</td>\n",
              "      <td>All Levels</td>\n",
              "      <td>1.5</td>\n",
              "      <td>2017-01-18T20:58:58Z</td>\n",
              "      <td>Business Finance</td>\n",
              "    </tr>\n",
              "    <tr>\n",
              "      <th>1</th>\n",
              "      <td>1113822</td>\n",
              "      <td>Complete GST Course &amp; Certification - Grow You...</td>\n",
              "      <td>https://www.udemy.com/goods-and-services-tax/</td>\n",
              "      <td>True</td>\n",
              "      <td>75</td>\n",
              "      <td>2792</td>\n",
              "      <td>923</td>\n",
              "      <td>274</td>\n",
              "      <td>All Levels</td>\n",
              "      <td>39.0</td>\n",
              "      <td>2017-03-09T16:34:20Z</td>\n",
              "      <td>Business Finance</td>\n",
              "    </tr>\n",
              "    <tr>\n",
              "      <th>2</th>\n",
              "      <td>1006314</td>\n",
              "      <td>Financial Modeling for Business Analysts and C...</td>\n",
              "      <td>https://www.udemy.com/financial-modeling-for-b...</td>\n",
              "      <td>True</td>\n",
              "      <td>45</td>\n",
              "      <td>2174</td>\n",
              "      <td>74</td>\n",
              "      <td>51</td>\n",
              "      <td>Intermediate Level</td>\n",
              "      <td>2.5</td>\n",
              "      <td>2016-12-19T19:26:30Z</td>\n",
              "      <td>Business Finance</td>\n",
              "    </tr>\n",
              "    <tr>\n",
              "      <th>3</th>\n",
              "      <td>1210588</td>\n",
              "      <td>Beginner to Pro - Financial Analysis in Excel ...</td>\n",
              "      <td>https://www.udemy.com/complete-excel-finance-c...</td>\n",
              "      <td>True</td>\n",
              "      <td>95</td>\n",
              "      <td>2451</td>\n",
              "      <td>11</td>\n",
              "      <td>36</td>\n",
              "      <td>All Levels</td>\n",
              "      <td>3.0</td>\n",
              "      <td>2017-05-30T20:07:24Z</td>\n",
              "      <td>Business Finance</td>\n",
              "    </tr>\n",
              "    <tr>\n",
              "      <th>4</th>\n",
              "      <td>1011058</td>\n",
              "      <td>How To Maximize Your Profits Trading Options</td>\n",
              "      <td>https://www.udemy.com/how-to-maximize-your-pro...</td>\n",
              "      <td>True</td>\n",
              "      <td>200</td>\n",
              "      <td>1276</td>\n",
              "      <td>45</td>\n",
              "      <td>26</td>\n",
              "      <td>Intermediate Level</td>\n",
              "      <td>2.0</td>\n",
              "      <td>2016-12-13T14:57:18Z</td>\n",
              "      <td>Business Finance</td>\n",
              "    </tr>\n",
              "    <tr>\n",
              "      <th>5</th>\n",
              "      <td>192870</td>\n",
              "      <td>Trading Penny Stocks: A Guide for All Levels I...</td>\n",
              "      <td>https://www.udemy.com/trading-penny-stocks-a-g...</td>\n",
              "      <td>True</td>\n",
              "      <td>150</td>\n",
              "      <td>9221</td>\n",
              "      <td>138</td>\n",
              "      <td>25</td>\n",
              "      <td>All Levels</td>\n",
              "      <td>3.0</td>\n",
              "      <td>2014-05-02T15:13:30Z</td>\n",
              "      <td>Business Finance</td>\n",
              "    </tr>\n",
              "    <tr>\n",
              "      <th>6</th>\n",
              "      <td>739964</td>\n",
              "      <td>Investing And Trading For Beginners: Mastering...</td>\n",
              "      <td>https://www.udemy.com/investing-and-trading-fo...</td>\n",
              "      <td>True</td>\n",
              "      <td>65</td>\n",
              "      <td>1540</td>\n",
              "      <td>178</td>\n",
              "      <td>26</td>\n",
              "      <td>Beginner Level</td>\n",
              "      <td>1.0</td>\n",
              "      <td>2016-02-21T18:23:12Z</td>\n",
              "      <td>Business Finance</td>\n",
              "    </tr>\n",
              "    <tr>\n",
              "      <th>7</th>\n",
              "      <td>403100</td>\n",
              "      <td>Trading Stock Chart Patterns For Immediate, Ex...</td>\n",
              "      <td>https://www.udemy.com/trading-chart-patterns-f...</td>\n",
              "      <td>True</td>\n",
              "      <td>95</td>\n",
              "      <td>2917</td>\n",
              "      <td>148</td>\n",
              "      <td>23</td>\n",
              "      <td>All Levels</td>\n",
              "      <td>2.5</td>\n",
              "      <td>2015-01-30T22:13:03Z</td>\n",
              "      <td>Business Finance</td>\n",
              "    </tr>\n",
              "    <tr>\n",
              "      <th>8</th>\n",
              "      <td>476268</td>\n",
              "      <td>Options Trading 3 : Advanced Stock Profit and ...</td>\n",
              "      <td>https://www.udemy.com/day-trading-stock-option...</td>\n",
              "      <td>True</td>\n",
              "      <td>195</td>\n",
              "      <td>5172</td>\n",
              "      <td>34</td>\n",
              "      <td>38</td>\n",
              "      <td>Expert Level</td>\n",
              "      <td>2.5</td>\n",
              "      <td>2015-05-28T00:14:03Z</td>\n",
              "      <td>Business Finance</td>\n",
              "    </tr>\n",
              "    <tr>\n",
              "      <th>9</th>\n",
              "      <td>1167710</td>\n",
              "      <td>The Only Investment Strategy You Need For Your...</td>\n",
              "      <td>https://www.udemy.com/the-only-investment-stra...</td>\n",
              "      <td>True</td>\n",
              "      <td>200</td>\n",
              "      <td>827</td>\n",
              "      <td>14</td>\n",
              "      <td>15</td>\n",
              "      <td>All Levels</td>\n",
              "      <td>1.0</td>\n",
              "      <td>2017-04-18T18:13:32Z</td>\n",
              "      <td>Business Finance</td>\n",
              "    </tr>\n",
              "  </tbody>\n",
              "</table>\n",
              "</div>\n",
              "      <button class=\"colab-df-convert\" onclick=\"convertToInteractive('df-9e8b47fb-3b74-48c4-95db-37a9d1a796af')\"\n",
              "              title=\"Convert this dataframe to an interactive table.\"\n",
              "              style=\"display:none;\">\n",
              "        \n",
              "  <svg xmlns=\"http://www.w3.org/2000/svg\" height=\"24px\"viewBox=\"0 0 24 24\"\n",
              "       width=\"24px\">\n",
              "    <path d=\"M0 0h24v24H0V0z\" fill=\"none\"/>\n",
              "    <path d=\"M18.56 5.44l.94 2.06.94-2.06 2.06-.94-2.06-.94-.94-2.06-.94 2.06-2.06.94zm-11 1L8.5 8.5l.94-2.06 2.06-.94-2.06-.94L8.5 2.5l-.94 2.06-2.06.94zm10 10l.94 2.06.94-2.06 2.06-.94-2.06-.94-.94-2.06-.94 2.06-2.06.94z\"/><path d=\"M17.41 7.96l-1.37-1.37c-.4-.4-.92-.59-1.43-.59-.52 0-1.04.2-1.43.59L10.3 9.45l-7.72 7.72c-.78.78-.78 2.05 0 2.83L4 21.41c.39.39.9.59 1.41.59.51 0 1.02-.2 1.41-.59l7.78-7.78 2.81-2.81c.8-.78.8-2.07 0-2.86zM5.41 20L4 18.59l7.72-7.72 1.47 1.35L5.41 20z\"/>\n",
              "  </svg>\n",
              "      </button>\n",
              "      \n",
              "  <style>\n",
              "    .colab-df-container {\n",
              "      display:flex;\n",
              "      flex-wrap:wrap;\n",
              "      gap: 12px;\n",
              "    }\n",
              "\n",
              "    .colab-df-convert {\n",
              "      background-color: #E8F0FE;\n",
              "      border: none;\n",
              "      border-radius: 50%;\n",
              "      cursor: pointer;\n",
              "      display: none;\n",
              "      fill: #1967D2;\n",
              "      height: 32px;\n",
              "      padding: 0 0 0 0;\n",
              "      width: 32px;\n",
              "    }\n",
              "\n",
              "    .colab-df-convert:hover {\n",
              "      background-color: #E2EBFA;\n",
              "      box-shadow: 0px 1px 2px rgba(60, 64, 67, 0.3), 0px 1px 3px 1px rgba(60, 64, 67, 0.15);\n",
              "      fill: #174EA6;\n",
              "    }\n",
              "\n",
              "    [theme=dark] .colab-df-convert {\n",
              "      background-color: #3B4455;\n",
              "      fill: #D2E3FC;\n",
              "    }\n",
              "\n",
              "    [theme=dark] .colab-df-convert:hover {\n",
              "      background-color: #434B5C;\n",
              "      box-shadow: 0px 1px 3px 1px rgba(0, 0, 0, 0.15);\n",
              "      filter: drop-shadow(0px 1px 2px rgba(0, 0, 0, 0.3));\n",
              "      fill: #FFFFFF;\n",
              "    }\n",
              "  </style>\n",
              "\n",
              "      <script>\n",
              "        const buttonEl =\n",
              "          document.querySelector('#df-9e8b47fb-3b74-48c4-95db-37a9d1a796af button.colab-df-convert');\n",
              "        buttonEl.style.display =\n",
              "          google.colab.kernel.accessAllowed ? 'block' : 'none';\n",
              "\n",
              "        async function convertToInteractive(key) {\n",
              "          const element = document.querySelector('#df-9e8b47fb-3b74-48c4-95db-37a9d1a796af');\n",
              "          const dataTable =\n",
              "            await google.colab.kernel.invokeFunction('convertToInteractive',\n",
              "                                                     [key], {});\n",
              "          if (!dataTable) return;\n",
              "\n",
              "          const docLinkHtml = 'Like what you see? Visit the ' +\n",
              "            '<a target=\"_blank\" href=https://colab.research.google.com/notebooks/data_table.ipynb>data table notebook</a>'\n",
              "            + ' to learn more about interactive tables.';\n",
              "          element.innerHTML = '';\n",
              "          dataTable['output_type'] = 'display_data';\n",
              "          await google.colab.output.renderOutput(dataTable, element);\n",
              "          const docLink = document.createElement('div');\n",
              "          docLink.innerHTML = docLinkHtml;\n",
              "          element.appendChild(docLink);\n",
              "        }\n",
              "      </script>\n",
              "    </div>\n",
              "  </div>\n",
              "  "
            ]
          },
          "metadata": {},
          "execution_count": 23
        }
      ]
    },
    {
      "cell_type": "markdown",
      "source": [
        "## Check Last 5 Rows of the dataset"
      ],
      "metadata": {
        "id": "JMq5Y8MyzfQF"
      }
    },
    {
      "cell_type": "code",
      "source": [
        "data.tail(5)"
      ],
      "metadata": {
        "colab": {
          "base_uri": "https://localhost:8080/",
          "height": 565
        },
        "id": "xWH8JZuSzWpe",
        "outputId": "b3b43832-9190-4a07-f555-8ec08a0a6c76"
      },
      "execution_count": 24,
      "outputs": [
        {
          "output_type": "execute_result",
          "data": {
            "text/plain": [
              "      course_id                                       course_title  \\\n",
              "3673     775618  Learn jQuery from Scratch - Master of JavaScri...   \n",
              "3674    1088178  How To Design A WordPress Website With No Codi...   \n",
              "3675     635248                      Learn and Build using Polymer   \n",
              "3676     905096  CSS Animations: Create Amazing Effects on Your...   \n",
              "3677     297602  Using MODX CMS to Build Websites: A Beginner's...   \n",
              "\n",
              "                                                    url  is_paid  price  \\\n",
              "3673  https://www.udemy.com/easy-jquery-for-beginner...     True    100   \n",
              "3674  https://www.udemy.com/how-to-make-a-wordpress-...     True     25   \n",
              "3675  https://www.udemy.com/learn-and-build-using-po...     True     40   \n",
              "3676  https://www.udemy.com/css-animations-create-am...     True     50   \n",
              "3677  https://www.udemy.com/using-modx-cms-to-build-...     True     45   \n",
              "\n",
              "      num_subscribers  num_reviews  num_lectures           level  \\\n",
              "3673             1040           14            21      All Levels   \n",
              "3674              306            3            42  Beginner Level   \n",
              "3675              513          169            48      All Levels   \n",
              "3676              300           31            38      All Levels   \n",
              "3677              901           36            20  Beginner Level   \n",
              "\n",
              "      content_duration   published_timestamp          subject  \n",
              "3673               2.0  2016-06-14T17:36:46Z  Web Development  \n",
              "3674               3.5  2017-03-10T22:24:30Z  Web Development  \n",
              "3675               3.5  2015-12-30T16:41:42Z  Web Development  \n",
              "3676               3.0  2016-08-11T19:06:15Z  Web Development  \n",
              "3677               2.0  2014-09-28T19:51:11Z  Web Development  "
            ],
            "text/html": [
              "\n",
              "  <div id=\"df-bf0d6fbd-85c4-49d6-9c85-d9093d15c4db\">\n",
              "    <div class=\"colab-df-container\">\n",
              "      <div>\n",
              "<style scoped>\n",
              "    .dataframe tbody tr th:only-of-type {\n",
              "        vertical-align: middle;\n",
              "    }\n",
              "\n",
              "    .dataframe tbody tr th {\n",
              "        vertical-align: top;\n",
              "    }\n",
              "\n",
              "    .dataframe thead th {\n",
              "        text-align: right;\n",
              "    }\n",
              "</style>\n",
              "<table border=\"1\" class=\"dataframe\">\n",
              "  <thead>\n",
              "    <tr style=\"text-align: right;\">\n",
              "      <th></th>\n",
              "      <th>course_id</th>\n",
              "      <th>course_title</th>\n",
              "      <th>url</th>\n",
              "      <th>is_paid</th>\n",
              "      <th>price</th>\n",
              "      <th>num_subscribers</th>\n",
              "      <th>num_reviews</th>\n",
              "      <th>num_lectures</th>\n",
              "      <th>level</th>\n",
              "      <th>content_duration</th>\n",
              "      <th>published_timestamp</th>\n",
              "      <th>subject</th>\n",
              "    </tr>\n",
              "  </thead>\n",
              "  <tbody>\n",
              "    <tr>\n",
              "      <th>3673</th>\n",
              "      <td>775618</td>\n",
              "      <td>Learn jQuery from Scratch - Master of JavaScri...</td>\n",
              "      <td>https://www.udemy.com/easy-jquery-for-beginner...</td>\n",
              "      <td>True</td>\n",
              "      <td>100</td>\n",
              "      <td>1040</td>\n",
              "      <td>14</td>\n",
              "      <td>21</td>\n",
              "      <td>All Levels</td>\n",
              "      <td>2.0</td>\n",
              "      <td>2016-06-14T17:36:46Z</td>\n",
              "      <td>Web Development</td>\n",
              "    </tr>\n",
              "    <tr>\n",
              "      <th>3674</th>\n",
              "      <td>1088178</td>\n",
              "      <td>How To Design A WordPress Website With No Codi...</td>\n",
              "      <td>https://www.udemy.com/how-to-make-a-wordpress-...</td>\n",
              "      <td>True</td>\n",
              "      <td>25</td>\n",
              "      <td>306</td>\n",
              "      <td>3</td>\n",
              "      <td>42</td>\n",
              "      <td>Beginner Level</td>\n",
              "      <td>3.5</td>\n",
              "      <td>2017-03-10T22:24:30Z</td>\n",
              "      <td>Web Development</td>\n",
              "    </tr>\n",
              "    <tr>\n",
              "      <th>3675</th>\n",
              "      <td>635248</td>\n",
              "      <td>Learn and Build using Polymer</td>\n",
              "      <td>https://www.udemy.com/learn-and-build-using-po...</td>\n",
              "      <td>True</td>\n",
              "      <td>40</td>\n",
              "      <td>513</td>\n",
              "      <td>169</td>\n",
              "      <td>48</td>\n",
              "      <td>All Levels</td>\n",
              "      <td>3.5</td>\n",
              "      <td>2015-12-30T16:41:42Z</td>\n",
              "      <td>Web Development</td>\n",
              "    </tr>\n",
              "    <tr>\n",
              "      <th>3676</th>\n",
              "      <td>905096</td>\n",
              "      <td>CSS Animations: Create Amazing Effects on Your...</td>\n",
              "      <td>https://www.udemy.com/css-animations-create-am...</td>\n",
              "      <td>True</td>\n",
              "      <td>50</td>\n",
              "      <td>300</td>\n",
              "      <td>31</td>\n",
              "      <td>38</td>\n",
              "      <td>All Levels</td>\n",
              "      <td>3.0</td>\n",
              "      <td>2016-08-11T19:06:15Z</td>\n",
              "      <td>Web Development</td>\n",
              "    </tr>\n",
              "    <tr>\n",
              "      <th>3677</th>\n",
              "      <td>297602</td>\n",
              "      <td>Using MODX CMS to Build Websites: A Beginner's...</td>\n",
              "      <td>https://www.udemy.com/using-modx-cms-to-build-...</td>\n",
              "      <td>True</td>\n",
              "      <td>45</td>\n",
              "      <td>901</td>\n",
              "      <td>36</td>\n",
              "      <td>20</td>\n",
              "      <td>Beginner Level</td>\n",
              "      <td>2.0</td>\n",
              "      <td>2014-09-28T19:51:11Z</td>\n",
              "      <td>Web Development</td>\n",
              "    </tr>\n",
              "  </tbody>\n",
              "</table>\n",
              "</div>\n",
              "      <button class=\"colab-df-convert\" onclick=\"convertToInteractive('df-bf0d6fbd-85c4-49d6-9c85-d9093d15c4db')\"\n",
              "              title=\"Convert this dataframe to an interactive table.\"\n",
              "              style=\"display:none;\">\n",
              "        \n",
              "  <svg xmlns=\"http://www.w3.org/2000/svg\" height=\"24px\"viewBox=\"0 0 24 24\"\n",
              "       width=\"24px\">\n",
              "    <path d=\"M0 0h24v24H0V0z\" fill=\"none\"/>\n",
              "    <path d=\"M18.56 5.44l.94 2.06.94-2.06 2.06-.94-2.06-.94-.94-2.06-.94 2.06-2.06.94zm-11 1L8.5 8.5l.94-2.06 2.06-.94-2.06-.94L8.5 2.5l-.94 2.06-2.06.94zm10 10l.94 2.06.94-2.06 2.06-.94-2.06-.94-.94-2.06-.94 2.06-2.06.94z\"/><path d=\"M17.41 7.96l-1.37-1.37c-.4-.4-.92-.59-1.43-.59-.52 0-1.04.2-1.43.59L10.3 9.45l-7.72 7.72c-.78.78-.78 2.05 0 2.83L4 21.41c.39.39.9.59 1.41.59.51 0 1.02-.2 1.41-.59l7.78-7.78 2.81-2.81c.8-.78.8-2.07 0-2.86zM5.41 20L4 18.59l7.72-7.72 1.47 1.35L5.41 20z\"/>\n",
              "  </svg>\n",
              "      </button>\n",
              "      \n",
              "  <style>\n",
              "    .colab-df-container {\n",
              "      display:flex;\n",
              "      flex-wrap:wrap;\n",
              "      gap: 12px;\n",
              "    }\n",
              "\n",
              "    .colab-df-convert {\n",
              "      background-color: #E8F0FE;\n",
              "      border: none;\n",
              "      border-radius: 50%;\n",
              "      cursor: pointer;\n",
              "      display: none;\n",
              "      fill: #1967D2;\n",
              "      height: 32px;\n",
              "      padding: 0 0 0 0;\n",
              "      width: 32px;\n",
              "    }\n",
              "\n",
              "    .colab-df-convert:hover {\n",
              "      background-color: #E2EBFA;\n",
              "      box-shadow: 0px 1px 2px rgba(60, 64, 67, 0.3), 0px 1px 3px 1px rgba(60, 64, 67, 0.15);\n",
              "      fill: #174EA6;\n",
              "    }\n",
              "\n",
              "    [theme=dark] .colab-df-convert {\n",
              "      background-color: #3B4455;\n",
              "      fill: #D2E3FC;\n",
              "    }\n",
              "\n",
              "    [theme=dark] .colab-df-convert:hover {\n",
              "      background-color: #434B5C;\n",
              "      box-shadow: 0px 1px 3px 1px rgba(0, 0, 0, 0.15);\n",
              "      filter: drop-shadow(0px 1px 2px rgba(0, 0, 0, 0.3));\n",
              "      fill: #FFFFFF;\n",
              "    }\n",
              "  </style>\n",
              "\n",
              "      <script>\n",
              "        const buttonEl =\n",
              "          document.querySelector('#df-bf0d6fbd-85c4-49d6-9c85-d9093d15c4db button.colab-df-convert');\n",
              "        buttonEl.style.display =\n",
              "          google.colab.kernel.accessAllowed ? 'block' : 'none';\n",
              "\n",
              "        async function convertToInteractive(key) {\n",
              "          const element = document.querySelector('#df-bf0d6fbd-85c4-49d6-9c85-d9093d15c4db');\n",
              "          const dataTable =\n",
              "            await google.colab.kernel.invokeFunction('convertToInteractive',\n",
              "                                                     [key], {});\n",
              "          if (!dataTable) return;\n",
              "\n",
              "          const docLinkHtml = 'Like what you see? Visit the ' +\n",
              "            '<a target=\"_blank\" href=https://colab.research.google.com/notebooks/data_table.ipynb>data table notebook</a>'\n",
              "            + ' to learn more about interactive tables.';\n",
              "          element.innerHTML = '';\n",
              "          dataTable['output_type'] = 'display_data';\n",
              "          await google.colab.output.renderOutput(dataTable, element);\n",
              "          const docLink = document.createElement('div');\n",
              "          docLink.innerHTML = docLinkHtml;\n",
              "          element.appendChild(docLink);\n",
              "        }\n",
              "      </script>\n",
              "    </div>\n",
              "  </div>\n",
              "  "
            ]
          },
          "metadata": {},
          "execution_count": 24
        }
      ]
    },
    {
      "cell_type": "markdown",
      "source": [
        "## Shape of our Dataset(Number of Rows and and Number of columns)"
      ],
      "metadata": {
        "id": "27iQ8Or2z1iF"
      }
    },
    {
      "cell_type": "code",
      "source": [
        "data.shape"
      ],
      "metadata": {
        "colab": {
          "base_uri": "https://localhost:8080/"
        },
        "id": "pWrLggiKzrqj",
        "outputId": "d64af43c-01a2-420c-b3bd-e92632ae2a92"
      },
      "execution_count": 25,
      "outputs": [
        {
          "output_type": "execute_result",
          "data": {
            "text/plain": [
              "(3678, 12)"
            ]
          },
          "metadata": {},
          "execution_count": 25
        }
      ]
    },
    {
      "cell_type": "code",
      "source": [
        "print(\"Number of Rows\", data.shape[0])\n",
        "print(\"Number of Columns\", data.shape[1])"
      ],
      "metadata": {
        "colab": {
          "base_uri": "https://localhost:8080/"
        },
        "id": "yPPXWnESz_TF",
        "outputId": "29997c96-2462-4a75-87e5-1f884e91e957"
      },
      "execution_count": 27,
      "outputs": [
        {
          "output_type": "stream",
          "name": "stdout",
          "text": [
            "Number of Rows 3678\n",
            "Number of Columns 12\n"
          ]
        }
      ]
    },
    {
      "cell_type": "markdown",
      "source": [
        "## Getting Info. about the dataset"
      ],
      "metadata": {
        "id": "LChxqS-K0Q1v"
      }
    },
    {
      "cell_type": "code",
      "source": [
        "data.info()"
      ],
      "metadata": {
        "colab": {
          "base_uri": "https://localhost:8080/"
        },
        "id": "s2KnfgoH0HON",
        "outputId": "b1c18193-a14b-460d-e4bf-2585051a3666"
      },
      "execution_count": 28,
      "outputs": [
        {
          "output_type": "stream",
          "name": "stdout",
          "text": [
            "<class 'pandas.core.frame.DataFrame'>\n",
            "RangeIndex: 3678 entries, 0 to 3677\n",
            "Data columns (total 12 columns):\n",
            " #   Column               Non-Null Count  Dtype  \n",
            "---  ------               --------------  -----  \n",
            " 0   course_id            3678 non-null   int64  \n",
            " 1   course_title         3678 non-null   object \n",
            " 2   url                  3678 non-null   object \n",
            " 3   is_paid              3678 non-null   bool   \n",
            " 4   price                3678 non-null   int64  \n",
            " 5   num_subscribers      3678 non-null   int64  \n",
            " 6   num_reviews          3678 non-null   int64  \n",
            " 7   num_lectures         3678 non-null   int64  \n",
            " 8   level                3678 non-null   object \n",
            " 9   content_duration     3678 non-null   float64\n",
            " 10  published_timestamp  3678 non-null   object \n",
            " 11  subject              3678 non-null   object \n",
            "dtypes: bool(1), float64(1), int64(5), object(5)\n",
            "memory usage: 319.8+ KB\n"
          ]
        }
      ]
    },
    {
      "cell_type": "markdown",
      "source": [
        "## Checking for null values"
      ],
      "metadata": {
        "id": "dpygZN6t0fHW"
      }
    },
    {
      "cell_type": "code",
      "source": [
        "print(\"Any missing value?\", data.isnull().values.any())"
      ],
      "metadata": {
        "colab": {
          "base_uri": "https://localhost:8080/"
        },
        "id": "VuCE9p9y0au1",
        "outputId": "09a4ffbe-1e45-4199-ec79-c2db8c25986d"
      },
      "execution_count": 29,
      "outputs": [
        {
          "output_type": "stream",
          "name": "stdout",
          "text": [
            "Any missing value? False\n"
          ]
        }
      ]
    },
    {
      "cell_type": "code",
      "source": [
        "data.isnull()"
      ],
      "metadata": {
        "colab": {
          "base_uri": "https://localhost:8080/",
          "height": 488
        },
        "id": "8kjuAFvp0t3j",
        "outputId": "29381f33-8a96-49c5-d5f4-0cbf74b29b68"
      },
      "execution_count": 30,
      "outputs": [
        {
          "output_type": "execute_result",
          "data": {
            "text/plain": [
              "      course_id  course_title    url  is_paid  price  num_subscribers  \\\n",
              "0         False         False  False    False  False            False   \n",
              "1         False         False  False    False  False            False   \n",
              "2         False         False  False    False  False            False   \n",
              "3         False         False  False    False  False            False   \n",
              "4         False         False  False    False  False            False   \n",
              "...         ...           ...    ...      ...    ...              ...   \n",
              "3673      False         False  False    False  False            False   \n",
              "3674      False         False  False    False  False            False   \n",
              "3675      False         False  False    False  False            False   \n",
              "3676      False         False  False    False  False            False   \n",
              "3677      False         False  False    False  False            False   \n",
              "\n",
              "      num_reviews  num_lectures  level  content_duration  published_timestamp  \\\n",
              "0           False         False  False             False                False   \n",
              "1           False         False  False             False                False   \n",
              "2           False         False  False             False                False   \n",
              "3           False         False  False             False                False   \n",
              "4           False         False  False             False                False   \n",
              "...           ...           ...    ...               ...                  ...   \n",
              "3673        False         False  False             False                False   \n",
              "3674        False         False  False             False                False   \n",
              "3675        False         False  False             False                False   \n",
              "3676        False         False  False             False                False   \n",
              "3677        False         False  False             False                False   \n",
              "\n",
              "      subject  \n",
              "0       False  \n",
              "1       False  \n",
              "2       False  \n",
              "3       False  \n",
              "4       False  \n",
              "...       ...  \n",
              "3673    False  \n",
              "3674    False  \n",
              "3675    False  \n",
              "3676    False  \n",
              "3677    False  \n",
              "\n",
              "[3678 rows x 12 columns]"
            ],
            "text/html": [
              "\n",
              "  <div id=\"df-87812a0e-d847-4b3a-be72-88bd36910a24\">\n",
              "    <div class=\"colab-df-container\">\n",
              "      <div>\n",
              "<style scoped>\n",
              "    .dataframe tbody tr th:only-of-type {\n",
              "        vertical-align: middle;\n",
              "    }\n",
              "\n",
              "    .dataframe tbody tr th {\n",
              "        vertical-align: top;\n",
              "    }\n",
              "\n",
              "    .dataframe thead th {\n",
              "        text-align: right;\n",
              "    }\n",
              "</style>\n",
              "<table border=\"1\" class=\"dataframe\">\n",
              "  <thead>\n",
              "    <tr style=\"text-align: right;\">\n",
              "      <th></th>\n",
              "      <th>course_id</th>\n",
              "      <th>course_title</th>\n",
              "      <th>url</th>\n",
              "      <th>is_paid</th>\n",
              "      <th>price</th>\n",
              "      <th>num_subscribers</th>\n",
              "      <th>num_reviews</th>\n",
              "      <th>num_lectures</th>\n",
              "      <th>level</th>\n",
              "      <th>content_duration</th>\n",
              "      <th>published_timestamp</th>\n",
              "      <th>subject</th>\n",
              "    </tr>\n",
              "  </thead>\n",
              "  <tbody>\n",
              "    <tr>\n",
              "      <th>0</th>\n",
              "      <td>False</td>\n",
              "      <td>False</td>\n",
              "      <td>False</td>\n",
              "      <td>False</td>\n",
              "      <td>False</td>\n",
              "      <td>False</td>\n",
              "      <td>False</td>\n",
              "      <td>False</td>\n",
              "      <td>False</td>\n",
              "      <td>False</td>\n",
              "      <td>False</td>\n",
              "      <td>False</td>\n",
              "    </tr>\n",
              "    <tr>\n",
              "      <th>1</th>\n",
              "      <td>False</td>\n",
              "      <td>False</td>\n",
              "      <td>False</td>\n",
              "      <td>False</td>\n",
              "      <td>False</td>\n",
              "      <td>False</td>\n",
              "      <td>False</td>\n",
              "      <td>False</td>\n",
              "      <td>False</td>\n",
              "      <td>False</td>\n",
              "      <td>False</td>\n",
              "      <td>False</td>\n",
              "    </tr>\n",
              "    <tr>\n",
              "      <th>2</th>\n",
              "      <td>False</td>\n",
              "      <td>False</td>\n",
              "      <td>False</td>\n",
              "      <td>False</td>\n",
              "      <td>False</td>\n",
              "      <td>False</td>\n",
              "      <td>False</td>\n",
              "      <td>False</td>\n",
              "      <td>False</td>\n",
              "      <td>False</td>\n",
              "      <td>False</td>\n",
              "      <td>False</td>\n",
              "    </tr>\n",
              "    <tr>\n",
              "      <th>3</th>\n",
              "      <td>False</td>\n",
              "      <td>False</td>\n",
              "      <td>False</td>\n",
              "      <td>False</td>\n",
              "      <td>False</td>\n",
              "      <td>False</td>\n",
              "      <td>False</td>\n",
              "      <td>False</td>\n",
              "      <td>False</td>\n",
              "      <td>False</td>\n",
              "      <td>False</td>\n",
              "      <td>False</td>\n",
              "    </tr>\n",
              "    <tr>\n",
              "      <th>4</th>\n",
              "      <td>False</td>\n",
              "      <td>False</td>\n",
              "      <td>False</td>\n",
              "      <td>False</td>\n",
              "      <td>False</td>\n",
              "      <td>False</td>\n",
              "      <td>False</td>\n",
              "      <td>False</td>\n",
              "      <td>False</td>\n",
              "      <td>False</td>\n",
              "      <td>False</td>\n",
              "      <td>False</td>\n",
              "    </tr>\n",
              "    <tr>\n",
              "      <th>...</th>\n",
              "      <td>...</td>\n",
              "      <td>...</td>\n",
              "      <td>...</td>\n",
              "      <td>...</td>\n",
              "      <td>...</td>\n",
              "      <td>...</td>\n",
              "      <td>...</td>\n",
              "      <td>...</td>\n",
              "      <td>...</td>\n",
              "      <td>...</td>\n",
              "      <td>...</td>\n",
              "      <td>...</td>\n",
              "    </tr>\n",
              "    <tr>\n",
              "      <th>3673</th>\n",
              "      <td>False</td>\n",
              "      <td>False</td>\n",
              "      <td>False</td>\n",
              "      <td>False</td>\n",
              "      <td>False</td>\n",
              "      <td>False</td>\n",
              "      <td>False</td>\n",
              "      <td>False</td>\n",
              "      <td>False</td>\n",
              "      <td>False</td>\n",
              "      <td>False</td>\n",
              "      <td>False</td>\n",
              "    </tr>\n",
              "    <tr>\n",
              "      <th>3674</th>\n",
              "      <td>False</td>\n",
              "      <td>False</td>\n",
              "      <td>False</td>\n",
              "      <td>False</td>\n",
              "      <td>False</td>\n",
              "      <td>False</td>\n",
              "      <td>False</td>\n",
              "      <td>False</td>\n",
              "      <td>False</td>\n",
              "      <td>False</td>\n",
              "      <td>False</td>\n",
              "      <td>False</td>\n",
              "    </tr>\n",
              "    <tr>\n",
              "      <th>3675</th>\n",
              "      <td>False</td>\n",
              "      <td>False</td>\n",
              "      <td>False</td>\n",
              "      <td>False</td>\n",
              "      <td>False</td>\n",
              "      <td>False</td>\n",
              "      <td>False</td>\n",
              "      <td>False</td>\n",
              "      <td>False</td>\n",
              "      <td>False</td>\n",
              "      <td>False</td>\n",
              "      <td>False</td>\n",
              "    </tr>\n",
              "    <tr>\n",
              "      <th>3676</th>\n",
              "      <td>False</td>\n",
              "      <td>False</td>\n",
              "      <td>False</td>\n",
              "      <td>False</td>\n",
              "      <td>False</td>\n",
              "      <td>False</td>\n",
              "      <td>False</td>\n",
              "      <td>False</td>\n",
              "      <td>False</td>\n",
              "      <td>False</td>\n",
              "      <td>False</td>\n",
              "      <td>False</td>\n",
              "    </tr>\n",
              "    <tr>\n",
              "      <th>3677</th>\n",
              "      <td>False</td>\n",
              "      <td>False</td>\n",
              "      <td>False</td>\n",
              "      <td>False</td>\n",
              "      <td>False</td>\n",
              "      <td>False</td>\n",
              "      <td>False</td>\n",
              "      <td>False</td>\n",
              "      <td>False</td>\n",
              "      <td>False</td>\n",
              "      <td>False</td>\n",
              "      <td>False</td>\n",
              "    </tr>\n",
              "  </tbody>\n",
              "</table>\n",
              "<p>3678 rows × 12 columns</p>\n",
              "</div>\n",
              "      <button class=\"colab-df-convert\" onclick=\"convertToInteractive('df-87812a0e-d847-4b3a-be72-88bd36910a24')\"\n",
              "              title=\"Convert this dataframe to an interactive table.\"\n",
              "              style=\"display:none;\">\n",
              "        \n",
              "  <svg xmlns=\"http://www.w3.org/2000/svg\" height=\"24px\"viewBox=\"0 0 24 24\"\n",
              "       width=\"24px\">\n",
              "    <path d=\"M0 0h24v24H0V0z\" fill=\"none\"/>\n",
              "    <path d=\"M18.56 5.44l.94 2.06.94-2.06 2.06-.94-2.06-.94-.94-2.06-.94 2.06-2.06.94zm-11 1L8.5 8.5l.94-2.06 2.06-.94-2.06-.94L8.5 2.5l-.94 2.06-2.06.94zm10 10l.94 2.06.94-2.06 2.06-.94-2.06-.94-.94-2.06-.94 2.06-2.06.94z\"/><path d=\"M17.41 7.96l-1.37-1.37c-.4-.4-.92-.59-1.43-.59-.52 0-1.04.2-1.43.59L10.3 9.45l-7.72 7.72c-.78.78-.78 2.05 0 2.83L4 21.41c.39.39.9.59 1.41.59.51 0 1.02-.2 1.41-.59l7.78-7.78 2.81-2.81c.8-.78.8-2.07 0-2.86zM5.41 20L4 18.59l7.72-7.72 1.47 1.35L5.41 20z\"/>\n",
              "  </svg>\n",
              "      </button>\n",
              "      \n",
              "  <style>\n",
              "    .colab-df-container {\n",
              "      display:flex;\n",
              "      flex-wrap:wrap;\n",
              "      gap: 12px;\n",
              "    }\n",
              "\n",
              "    .colab-df-convert {\n",
              "      background-color: #E8F0FE;\n",
              "      border: none;\n",
              "      border-radius: 50%;\n",
              "      cursor: pointer;\n",
              "      display: none;\n",
              "      fill: #1967D2;\n",
              "      height: 32px;\n",
              "      padding: 0 0 0 0;\n",
              "      width: 32px;\n",
              "    }\n",
              "\n",
              "    .colab-df-convert:hover {\n",
              "      background-color: #E2EBFA;\n",
              "      box-shadow: 0px 1px 2px rgba(60, 64, 67, 0.3), 0px 1px 3px 1px rgba(60, 64, 67, 0.15);\n",
              "      fill: #174EA6;\n",
              "    }\n",
              "\n",
              "    [theme=dark] .colab-df-convert {\n",
              "      background-color: #3B4455;\n",
              "      fill: #D2E3FC;\n",
              "    }\n",
              "\n",
              "    [theme=dark] .colab-df-convert:hover {\n",
              "      background-color: #434B5C;\n",
              "      box-shadow: 0px 1px 3px 1px rgba(0, 0, 0, 0.15);\n",
              "      filter: drop-shadow(0px 1px 2px rgba(0, 0, 0, 0.3));\n",
              "      fill: #FFFFFF;\n",
              "    }\n",
              "  </style>\n",
              "\n",
              "      <script>\n",
              "        const buttonEl =\n",
              "          document.querySelector('#df-87812a0e-d847-4b3a-be72-88bd36910a24 button.colab-df-convert');\n",
              "        buttonEl.style.display =\n",
              "          google.colab.kernel.accessAllowed ? 'block' : 'none';\n",
              "\n",
              "        async function convertToInteractive(key) {\n",
              "          const element = document.querySelector('#df-87812a0e-d847-4b3a-be72-88bd36910a24');\n",
              "          const dataTable =\n",
              "            await google.colab.kernel.invokeFunction('convertToInteractive',\n",
              "                                                     [key], {});\n",
              "          if (!dataTable) return;\n",
              "\n",
              "          const docLinkHtml = 'Like what you see? Visit the ' +\n",
              "            '<a target=\"_blank\" href=https://colab.research.google.com/notebooks/data_table.ipynb>data table notebook</a>'\n",
              "            + ' to learn more about interactive tables.';\n",
              "          element.innerHTML = '';\n",
              "          dataTable['output_type'] = 'display_data';\n",
              "          await google.colab.output.renderOutput(dataTable, element);\n",
              "          const docLink = document.createElement('div');\n",
              "          docLink.innerHTML = docLinkHtml;\n",
              "          element.appendChild(docLink);\n",
              "        }\n",
              "      </script>\n",
              "    </div>\n",
              "  </div>\n",
              "  "
            ]
          },
          "metadata": {},
          "execution_count": 30
        }
      ]
    },
    {
      "cell_type": "code",
      "source": [
        "sns.heatmap(data.isnull())"
      ],
      "metadata": {
        "colab": {
          "base_uri": "https://localhost:8080/",
          "height": 385
        },
        "id": "YJ_OPseL00l3",
        "outputId": "d7efcf61-9eec-4c97-bc9c-92a01e730708"
      },
      "execution_count": 32,
      "outputs": [
        {
          "output_type": "execute_result",
          "data": {
            "text/plain": [
              "<matplotlib.axes._subplots.AxesSubplot at 0x7f398f2df090>"
            ]
          },
          "metadata": {},
          "execution_count": 32
        },
        {
          "output_type": "display_data",
          "data": {
            "text/plain": [
              "<Figure size 432x288 with 2 Axes>"
            ],
            "image/png": "[encoded data removed]"
          },
          "metadata": {
            "needs_background": "light"
          }
        }
      ]
    },
    {
      "cell_type": "markdown",
      "source": [
        "### No null values found"
      ],
      "metadata": {
        "id": "Ae6-tDmL1ChW"
      }
    },
    {
      "cell_type": "markdown",
      "source": [
        "## Checking for duplicate Data"
      ],
      "metadata": {
        "id": "5MfhOQMW1IEV"
      }
    },
    {
      "cell_type": "code",
      "source": [
        "dup = data.duplicated().any()\n",
        "print(\"Is there duplicated data?\", dup)"
      ],
      "metadata": {
        "colab": {
          "base_uri": "https://localhost:8080/"
        },
        "id": "dBmcsOru04ye",
        "outputId": "746e5148-3fc9-4bea-8cfb-dcd742d95928"
      },
      "execution_count": 34,
      "outputs": [
        {
          "output_type": "stream",
          "name": "stdout",
          "text": [
            "Is there duplicated data? True\n"
          ]
        }
      ]
    },
    {
      "cell_type": "markdown",
      "source": [
        "### Dropping the duplicate data"
      ],
      "metadata": {
        "id": "iVeNRZ2g1rEt"
      }
    },
    {
      "cell_type": "code",
      "source": [
        "data = data.drop_duplicates()"
      ],
      "metadata": {
        "id": "HsWUCOB11X5l"
      },
      "execution_count": 35,
      "outputs": []
    },
    {
      "cell_type": "code",
      "source": [
        "dup = data.duplicated().any()\n",
        "print(\"Is there duplicated data?\", dup)"
      ],
      "metadata": {
        "colab": {
          "base_uri": "https://localhost:8080/"
        },
        "id": "OyJw0jyr1i0G",
        "outputId": "8f59da53-9ea3-451f-df81-900555ebdfd6"
      },
      "execution_count": 36,
      "outputs": [
        {
          "output_type": "stream",
          "name": "stdout",
          "text": [
            "Is there duplicated data? False\n"
          ]
        }
      ]
    },
    {
      "cell_type": "markdown",
      "source": [
        "## Finding the number of courses per subjects"
      ],
      "metadata": {
        "id": "uokuZmju1xuU"
      }
    },
    {
      "cell_type": "code",
      "source": [
        "data.head(1)"
      ],
      "metadata": {
        "colab": {
          "base_uri": "https://localhost:8080/",
          "height": 197
        },
        "id": "NcBwo1Mn1n4A",
        "outputId": "ad0f02c7-e5f0-4bac-f227-f6fbdb20ae28"
      },
      "execution_count": 37,
      "outputs": [
        {
          "output_type": "execute_result",
          "data": {
            "text/plain": [
              "   course_id                        course_title  \\\n",
              "0    1070968  Ultimate Investment Banking Course   \n",
              "\n",
              "                                                 url  is_paid  price  \\\n",
              "0  https://www.udemy.com/ultimate-investment-bank...     True    200   \n",
              "\n",
              "   num_subscribers  num_reviews  num_lectures       level  content_duration  \\\n",
              "0             2147           23            51  All Levels               1.5   \n",
              "\n",
              "    published_timestamp           subject  \n",
              "0  2017-01-18T20:58:58Z  Business Finance  "
            ],
            "text/html": [
              "\n",
              "  <div id=\"df-96b49706-2c07-4556-8d82-928d15ad4add\">\n",
              "    <div class=\"colab-df-container\">\n",
              "      <div>\n",
              "<style scoped>\n",
              "    .dataframe tbody tr th:only-of-type {\n",
              "        vertical-align: middle;\n",
              "    }\n",
              "\n",
              "    .dataframe tbody tr th {\n",
              "        vertical-align: top;\n",
              "    }\n",
              "\n",
              "    .dataframe thead th {\n",
              "        text-align: right;\n",
              "    }\n",
              "</style>\n",
              "<table border=\"1\" class=\"dataframe\">\n",
              "  <thead>\n",
              "    <tr style=\"text-align: right;\">\n",
              "      <th></th>\n",
              "      <th>course_id</th>\n",
              "      <th>course_title</th>\n",
              "      <th>url</th>\n",
              "      <th>is_paid</th>\n",
              "      <th>price</th>\n",
              "      <th>num_subscribers</th>\n",
              "      <th>num_reviews</th>\n",
              "      <th>num_lectures</th>\n",
              "      <th>level</th>\n",
              "      <th>content_duration</th>\n",
              "      <th>published_timestamp</th>\n",
              "      <th>subject</th>\n",
              "    </tr>\n",
              "  </thead>\n",
              "  <tbody>\n",
              "    <tr>\n",
              "      <th>0</th>\n",
              "      <td>1070968</td>\n",
              "      <td>Ultimate Investment Banking Course</td>\n",
              "      <td>https://www.udemy.com/ultimate-investment-bank...</td>\n",
              "      <td>True</td>\n",
              "      <td>200</td>\n",
              "      <td>2147</td>\n",
              "      <td>23</td>\n",
              "      <td>51</td>\n",
              "      <td>All Levels</td>\n",
              "      <td>1.5</td>\n",
              "      <td>2017-01-18T20:58:58Z</td>\n",
              "      <td>Business Finance</td>\n",
              "    </tr>\n",
              "  </tbody>\n",
              "</table>\n",
              "</div>\n",
              "      <button class=\"colab-df-convert\" onclick=\"convertToInteractive('df-96b49706-2c07-4556-8d82-928d15ad4add')\"\n",
              "              title=\"Convert this dataframe to an interactive table.\"\n",
              "              style=\"display:none;\">\n",
              "        \n",
              "  <svg xmlns=\"http://www.w3.org/2000/svg\" height=\"24px\"viewBox=\"0 0 24 24\"\n",
              "       width=\"24px\">\n",
              "    <path d=\"M0 0h24v24H0V0z\" fill=\"none\"/>\n",
              "    <path d=\"M18.56 5.44l.94 2.06.94-2.06 2.06-.94-2.06-.94-.94-2.06-.94 2.06-2.06.94zm-11 1L8.5 8.5l.94-2.06 2.06-.94-2.06-.94L8.5 2.5l-.94 2.06-2.06.94zm10 10l.94 2.06.94-2.06 2.06-.94-2.06-.94-.94-2.06-.94 2.06-2.06.94z\"/><path d=\"M17.41 7.96l-1.37-1.37c-.4-.4-.92-.59-1.43-.59-.52 0-1.04.2-1.43.59L10.3 9.45l-7.72 7.72c-.78.78-.78 2.05 0 2.83L4 21.41c.39.39.9.59 1.41.59.51 0 1.02-.2 1.41-.59l7.78-7.78 2.81-2.81c.8-.78.8-2.07 0-2.86zM5.41 20L4 18.59l7.72-7.72 1.47 1.35L5.41 20z\"/>\n",
              "  </svg>\n",
              "      </button>\n",
              "      \n",
              "  <style>\n",
              "    .colab-df-container {\n",
              "      display:flex;\n",
              "      flex-wrap:wrap;\n",
              "      gap: 12px;\n",
              "    }\n",
              "\n",
              "    .colab-df-convert {\n",
              "      background-color: #E8F0FE;\n",
              "      border: none;\n",
              "      border-radius: 50%;\n",
              "      cursor: pointer;\n",
              "      display: none;\n",
              "      fill: #1967D2;\n",
              "      height: 32px;\n",
              "      padding: 0 0 0 0;\n",
              "      width: 32px;\n",
              "    }\n",
              "\n",
              "    .colab-df-convert:hover {\n",
              "      background-color: #E2EBFA;\n",
              "      box-shadow: 0px 1px 2px rgba(60, 64, 67, 0.3), 0px 1px 3px 1px rgba(60, 64, 67, 0.15);\n",
              "      fill: #174EA6;\n",
              "    }\n",
              "\n",
              "    [theme=dark] .colab-df-convert {\n",
              "      background-color: #3B4455;\n",
              "      fill: #D2E3FC;\n",
              "    }\n",
              "\n",
              "    [theme=dark] .colab-df-convert:hover {\n",
              "      background-color: #434B5C;\n",
              "      box-shadow: 0px 1px 3px 1px rgba(0, 0, 0, 0.15);\n",
              "      filter: drop-shadow(0px 1px 2px rgba(0, 0, 0, 0.3));\n",
              "      fill: #FFFFFF;\n",
              "    }\n",
              "  </style>\n",
              "\n",
              "      <script>\n",
              "        const buttonEl =\n",
              "          document.querySelector('#df-96b49706-2c07-4556-8d82-928d15ad4add button.colab-df-convert');\n",
              "        buttonEl.style.display =\n",
              "          google.colab.kernel.accessAllowed ? 'block' : 'none';\n",
              "\n",
              "        async function convertToInteractive(key) {\n",
              "          const element = document.querySelector('#df-96b49706-2c07-4556-8d82-928d15ad4add');\n",
              "          const dataTable =\n",
              "            await google.colab.kernel.invokeFunction('convertToInteractive',\n",
              "                                                     [key], {});\n",
              "          if (!dataTable) return;\n",
              "\n",
              "          const docLinkHtml = 'Like what you see? Visit the ' +\n",
              "            '<a target=\"_blank\" href=https://colab.research.google.com/notebooks/data_table.ipynb>data table notebook</a>'\n",
              "            + ' to learn more about interactive tables.';\n",
              "          element.innerHTML = '';\n",
              "          dataTable['output_type'] = 'display_data';\n",
              "          await google.colab.output.renderOutput(dataTable, element);\n",
              "          const docLink = document.createElement('div');\n",
              "          docLink.innerHTML = docLinkHtml;\n",
              "          element.appendChild(docLink);\n",
              "        }\n",
              "      </script>\n",
              "    </div>\n",
              "  </div>\n",
              "  "
            ]
          },
          "metadata": {},
          "execution_count": 37
        }
      ]
    },
    {
      "cell_type": "code",
      "source": [
        "data['subject'].value_counts()"
      ],
      "metadata": {
        "colab": {
          "base_uri": "https://localhost:8080/"
        },
        "id": "vJNVdzRZ19Ol",
        "outputId": "91b95aa3-a198-4995-bfee-c4fd27d83f97"
      },
      "execution_count": 52,
      "outputs": [
        {
          "output_type": "execute_result",
          "data": {
            "text/plain": [
              "Web Development        1199\n",
              "Business Finance       1191\n",
              "Musical Instruments     680\n",
              "Graphic Design          602\n",
              "Name: subject, dtype: int64"
            ]
          },
          "metadata": {},
          "execution_count": 52
        }
      ]
    },
    {
      "cell_type": "code",
      "source": [
        "import matplotlib.pyplot as plt"
      ],
      "metadata": {
        "id": "Phmdf_A92XJu"
      },
      "execution_count": 41,
      "outputs": []
    },
    {
      "cell_type": "code",
      "source": [
        "sns.countplot(data['subject'])\n",
        "plt.xlabel(\"Subjects\", fontsize = 13)\n",
        "plt.ylabel(\"Number of courses per semester\", fontsize = 13)\n",
        "\n",
        "plt.xticks(rotation = 60)\n",
        "plt.show()"
      ],
      "metadata": {
        "colab": {
          "base_uri": "https://localhost:8080/",
          "height": 420
        },
        "id": "VLRd6MMU2GPZ",
        "outputId": "886a8f6b-86b4-4e0d-cab5-c1f79f15c17e"
      },
      "execution_count": 49,
      "outputs": [
        {
          "output_type": "stream",
          "name": "stderr",
          "text": [
            "/usr/local/lib/python3.7/dist-packages/seaborn/_decorators.py:43: FutureWarning: Pass the following variable as a keyword arg: x. From version 0.12, the only valid positional argument will be `data`, and passing other arguments without an explicit keyword will result in an error or misinterpretation.\n",
            "  FutureWarning\n"
          ]
        },
        {
          "output_type": "display_data",
          "data": {
            "text/plain": [
              "<Figure size 432x288 with 1 Axes>"
            ],
            "image/png": "[encoded data removed]"
          },
          "metadata": {
            "needs_background": "light"
          }
        }
      ]
    },
    {
      "cell_type": "markdown",
      "source": [
        "## Displays the total count of paid and free resources"
      ],
      "metadata": {
        "id": "JXfKfC5CAD4I"
      }
    },
    {
      "cell_type": "code",
      "source": [
        "data.columns"
      ],
      "metadata": {
        "colab": {
          "base_uri": "https://localhost:8080/"
        },
        "id": "u4aQsH212MAd",
        "outputId": "d8f70347-55f8-49bd-f539-39420a042a60"
      },
      "execution_count": 50,
      "outputs": [
        {
          "output_type": "execute_result",
          "data": {
            "text/plain": [
              "Index(['course_id', 'course_title', 'url', 'is_paid', 'price',\n",
              "       'num_subscribers', 'num_reviews', 'num_lectures', 'level',\n",
              "       'content_duration', 'published_timestamp', 'subject'],\n",
              "      dtype='object')"
            ]
          },
          "metadata": {},
          "execution_count": 50
        }
      ]
    },
    {
      "cell_type": "code",
      "source": [
        "data['level'].value_counts()"
      ],
      "metadata": {
        "colab": {
          "base_uri": "https://localhost:8080/"
        },
        "id": "FtB-hMClAQGF",
        "outputId": "a39bd03e-7819-45ee-f266-3ab16c23b8a2"
      },
      "execution_count": 53,
      "outputs": [
        {
          "output_type": "execute_result",
          "data": {
            "text/plain": [
              "All Levels            1925\n",
              "Beginner Level        1268\n",
              "Intermediate Level     421\n",
              "Expert Level            58\n",
              "Name: level, dtype: int64"
            ]
          },
          "metadata": {},
          "execution_count": 53
        }
      ]
    },
    {
      "cell_type": "code",
      "source": [
        "sns.countplot(data['level'])\n",
        "plt.xlabel(\"Subjects\", fontsize = 13)\n",
        "plt.ylabel(\"Number of subjects\", fontsize = 13)\n",
        "\n",
        "plt.xticks(rotation = 60)\n",
        "plt.show()"
      ],
      "metadata": {
        "colab": {
          "base_uri": "https://localhost:8080/",
          "height": 415
        },
        "id": "xGs0WlENAWVT",
        "outputId": "a243a9da-12f6-4234-af9e-6052ae59ff05"
      },
      "execution_count": 54,
      "outputs": [
        {
          "output_type": "stream",
          "name": "stderr",
          "text": [
            "/usr/local/lib/python3.7/dist-packages/seaborn/_decorators.py:43: FutureWarning: Pass the following variable as a keyword arg: x. From version 0.12, the only valid positional argument will be `data`, and passing other arguments without an explicit keyword will result in an error or misinterpretation.\n",
            "  FutureWarning\n"
          ]
        },
        {
          "output_type": "display_data",
          "data": {
            "text/plain": [
              "<Figure size 432x288 with 1 Axes>"
            ],
            "image/png": "[encoded data removed]"
          },
          "metadata": {
            "needs_background": "light"
          }
        }
      ]
    },
    {
      "cell_type": "markdown",
      "source": [
        "## Count of free and paid courses"
      ],
      "metadata": {
        "id": "x2X0yTa0A0CY"
      }
    },
    {
      "cell_type": "code",
      "source": [
        "data.columns"
      ],
      "metadata": {
        "colab": {
          "base_uri": "https://localhost:8080/"
        },
        "id": "9UZDhb47AxFy",
        "outputId": "cc3e597f-6f90-4307-a593-0dffc280f3a0"
      },
      "execution_count": 55,
      "outputs": [
        {
          "output_type": "execute_result",
          "data": {
            "text/plain": [
              "Index(['course_id', 'course_title', 'url', 'is_paid', 'price',\n",
              "       'num_subscribers', 'num_reviews', 'num_lectures', 'level',\n",
              "       'content_duration', 'published_timestamp', 'subject'],\n",
              "      dtype='object')"
            ]
          },
          "metadata": {},
          "execution_count": 55
        }
      ]
    },
    {
      "cell_type": "code",
      "source": [
        "data['is_paid'].value_counts()"
      ],
      "metadata": {
        "colab": {
          "base_uri": "https://localhost:8080/"
        },
        "id": "ifMuOPBcA5so",
        "outputId": "afa87e8e-39d3-4574-f12b-765322a7a7c7"
      },
      "execution_count": 56,
      "outputs": [
        {
          "output_type": "execute_result",
          "data": {
            "text/plain": [
              "True     3362\n",
              "False     310\n",
              "Name: is_paid, dtype: int64"
            ]
          },
          "metadata": {},
          "execution_count": 56
        }
      ]
    },
    {
      "cell_type": "code",
      "source": [
        "sns.countplot(data['is_paid'])\n",
        "plt.xlabel(\"Subjects\", fontsize = 13)\n",
        "plt.ylabel(\"Number of free and paid courses\", fontsize = 13)\n",
        "\n",
        "plt.xticks(rotation = 60)\n",
        "plt.show()"
      ],
      "metadata": {
        "colab": {
          "base_uri": "https://localhost:8080/",
          "height": 356
        },
        "id": "iHFbEryBBA-5",
        "outputId": "bcd1f0cd-6923-48c2-9918-56a942794aa1"
      },
      "execution_count": 57,
      "outputs": [
        {
          "output_type": "stream",
          "name": "stderr",
          "text": [
            "/usr/local/lib/python3.7/dist-packages/seaborn/_decorators.py:43: FutureWarning: Pass the following variable as a keyword arg: x. From version 0.12, the only valid positional argument will be `data`, and passing other arguments without an explicit keyword will result in an error or misinterpretation.\n",
            "  FutureWarning\n"
          ]
        },
        {
          "output_type": "display_data",
          "data": {
            "text/plain": [
              "<Figure size 432x288 with 1 Axes>"
            ],
            "image/png": "[encoded data removed]"
          },
          "metadata": {
            "needs_background": "light"
          }
        }
      ]
    },
    {
      "cell_type": "code",
      "source": [
        ""
      ],
      "metadata": {
        "id": "_k2cAVbrBOxn"
      },
      "execution_count": null,
      "outputs": []
    },
    {
      "cell_type": "markdown",
      "source": [
        "## Which course has a higher number of subscribers free or paid?"
      ],
      "metadata": {
        "id": "3lzzd2koBUFA"
      }
    },
    {
      "cell_type": "code",
      "source": [
        "data.columns"
      ],
      "metadata": {
        "colab": {
          "base_uri": "https://localhost:8080/"
        },
        "id": "npmyG_3CBiWV",
        "outputId": "2878d1d5-10c6-4e98-8f3d-918ba4a4c605"
      },
      "execution_count": 58,
      "outputs": [
        {
          "output_type": "execute_result",
          "data": {
            "text/plain": [
              "Index(['course_id', 'course_title', 'url', 'is_paid', 'price',\n",
              "       'num_subscribers', 'num_reviews', 'num_lectures', 'level',\n",
              "       'content_duration', 'published_timestamp', 'subject'],\n",
              "      dtype='object')"
            ]
          },
          "metadata": {},
          "execution_count": 58
        }
      ]
    },
    {
      "cell_type": "code",
      "source": [
        "sns.barplot(x = \"is_paid\", y = \"num_subscribers\", data = data)"
      ],
      "metadata": {
        "colab": {
          "base_uri": "https://localhost:8080/",
          "height": 297
        },
        "id": "vy4y-Y4HBmjQ",
        "outputId": "3e89a0bb-36ec-42b1-af58-f21d4af98041"
      },
      "execution_count": 59,
      "outputs": [
        {
          "output_type": "execute_result",
          "data": {
            "text/plain": [
              "<matplotlib.axes._subplots.AxesSubplot at 0x7f398bbfb810>"
            ]
          },
          "metadata": {},
          "execution_count": 59
        },
        {
          "output_type": "display_data",
          "data": {
            "text/plain": [
              "<Figure size 432x288 with 1 Axes>"
            ],
            "image/png": "[encoded data removed]"
          },
          "metadata": {
            "needs_background": "light"
          }
        }
      ]
    },
    {
      "cell_type": "markdown",
      "source": [
        "## The level with the highest number of subscribers"
      ],
      "metadata": {
        "id": "Dwbq9Wx6B5JJ"
      }
    },
    {
      "cell_type": "code",
      "source": [
        "data.columns"
      ],
      "metadata": {
        "colab": {
          "base_uri": "https://localhost:8080/"
        },
        "id": "RkjCSuoXB1yx",
        "outputId": "beea6e26-3fe9-44bb-e08e-87e7fbfc2960"
      },
      "execution_count": 61,
      "outputs": [
        {
          "output_type": "execute_result",
          "data": {
            "text/plain": [
              "Index(['course_id', 'course_title', 'url', 'is_paid', 'price',\n",
              "       'num_subscribers', 'num_reviews', 'num_lectures', 'level',\n",
              "       'content_duration', 'published_timestamp', 'subject'],\n",
              "      dtype='object')"
            ]
          },
          "metadata": {},
          "execution_count": 61
        }
      ]
    },
    {
      "cell_type": "code",
      "source": [
        "sns.barplot(x = \"level\", y = \"num_subscribers\", data = data)\n",
        "plt.xticks(rotation = 60)\n",
        "plt.show()"
      ],
      "metadata": {
        "colab": {
          "base_uri": "https://localhost:8080/",
          "height": 356
        },
        "id": "zI6ms8QECCNq",
        "outputId": "7fac0650-f826-4ef3-a4c9-3035b02cc8d3"
      },
      "execution_count": 63,
      "outputs": [
        {
          "output_type": "display_data",
          "data": {
            "text/plain": [
              "<Figure size 432x288 with 1 Axes>"
            ],
            "image/png": "[encoded data removed]"
          },
          "metadata": {
            "needs_background": "light"
          }
        }
      ]
    },
    {
      "cell_type": "markdown",
      "source": [
        "## Most popular course title"
      ],
      "metadata": {
        "id": "DOIbePBACcTQ"
      }
    },
    {
      "cell_type": "code",
      "source": [
        "data.columns"
      ],
      "metadata": {
        "colab": {
          "base_uri": "https://localhost:8080/"
        },
        "id": "VvjTW_RnCJ56",
        "outputId": "1a4763eb-56d7-49fd-913e-7f1bd75c3b23"
      },
      "execution_count": 64,
      "outputs": [
        {
          "output_type": "execute_result",
          "data": {
            "text/plain": [
              "Index(['course_id', 'course_title', 'url', 'is_paid', 'price',\n",
              "       'num_subscribers', 'num_reviews', 'num_lectures', 'level',\n",
              "       'content_duration', 'published_timestamp', 'subject'],\n",
              "      dtype='object')"
            ]
          },
          "metadata": {},
          "execution_count": 64
        }
      ]
    },
    {
      "cell_type": "code",
      "source": [
        "data['num_subscribers'].max() == data['num_subscribers']"
      ],
      "metadata": {
        "colab": {
          "base_uri": "https://localhost:8080/"
        },
        "id": "f2d0Lcd_EdKT",
        "outputId": "39216075-8730-4831-fd91-2f5532712418"
      },
      "execution_count": 65,
      "outputs": [
        {
          "output_type": "execute_result",
          "data": {
            "text/plain": [
              "0       False\n",
              "1       False\n",
              "2       False\n",
              "3       False\n",
              "4       False\n",
              "        ...  \n",
              "3673    False\n",
              "3674    False\n",
              "3675    False\n",
              "3676    False\n",
              "3677    False\n",
              "Name: num_subscribers, Length: 3672, dtype: bool"
            ]
          },
          "metadata": {},
          "execution_count": 65
        }
      ]
    },
    {
      "cell_type": "code",
      "source": [
        ""
      ],
      "metadata": {
        "id": "PsFw8kUSEr1p"
      },
      "execution_count": null,
      "outputs": []
    },
    {
      "cell_type": "markdown",
      "source": [
        "## 10 most popular courses as per number of subscribers"
      ],
      "metadata": {
        "id": "Jj5Z_CiTE0TI"
      }
    },
    {
      "cell_type": "code",
      "source": [
        "data.columns"
      ],
      "metadata": {
        "colab": {
          "base_uri": "https://localhost:8080/"
        },
        "id": "BuqHXvQNE5nB",
        "outputId": "4498183c-8293-4efb-f665-4658f95a694f"
      },
      "execution_count": 66,
      "outputs": [
        {
          "output_type": "execute_result",
          "data": {
            "text/plain": [
              "Index(['course_id', 'course_title', 'url', 'is_paid', 'price',\n",
              "       'num_subscribers', 'num_reviews', 'num_lectures', 'level',\n",
              "       'content_duration', 'published_timestamp', 'subject'],\n",
              "      dtype='object')"
            ]
          },
          "metadata": {},
          "execution_count": 66
        }
      ]
    },
    {
      "cell_type": "code",
      "source": [
        ""
      ],
      "metadata": {
        "id": "i7hwWT-mE9OG"
      },
      "execution_count": 68,
      "outputs": []
    },
    {
      "cell_type": "code",
      "source": [
        ""
      ],
      "metadata": {
        "id": "GhgT9fHjFMyl"
      },
      "execution_count": null,
      "outputs": []
    },
    {
      "cell_type": "code",
      "source": [
        ""
      ],
      "metadata": {
        "id": "YmDMdeIeFcOh"
      },
      "execution_count": null,
      "outputs": []
    },
    {
      "cell_type": "markdown",
      "source": [
        "## Course having the highest number of reviews"
      ],
      "metadata": {
        "id": "5dbcexg8FcxY"
      }
    },
    {
      "cell_type": "code",
      "source": [
        "data.columns"
      ],
      "metadata": {
        "colab": {
          "base_uri": "https://localhost:8080/"
        },
        "id": "wqZR8nANFn7l",
        "outputId": "48e5d490-d23f-46a1-cf48-dde27ec87029"
      },
      "execution_count": 69,
      "outputs": [
        {
          "output_type": "execute_result",
          "data": {
            "text/plain": [
              "Index(['course_id', 'course_title', 'url', 'is_paid', 'price',\n",
              "       'num_subscribers', 'num_reviews', 'num_lectures', 'level',\n",
              "       'content_duration', 'published_timestamp', 'subject'],\n",
              "      dtype='object')"
            ]
          },
          "metadata": {},
          "execution_count": 69
        }
      ]
    },
    {
      "cell_type": "code",
      "source": [
        "plt.figure(figsize = (10, 4))\n",
        "sns.barplot(x = \"subject\", y = \"num_reviews\", data = data)"
      ],
      "metadata": {
        "colab": {
          "base_uri": "https://localhost:8080/",
          "height": 296
        },
        "id": "SNxIacvOF35K",
        "outputId": "47b61da8-71f0-4248-d56e-b19da6f9e82c"
      },
      "execution_count": 70,
      "outputs": [
        {
          "output_type": "execute_result",
          "data": {
            "text/plain": [
              "<matplotlib.axes._subplots.AxesSubplot at 0x7f398f387c90>"
            ]
          },
          "metadata": {},
          "execution_count": 70
        },
        {
          "output_type": "display_data",
          "data": {
            "text/plain": [
              "<Figure size 720x288 with 1 Axes>"
            ],
            "image/png": "[encoded data removed]"
          },
          "metadata": {
            "needs_background": "light"
          }
        }
      ]
    },
    {
      "cell_type": "markdown",
      "source": [
        "## Does price affect the number of reviews?"
      ],
      "metadata": {
        "id": "wi3zmlqxGNgB"
      }
    },
    {
      "cell_type": "code",
      "source": [
        "data.columns"
      ],
      "metadata": {
        "colab": {
          "base_uri": "https://localhost:8080/"
        },
        "id": "amj9K_azGI51",
        "outputId": "db8b839f-88a7-4070-93d3-2f6aad0e58d9"
      },
      "execution_count": 71,
      "outputs": [
        {
          "output_type": "execute_result",
          "data": {
            "text/plain": [
              "Index(['course_id', 'course_title', 'url', 'is_paid', 'price',\n",
              "       'num_subscribers', 'num_reviews', 'num_lectures', 'level',\n",
              "       'content_duration', 'published_timestamp', 'subject'],\n",
              "      dtype='object')"
            ]
          },
          "metadata": {},
          "execution_count": 71
        }
      ]
    },
    {
      "cell_type": "code",
      "source": [
        "plt.figure(figsize = (15, 6))\n",
        "sns.scatterplot(x = \"price\", y = \"num_reviews\", data = data)"
      ],
      "metadata": {
        "colab": {
          "base_uri": "https://localhost:8080/",
          "height": 405
        },
        "id": "slf_JWUQGaEG",
        "outputId": "3855ee34-f437-4375-87c2-b3bd86a575d8"
      },
      "execution_count": 75,
      "outputs": [
        {
          "output_type": "execute_result",
          "data": {
            "text/plain": [
              "<matplotlib.axes._subplots.AxesSubplot at 0x7f398bfad410>"
            ]
          },
          "metadata": {},
          "execution_count": 75
        },
        {
          "output_type": "display_data",
          "data": {
            "text/plain": [
              "<Figure size 1080x432 with 1 Axes>"
            ],
            "image/png": "[encoded data removed]"
          },
          "metadata": {
            "needs_background": "light"
          }
        }
      ]
    },
    {
      "cell_type": "markdown",
      "source": [
        "## Total number of courses related to python"
      ],
      "metadata": {
        "id": "o6iZQIFTG06h"
      }
    },
    {
      "cell_type": "code",
      "source": [
        "len(data['course_title'].str.contains('python', case = False))"
      ],
      "metadata": {
        "colab": {
          "base_uri": "https://localhost:8080/"
        },
        "id": "-awNJIAuGiCW",
        "outputId": "eff9cf86-91fb-429b-ce2d-aa5604131131"
      },
      "execution_count": 77,
      "outputs": [
        {
          "output_type": "execute_result",
          "data": {
            "text/plain": [
              "3672"
            ]
          },
          "metadata": {},
          "execution_count": 77
        }
      ]
    },
    {
      "cell_type": "markdown",
      "source": [
        "## 10 most popular python courses as per number of subscribers"
      ],
      "metadata": {
        "id": "1XP1NXbGHP-A"
      }
    },
    {
      "cell_type": "code",
      "source": [
        "data[data['course_title'].str.contains('python', case = False)].sort_values(by = \"num_subscribers\", ascending = False).head(10)"
      ],
      "metadata": {
        "colab": {
          "base_uri": "https://localhost:8080/",
          "height": 999
        },
        "id": "N8zb371KHJdl",
        "outputId": "5d9899be-8823-4a41-a168-2783456c38d4"
      },
      "execution_count": 79,
      "outputs": [
        {
          "output_type": "execute_result",
          "data": {
            "text/plain": [
              "      course_id                                       course_title  \\\n",
              "2497      16646                        Web Programming with Python   \n",
              "2570      47963  Coding for Entrepreneurs: Learn Python, Django...   \n",
              "2528     391546        Learn Python and Django: Payment Processing   \n",
              "3200     822444  Python and Django Full Stack Web Developer Boo...   \n",
              "3507     394832  Fun and creative web engineering with Python a...   \n",
              "2553     938560  The Complete Ethical Hacking Course 2.0: Pytho...   \n",
              "3138     631128  Complete Python Web Course: Build 8 Python Web...   \n",
              "3197      76052  Try Django 1.9 | Build a Blog and Learn Python...   \n",
              "2681     477702  Python for Beginners: Python Programming Langu...   \n",
              "3203     970600                    REST APIs with Flask and Python   \n",
              "\n",
              "                                                    url  is_paid  price  \\\n",
              "2497  https://www.udemy.com/web-programming-with-pyt...     True     50   \n",
              "2570    https://www.udemy.com/coding-for-entrepreneurs/     True    195   \n",
              "2528  https://www.udemy.com/learn-django-code-accept...     True     70   \n",
              "3200  https://www.udemy.com/python-and-django-full-s...     True    200   \n",
              "3507  https://www.udemy.com/web-engineering-with-pyt...    False      0   \n",
              "2553  https://www.udemy.com/penetration-testing-ethi...     True    195   \n",
              "3138  https://www.udemy.com/the-complete-python-web-...     True    110   \n",
              "3197                  https://www.udemy.com/try-django/     True     50   \n",
              "2681               https://www.udemy.com/python-course/     True    150   \n",
              "3203   https://www.udemy.com/rest-api-flask-and-python/     True    110   \n",
              "\n",
              "      num_subscribers  num_reviews  num_lectures               level  \\\n",
              "2497            35267          217            53          All Levels   \n",
              "2570            23412          799           251          All Levels   \n",
              "2528            17714          198            23          All Levels   \n",
              "3200            11832         1883           191          All Levels   \n",
              "3507            10917          319            25          All Levels   \n",
              "2553             7827          268            66          All Levels   \n",
              "3138             7489          941           173          All Levels   \n",
              "3197             7407          172           147          All Levels   \n",
              "2681             6153          125            84      Beginner Level   \n",
              "3203             5151          737           115  Intermediate Level   \n",
              "\n",
              "      content_duration   published_timestamp          subject  \n",
              "2497               4.0  2012-04-25T00:01:43Z  Web Development  \n",
              "2570              45.0  2013-04-08T00:46:14Z  Web Development  \n",
              "2528               3.5  2015-02-09T15:37:56Z  Web Development  \n",
              "3200              31.5  2017-02-24T18:40:55Z  Web Development  \n",
              "3507               2.0  2015-06-09T19:51:50Z  Web Development  \n",
              "2553              11.0  2016-09-26T15:08:29Z  Web Development  \n",
              "3138              16.0  2015-11-08T20:57:35Z  Web Development  \n",
              "3197              20.0  2014-03-04T07:12:21Z  Web Development  \n",
              "2681               5.0  2015-06-14T18:18:57Z  Web Development  \n",
              "3203              12.5  2016-11-06T19:00:38Z  Web Development  "
            ],
            "text/html": [
              "\n",
              "  <div id=\"df-2fc77a50-e423-4451-8a70-0102e479eeae\">\n",
              "    <div class=\"colab-df-container\">\n",
              "      <div>\n",
              "<style scoped>\n",
              "    .dataframe tbody tr th:only-of-type {\n",
              "        vertical-align: middle;\n",
              "    }\n",
              "\n",
              "    .dataframe tbody tr th {\n",
              "        vertical-align: top;\n",
              "    }\n",
              "\n",
              "    .dataframe thead th {\n",
              "        text-align: right;\n",
              "    }\n",
              "</style>\n",
              "<table border=\"1\" class=\"dataframe\">\n",
              "  <thead>\n",
              "    <tr style=\"text-align: right;\">\n",
              "      <th></th>\n",
              "      <th>course_id</th>\n",
              "      <th>course_title</th>\n",
              "      <th>url</th>\n",
              "      <th>is_paid</th>\n",
              "      <th>price</th>\n",
              "      <th>num_subscribers</th>\n",
              "      <th>num_reviews</th>\n",
              "      <th>num_lectures</th>\n",
              "      <th>level</th>\n",
              "      <th>content_duration</th>\n",
              "      <th>published_timestamp</th>\n",
              "      <th>subject</th>\n",
              "    </tr>\n",
              "  </thead>\n",
              "  <tbody>\n",
              "    <tr>\n",
              "      <th>2497</th>\n",
              "      <td>16646</td>\n",
              "      <td>Web Programming with Python</td>\n",
              "      <td>https://www.udemy.com/web-programming-with-pyt...</td>\n",
              "      <td>True</td>\n",
              "      <td>50</td>\n",
              "      <td>35267</td>\n",
              "      <td>217</td>\n",
              "      <td>53</td>\n",
              "      <td>All Levels</td>\n",
              "      <td>4.0</td>\n",
              "      <td>2012-04-25T00:01:43Z</td>\n",
              "      <td>Web Development</td>\n",
              "    </tr>\n",
              "    <tr>\n",
              "      <th>2570</th>\n",
              "      <td>47963</td>\n",
              "      <td>Coding for Entrepreneurs: Learn Python, Django...</td>\n",
              "      <td>https://www.udemy.com/coding-for-entrepreneurs/</td>\n",
              "      <td>True</td>\n",
              "      <td>195</td>\n",
              "      <td>23412</td>\n",
              "      <td>799</td>\n",
              "      <td>251</td>\n",
              "      <td>All Levels</td>\n",
              "      <td>45.0</td>\n",
              "      <td>2013-04-08T00:46:14Z</td>\n",
              "      <td>Web Development</td>\n",
              "    </tr>\n",
              "    <tr>\n",
              "      <th>2528</th>\n",
              "      <td>391546</td>\n",
              "      <td>Learn Python and Django: Payment Processing</td>\n",
              "      <td>https://www.udemy.com/learn-django-code-accept...</td>\n",
              "      <td>True</td>\n",
              "      <td>70</td>\n",
              "      <td>17714</td>\n",
              "      <td>198</td>\n",
              "      <td>23</td>\n",
              "      <td>All Levels</td>\n",
              "      <td>3.5</td>\n",
              "      <td>2015-02-09T15:37:56Z</td>\n",
              "      <td>Web Development</td>\n",
              "    </tr>\n",
              "    <tr>\n",
              "      <th>3200</th>\n",
              "      <td>822444</td>\n",
              "      <td>Python and Django Full Stack Web Developer Boo...</td>\n",
              "      <td>https://www.udemy.com/python-and-django-full-s...</td>\n",
              "      <td>True</td>\n",
              "      <td>200</td>\n",
              "      <td>11832</td>\n",
              "      <td>1883</td>\n",
              "      <td>191</td>\n",
              "      <td>All Levels</td>\n",
              "      <td>31.5</td>\n",
              "      <td>2017-02-24T18:40:55Z</td>\n",
              "      <td>Web Development</td>\n",
              "    </tr>\n",
              "    <tr>\n",
              "      <th>3507</th>\n",
              "      <td>394832</td>\n",
              "      <td>Fun and creative web engineering with Python a...</td>\n",
              "      <td>https://www.udemy.com/web-engineering-with-pyt...</td>\n",
              "      <td>False</td>\n",
              "      <td>0</td>\n",
              "      <td>10917</td>\n",
              "      <td>319</td>\n",
              "      <td>25</td>\n",
              "      <td>All Levels</td>\n",
              "      <td>2.0</td>\n",
              "      <td>2015-06-09T19:51:50Z</td>\n",
              "      <td>Web Development</td>\n",
              "    </tr>\n",
              "    <tr>\n",
              "      <th>2553</th>\n",
              "      <td>938560</td>\n",
              "      <td>The Complete Ethical Hacking Course 2.0: Pytho...</td>\n",
              "      <td>https://www.udemy.com/penetration-testing-ethi...</td>\n",
              "      <td>True</td>\n",
              "      <td>195</td>\n",
              "      <td>7827</td>\n",
              "      <td>268</td>\n",
              "      <td>66</td>\n",
              "      <td>All Levels</td>\n",
              "      <td>11.0</td>\n",
              "      <td>2016-09-26T15:08:29Z</td>\n",
              "      <td>Web Development</td>\n",
              "    </tr>\n",
              "    <tr>\n",
              "      <th>3138</th>\n",
              "      <td>631128</td>\n",
              "      <td>Complete Python Web Course: Build 8 Python Web...</td>\n",
              "      <td>https://www.udemy.com/the-complete-python-web-...</td>\n",
              "      <td>True</td>\n",
              "      <td>110</td>\n",
              "      <td>7489</td>\n",
              "      <td>941</td>\n",
              "      <td>173</td>\n",
              "      <td>All Levels</td>\n",
              "      <td>16.0</td>\n",
              "      <td>2015-11-08T20:57:35Z</td>\n",
              "      <td>Web Development</td>\n",
              "    </tr>\n",
              "    <tr>\n",
              "      <th>3197</th>\n",
              "      <td>76052</td>\n",
              "      <td>Try Django 1.9 | Build a Blog and Learn Python...</td>\n",
              "      <td>https://www.udemy.com/try-django/</td>\n",
              "      <td>True</td>\n",
              "      <td>50</td>\n",
              "      <td>7407</td>\n",
              "      <td>172</td>\n",
              "      <td>147</td>\n",
              "      <td>All Levels</td>\n",
              "      <td>20.0</td>\n",
              "      <td>2014-03-04T07:12:21Z</td>\n",
              "      <td>Web Development</td>\n",
              "    </tr>\n",
              "    <tr>\n",
              "      <th>2681</th>\n",
              "      <td>477702</td>\n",
              "      <td>Python for Beginners: Python Programming Langu...</td>\n",
              "      <td>https://www.udemy.com/python-course/</td>\n",
              "      <td>True</td>\n",
              "      <td>150</td>\n",
              "      <td>6153</td>\n",
              "      <td>125</td>\n",
              "      <td>84</td>\n",
              "      <td>Beginner Level</td>\n",
              "      <td>5.0</td>\n",
              "      <td>2015-06-14T18:18:57Z</td>\n",
              "      <td>Web Development</td>\n",
              "    </tr>\n",
              "    <tr>\n",
              "      <th>3203</th>\n",
              "      <td>970600</td>\n",
              "      <td>REST APIs with Flask and Python</td>\n",
              "      <td>https://www.udemy.com/rest-api-flask-and-python/</td>\n",
              "      <td>True</td>\n",
              "      <td>110</td>\n",
              "      <td>5151</td>\n",
              "      <td>737</td>\n",
              "      <td>115</td>\n",
              "      <td>Intermediate Level</td>\n",
              "      <td>12.5</td>\n",
              "      <td>2016-11-06T19:00:38Z</td>\n",
              "      <td>Web Development</td>\n",
              "    </tr>\n",
              "  </tbody>\n",
              "</table>\n",
              "</div>\n",
              "      <button class=\"colab-df-convert\" onclick=\"convertToInteractive('df-2fc77a50-e423-4451-8a70-0102e479eeae')\"\n",
              "              title=\"Convert this dataframe to an interactive table.\"\n",
              "              style=\"display:none;\">\n",
              "        \n",
              "  <svg xmlns=\"http://www.w3.org/2000/svg\" height=\"24px\"viewBox=\"0 0 24 24\"\n",
              "       width=\"24px\">\n",
              "    <path d=\"M0 0h24v24H0V0z\" fill=\"none\"/>\n",
              "    <path d=\"M18.56 5.44l.94 2.06.94-2.06 2.06-.94-2.06-.94-.94-2.06-.94 2.06-2.06.94zm-11 1L8.5 8.5l.94-2.06 2.06-.94-2.06-.94L8.5 2.5l-.94 2.06-2.06.94zm10 10l.94 2.06.94-2.06 2.06-.94-2.06-.94-.94-2.06-.94 2.06-2.06.94z\"/><path d=\"M17.41 7.96l-1.37-1.37c-.4-.4-.92-.59-1.43-.59-.52 0-1.04.2-1.43.59L10.3 9.45l-7.72 7.72c-.78.78-.78 2.05 0 2.83L4 21.41c.39.39.9.59 1.41.59.51 0 1.02-.2 1.41-.59l7.78-7.78 2.81-2.81c.8-.78.8-2.07 0-2.86zM5.41 20L4 18.59l7.72-7.72 1.47 1.35L5.41 20z\"/>\n",
              "  </svg>\n",
              "      </button>\n",
              "      \n",
              "  <style>\n",
              "    .colab-df-container {\n",
              "      display:flex;\n",
              "      flex-wrap:wrap;\n",
              "      gap: 12px;\n",
              "    }\n",
              "\n",
              "    .colab-df-convert {\n",
              "      background-color: #E8F0FE;\n",
              "      border: none;\n",
              "      border-radius: 50%;\n",
              "      cursor: pointer;\n",
              "      display: none;\n",
              "      fill: #1967D2;\n",
              "      height: 32px;\n",
              "      padding: 0 0 0 0;\n",
              "      width: 32px;\n",
              "    }\n",
              "\n",
              "    .colab-df-convert:hover {\n",
              "      background-color: #E2EBFA;\n",
              "      box-shadow: 0px 1px 2px rgba(60, 64, 67, 0.3), 0px 1px 3px 1px rgba(60, 64, 67, 0.15);\n",
              "      fill: #174EA6;\n",
              "    }\n",
              "\n",
              "    [theme=dark] .colab-df-convert {\n",
              "      background-color: #3B4455;\n",
              "      fill: #D2E3FC;\n",
              "    }\n",
              "\n",
              "    [theme=dark] .colab-df-convert:hover {\n",
              "      background-color: #434B5C;\n",
              "      box-shadow: 0px 1px 3px 1px rgba(0, 0, 0, 0.15);\n",
              "      filter: drop-shadow(0px 1px 2px rgba(0, 0, 0, 0.3));\n",
              "      fill: #FFFFFF;\n",
              "    }\n",
              "  </style>\n",
              "\n",
              "      <script>\n",
              "        const buttonEl =\n",
              "          document.querySelector('#df-2fc77a50-e423-4451-8a70-0102e479eeae button.colab-df-convert');\n",
              "        buttonEl.style.display =\n",
              "          google.colab.kernel.accessAllowed ? 'block' : 'none';\n",
              "\n",
              "        async function convertToInteractive(key) {\n",
              "          const element = document.querySelector('#df-2fc77a50-e423-4451-8a70-0102e479eeae');\n",
              "          const dataTable =\n",
              "            await google.colab.kernel.invokeFunction('convertToInteractive',\n",
              "                                                     [key], {});\n",
              "          if (!dataTable) return;\n",
              "\n",
              "          const docLinkHtml = 'Like what you see? Visit the ' +\n",
              "            '<a target=\"_blank\" href=https://colab.research.google.com/notebooks/data_table.ipynb>data table notebook</a>'\n",
              "            + ' to learn more about interactive tables.';\n",
              "          element.innerHTML = '';\n",
              "          dataTable['output_type'] = 'display_data';\n",
              "          await google.colab.output.renderOutput(dataTable, element);\n",
              "          const docLink = document.createElement('div');\n",
              "          docLink.innerHTML = docLinkHtml;\n",
              "          element.appendChild(docLink);\n",
              "        }\n",
              "      </script>\n",
              "    </div>\n",
              "  </div>\n",
              "  "
            ]
          },
          "metadata": {},
          "execution_count": 79
        }
      ]
    },
    {
      "cell_type": "code",
      "source": [
        ""
      ],
      "metadata": {
        "id": "ab2dqyh2HhnD"
      },
      "execution_count": 82,
      "outputs": []
    },
    {
      "cell_type": "code",
      "source": [
        "jovian.commit(project=\"udemy-courses-dataset\")"
      ],
      "metadata": {
        "colab": {
          "base_uri": "https://localhost:8080/",
          "height": 88
        },
        "id": "WSg708_EIpYO",
        "outputId": "edc52dd5-e6c5-4af1-e425-288a38ccad36"
      },
      "execution_count": 83,
      "outputs": [
        {
          "output_type": "stream",
          "name": "stdout",
          "text": [
            "[jovian] Detected Colab notebook...\u001b[0m\n",
            "[jovian] Uploading colab notebook to Jovian...\u001b[0m\n",
            "Committed successfully! https://jovian.ai/ayushay1010/udemy-courses-dataset\n"
          ]
        },
        {
          "output_type": "execute_result",
          "data": {
            "text/plain": [
              "'https://jovian.ai/ayushay1010/udemy-courses-dataset'"
            ],
            "application/vnd.google.colaboratory.intrinsic+json": {
              "type": "string"
            }
          },
          "metadata": {},
          "execution_count": 83
        }
      ]
    },
    {
      "cell_type": "code",
      "source": [
        ""
      ],
      "metadata": {
        "id": "Hr21apuFJGU_"
      },
      "execution_count": null,
      "outputs": []
    }
  ],
  "metadata": {
    "kernelspec": {
      "display_name": "Python 3 (ipykernel)",
      "language": "python",
      "name": "python3"
    },
    "language_info": {
      "codemirror_mode": {
        "name": "ipython",
        "version": 3
      },
      "file_extension": ".py",
      "mimetype": "text/x-python",
      "name": "python",
      "nbconvert_exporter": "python",
      "pygments_lexer": "ipython3",
      "version": "3.9.6"
    },
    "colab": {
      "name": "udemy-courses-dataset.ipynb",
      "provenance": [],
      "collapsed_sections": []
    }
  },
  "nbformat": 4,
  "nbformat_minor": 0
}